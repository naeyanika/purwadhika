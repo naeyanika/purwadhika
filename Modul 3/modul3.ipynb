{
 "cells": [
  {
   "cell_type": "markdown",
   "id": "0c2d9d1a",
   "metadata": {},
   "source": [
    "### Boolean\n",
    "Hasil dari statement tidak selalu true atau false.\n"
   ]
  },
  {
   "cell_type": "code",
   "execution_count": 1,
   "id": "79e0626d",
   "metadata": {},
   "outputs": [
    {
     "name": "stdout",
     "output_type": "stream",
     "text": [
      "Jaemin belum makan, ayo makan dulu!\n",
      "Jaemin senang kalau dikasih es krim.\n"
     ]
    }
   ],
   "source": [
    "# Apakah Jaemin sudah makan?\n",
    "jaemin_sudah_makan = False\n",
    "\n",
    "if jaemin_sudah_makan:\n",
    "    print(\"Jaemin sudah kenyang.\")\n",
    "else:\n",
    "    print(\"Jaemin belum makan, ayo makan dulu!\")\n",
    "\n",
    "# Apakah Jaemin suka es krim?\n",
    "jaemin_suka_eskrim = True\n",
    "\n",
    "if jaemin_suka_eskrim:\n",
    "    print(\"Jaemin senang kalau dikasih es krim.\")"
   ]
  },
  {
   "cell_type": "markdown",
   "id": "dc4de6fd",
   "metadata": {},
   "source": [
    "## Comparison operators\n",
    "1. '>' lebih besar\n",
    "2. '<' lebih kecil\n",
    "3. '>=' lebih besar samadengan\n",
    "4. '<=' lebih kecil samadengan\n",
    "5. '==' sama dengan\n",
    "6. '!=' tidak sama dengan"
   ]
  },
  {
   "cell_type": "markdown",
   "id": "05580849",
   "metadata": {},
   "source": [
    "## Logical operator\n",
    "1. and = jika kedua ekspresi bernilai True maka hasilnya True, salah satunya false maka false\n",
    "2. or = jika salah satu ekspresi bernilai True maka hasilnya True, jika keduanya false maka false\n",
    "3. not = membalikkan nilai boolean True atau False"
   ]
  },
  {
   "cell_type": "code",
   "execution_count": 4,
   "id": "92bdbd66",
   "metadata": {},
   "outputs": [
    {
     "name": "stdout",
     "output_type": "stream",
     "text": [
      "False\n",
      "False\n"
     ]
    }
   ],
   "source": [
    "print( 1 == \"1\")\n",
    "print( not (1 == \"1\") and \"good\".isdigit() )"
   ]
  },
  {
   "cell_type": "code",
   "execution_count": 2,
   "id": "b5542b09",
   "metadata": {},
   "outputs": [
    {
     "name": "stdout",
     "output_type": "stream",
     "text": [
      "Jaemin adalah member NCT Dream dan NCT U.\n",
      "Jaemin adalah member NCT127 atau NCT U.\n",
      "Jaemin bukan member NCT127.\n"
     ]
    }
   ],
   "source": [
    "# Contoh logical operator dengan Jaemin dan NCT\n",
    "\n",
    "jaemin_nct_dream = True\n",
    "jaemin_nct_u = True\n",
    "jaemin_nct127 = False\n",
    "\n",
    "# and: Jaemin harus member NCT Dream dan NCT U\n",
    "if jaemin_nct_dream and jaemin_nct_u:\n",
    "    print(\"Jaemin adalah member NCT Dream dan NCT U.\")\n",
    "\n",
    "# or: Jaemin member NCT127 atau NCT U\n",
    "if jaemin_nct127 or jaemin_nct_u:\n",
    "    print(\"Jaemin adalah member NCT127 atau NCT U.\")\n",
    "\n",
    "# not: Jaemin bukan member NCT127\n",
    "if not jaemin_nct127:\n",
    "    print(\"Jaemin bukan member NCT127.\")"
   ]
  },
  {
   "cell_type": "code",
   "execution_count": 5,
   "id": "02cee60c",
   "metadata": {},
   "outputs": [
    {
     "name": "stdout",
     "output_type": "stream",
     "text": [
      "False\n"
     ]
    }
   ],
   "source": [
    "print(5<5)"
   ]
  },
  {
   "cell_type": "markdown",
   "id": "af7d1d7c",
   "metadata": {},
   "source": [
    "## Conditional statement\n",
    "1. akan jalan ketika hanya bernilai True\n",
    "2. jika bernilai False maka tidak akan jalan\n"
   ]
  },
  {
   "cell_type": "code",
   "execution_count": 8,
   "id": "bfd39fb7",
   "metadata": {},
   "outputs": [],
   "source": [
    "# Kondisi 1 - If tanpa ada kondisi alternatif\n",
    "\n",
    "usia = int(input(\"Masukkan Usia Anda: \"))\n",
    "\n",
    "if usia < 17:\n",
    "    print(f\"Karena Usia Anda Masih {usia} Tahun, Maka Anda Belum Bisa Buat KTP\")\n",
    "    sisa = 17 - usia\n",
    "    print(f\"Anda Baru Bisa Buat KTP {sisa} Tahun\")"
   ]
  },
  {
   "cell_type": "code",
   "execution_count": 10,
   "id": "a99cdd00",
   "metadata": {},
   "outputs": [
    {
     "name": "stdout",
     "output_type": "stream",
     "text": [
      "Karena Usia Anda Masih 14 Tahun, Maka Anda Belum Bisa Buat KTP\n",
      "Anda Baru Bisa Buat KTP 3 Tahun lagi\n"
     ]
    }
   ],
   "source": [
    "# Kondisi 2 - If dengan kondisi alternatif\n",
    "\n",
    "usia = int(input(\"Masukkan Usia Anda: \"))\n",
    "\n",
    "if usia < 17:\n",
    "    print(f\"Karena Usia Anda Masih {usia} Tahun, Maka Anda Belum Bisa Buat KTP\")\n",
    "    sisa = 17 - usia\n",
    "    print(f\"Anda Baru Bisa Buat KTP {sisa} Tahun lagi\")\n",
    "else:\n",
    "    print(f\"Usia Anda {usia} Tahun, Anda Sudah Bisa Buat KTP\")"
   ]
  },
  {
   "cell_type": "code",
   "execution_count": 13,
   "id": "9ecd51aa",
   "metadata": {},
   "outputs": [
    {
     "name": "stdout",
     "output_type": "stream",
     "text": [
      "Karena Nilai Anda 55, Maka Anda C\n"
     ]
    }
   ],
   "source": [
    "# Kondisi 3 - If dengan kondisi alternatif lebih dari 1\n",
    "\n",
    "nilai = int(input(\"Masukkan Nilai Anda: \"))\n",
    "\n",
    "if nilai == 100:\n",
    "    print(f\"Selamat! Nilai Anda Sempurna {nilai}\")\n",
    "elif nilai >= 85 and nilai < 100:\n",
    "    print(f\"Karena Nilai Anda {nilai}, Maka Anda A\")\n",
    "elif nilai >= 75 :\n",
    "    print(f\"Karena Nilai Anda {nilai}, Maka Anda B\")\n",
    "elif nilai >= 50 :\n",
    "    print(f\"Karena Nilai Anda {nilai}, Maka Anda C\")\n",
    "else:\n",
    "    print(f\"Karena Nilai Anda {nilai}, Maka Anda tidak lulus\")"
   ]
  },
  {
   "cell_type": "code",
   "execution_count": 16,
   "id": "86bf4b87",
   "metadata": {},
   "outputs": [
    {
     "name": "stdout",
     "output_type": "stream",
     "text": [
      "Hanya bisa berjalan bisa di input angka!\n"
     ]
    }
   ],
   "source": [
    "try:\n",
    "    angka = int(input(\"Masukkan Angka: \"))\n",
    "\n",
    "    if angka < 0: #cek apakah angka negatif\n",
    "        print(\"Silahkan Masukkan Angka Positif\")\n",
    "    elif angka == 0: #cek apakah angka nol\n",
    "        print(\"Angka nol bukan bilangan ganjil maupun genap\")\n",
    "    elif angka % 2 == 0: # modulus dipakai untuk cek sisa bagi 2\n",
    "        print(f\"Angka {angka} adalah bilangan genap\")\n",
    "    else: #sisa nya akan otomatis ganjil\n",
    "        print(f\"Angka {angka} adalah bilangan ganjil\")\n",
    "\n",
    "\n",
    "except ValueError:\n",
    "    print(\"Hanya bisa berjalan jika di input angka!\")    "
   ]
  },
  {
   "cell_type": "code",
   "execution_count": 24,
   "id": "b0821ca0",
   "metadata": {},
   "outputs": [
    {
     "name": "stdout",
     "output_type": "stream",
     "text": [
      "Massa 55.5 kg dan tinggi 1.71 m\n",
      "IMT = 19.09, BERAT BADAN IDEAL\n"
     ]
    }
   ],
   "source": [
    "def hitung_imt(massa, tinggi_cm): #definisi fungsi hitung imt nya\n",
    "    # Konversi tinggi ke meter\n",
    "    tinggi_m = tinggi_cm / 100  \n",
    "    # Hitung IMT\n",
    "    imt = massa / (tinggi_m ** 2)\n",
    "\n",
    "\n",
    "    # penetuan kategori IMT\n",
    "    \n",
    "    # < 18.5 → berat badan kurang\n",
    "    # 18.5 – 24.9 → ideal\n",
    "    # 25 – 29.9 → berlebih\n",
    "    # 30 – 39.9 → sangat berlebih\n",
    "    # > 39.9 → obesitas\n",
    "\n",
    "    if imt < 18.5:\n",
    "        kategori = \"BERAT BADAN KURANG\"\n",
    "    elif 18.5 <= imt <= 24.9:\n",
    "        kategori = \"BERAT BADAN IDEAL\"\n",
    "    elif 25.0 <= imt <= 29.9:\n",
    "        kategori = \"BERAT BADAN BERLEBIH\"\n",
    "    elif 30.0 <= imt <= 39.9:\n",
    "        kategori = \"BERAT BADAN SANGAT BERLEBIH\"\n",
    "    else:\n",
    "        kategori = \"OBESITAS\"\n",
    "    \n",
    "    return imt, kategori\n",
    "\n",
    "#Input-an user = konversi string ke float karena berat dan tinggi akan berupa angka desimal jadi akan lebih aman jika di convert ke float\n",
    "massa = float(input(\"Masukkan massa (kg): \"))\n",
    "tinggi = float(input(\"Masukkan tinggi (cm): \"))\n",
    "\n",
    "imt, kategori = hitung_imt(massa, tinggi)\n",
    "print(f\"Massa {massa} kg dan tinggi {tinggi/100:.2f} m\")\n",
    "print(f\"IMT = {imt:.2f}, {kategori}\")"
   ]
  },
  {
   "cell_type": "code",
   "execution_count": null,
   "id": "8c11c5fb",
   "metadata": {},
   "outputs": [],
   "source": [
    "# harga buah\n",
    "HARGA = {\n",
    "    \"apel\": 10000,\n",
    "    \"jeruk\": 15000,\n",
    "    \"anggur\": 20000,\n",
    "}\n",
    "\n",
    "def rupiah(n: int) -> str:\n",
    "\n",
    "    return f\"{n:,}\".replace(\",\", \".\")\n",
    "    #Fungsi untuk memformat angka ke format rupiah sederhana.\n",
    "    #Contoh: 160000 -> '160.000'\n",
    "\n",
    "def input_bilangan_bulat(prompt: str) -> int:\n",
    "    #Fungsi untuk meminta input bilangan bulat >= 0 dari user.\n",
    "    #Akan terus meminta input sampai user memasukkan angka yang valid.\n",
    "    while True:\n",
    "        s = input(prompt).strip()\n",
    "        try:\n",
    "            val = int(s)\n",
    "            if val < 0:\n",
    "                print(\"Masukan harus >= 0, coba lagi ya.\")\n",
    "                continue\n",
    "            return val\n",
    "        except ValueError:\n",
    "            print(\"Masukan harus angka bulat, coba lagi ya.\")\n",
    "\n",
    "def input_uang(prompt: str) -> int:\n",
    "    #Fungsi untuk meminta input uang (bilangan bulat >= 0) dari user.\n",
    "    #Akan terus meminta input sampai user memasukkan angka yang valid.\n",
    "    while True:\n",
    "        s = input(prompt).strip()\n",
    "        try:\n",
    "            val = int(s)\n",
    "            if val < 0:\n",
    "                print(\"Uang tidak boleh negatif, coba lagi ya.\")\n",
    "                continue\n",
    "            return val\n",
    "        except ValueError:\n",
    "            print(\"Masukan harus angka bulat, coba lagi ya.\")\n",
    "\n",
    "# --------------------- Form Input --------------------- #\n",
    "# --- Input jumlah buah ---\n",
    "jml_apel   = input_bilangan_bulat(\"Masukkan Jumlah Apel  : \")\n",
    "jml_jeruk  = input_bilangan_bulat(\"Masukkan Jumlah Jeruk : \")\n",
    "jml_anggur = input_bilangan_bulat(\"Masukkan Jumlah Anggur: \")\n",
    "\n",
    "# --- Hitung detail ---\n",
    "# hitung subtotal untuk setiap buah dan total keseluruhan belanjaan\n",
    "sub_apel   = jml_apel   * HARGA[\"apel\"]\n",
    "sub_jeruk  = jml_jeruk  * HARGA[\"jeruk\"]\n",
    "sub_anggur = jml_anggur * HARGA[\"anggur\"]\n",
    "total      = sub_apel + sub_jeruk + sub_anggur\n",
    "\n",
    "# --- Cetak ringkasan belanja ---\n",
    "# menapilkan detail belanja (jumlah, harga, satuan dan subtotal) dan total belanja\n",
    "print(\"\\nDetail Belanja\")\n",
    "print(f\"Apel  : {jml_apel} x {rupiah(HARGA['apel'])}  = {rupiah(sub_apel)}\")\n",
    "print(f\"Jeruk : {jml_jeruk} x {rupiah(HARGA['jeruk'])} = {rupiah(sub_jeruk)}\")\n",
    "print(f\"Anggur: {jml_anggur} x {rupiah(HARGA['anggur'])}= {rupiah(sub_anggur)}\")\n",
    "print(f\"\\nTotal : {rupiah(total)}\")\n",
    "\n",
    "# --- Donasi kemanusiaan ---\n",
    "# menawarkan user untuk berdonasi. Jika ya, user diminta memasukkan nominal donasi.\n",
    "donasi = 0\n",
    "donasi_ya = input(\"\\nApakah Anda ingin berdonasi untuk kemanusiaan? (ya/tidak): \").strip().lower()\n",
    "if donasi_ya == \"ya\":\n",
    "    donasi = input_bilangan_bulat(\"Masukkan nominal donasi: \")\n",
    "    print(f\"Terima kasih atas donasi sebesar {rupiah(donasi)}\")\n",
    "\n",
    "total_bayar = total + donasi\n",
    "\n",
    "# --- Input uang dan tentukan kondisi ---\n",
    "# Meminta user memasukkan uang pembayaran, lalu menentukan apakah uang cukup, pas, atau kurang.\n",
    "uang = input_uang(f\"\\nMasukkan jumlah uang (Total bayar: {rupiah(total_bayar)}): \")\n",
    "\n",
    "if uang < total_bayar:\n",
    "    kekurangan = total_bayar - uang\n",
    "    print(f\"Transaksi anda dibatalkan, uangnya kurang sebesar {rupiah(kekurangan)}\")\n",
    "elif uang == total_bayar:\n",
    "    print(\"Terima kasih\")\n",
    "else:\n",
    "    kembalian = uang - total_bayar\n",
    "    print(\"Terima kasih\")\n",
    "    print(f\"Uang kembali anda : {rupiah(kembalian)}\")"
   ]
  },
  {
   "cell_type": "code",
   "execution_count": 29,
   "id": "ae986319",
   "metadata": {},
   "outputs": [
    {
     "name": "stdout",
     "output_type": "stream",
     "text": [
      "Siapa bias kamu di NCT Dream?\n",
      "Pilihan: Mark, Renjun, Jeno, Haechan, Jaemin, Chenle, Jisung\n",
      "Wah, Jeno memang keren banget!\n",
      "Jeno juga punya banyak bakat, ya!\n",
      "Wah, Jeno memang keren banget!\n",
      "Jeno juga punya banyak bakat, ya!\n",
      "Siapkan mental dan pertanyaan terbaikmu!\n",
      "Siapkan mental dan pertanyaan terbaikmu!\n"
     ]
    }
   ],
   "source": [
    "# Daftar member NCT Dream\n",
    "members = [\n",
    "    \"mark\", \"renjun\", \"jeno\", \"haechan\", \"jaemin\", \"chenle\", \"jisung\"\n",
    "]\n",
    "\n",
    "print(\"Siapa bias kamu di NCT Dream?\")\n",
    "print(\"Pilihan: \" + \", \".join([m.capitalize() for m in members]))\n",
    "\n",
    "# Input user diubah ke lowercase agar pencocokan tidak case sensitive\n",
    "bias = input(\"Masukkan nama bias kamu: \").strip().lower()\n",
    "\n",
    "if bias in members:\n",
    "    print(f\"Wah, {bias.capitalize()} memang keren banget!\")\n",
    "    if bias == \"jaemin\":\n",
    "        print(\"Jaemin terkenal dengan visual dan kepribadiannya yang lucu!\")\n",
    "    elif bias == \"jisung\":\n",
    "        print(\"Jisung maknae yang jago dance!\")\n",
    "    elif bias == \"mark\":\n",
    "        print(\"Mark leader yang multitalenta!\")\n",
    "    else:\n",
    "        print(f\"{bias.capitalize()} juga punya banyak bakat, ya!\")\n",
    "else:\n",
    "    print(\"Sepertinya nama itu bukan member NCT Dream. Coba cek lagi, ya!\")\n",
    "\n",
    "# Tambahan: Apakah kamu mau ikut fancall?\n",
    "ikut = input(\"Mau ikut fancall dengan NCT Dream? (ya/tidak): \").strip().lower()\n",
    "if ikut == \"ya\":\n",
    "    print(\"Siapkan mental dan pertanyaan terbaikmu!\")\n",
    "else:\n",
    "    print(\"Tidak apa-apa, dukung terus NCT Dream dari rumah ya~\")"
   ]
  },
  {
   "cell_type": "markdown",
   "id": "8ac30030",
   "metadata": {},
   "source": [
    "### SOAL NOMOR 2\n"
   ]
  },
  {
   "cell_type": "code",
   "execution_count": null,
   "id": "906997d1",
   "metadata": {},
   "outputs": [
    {
     "name": "stdout",
     "output_type": "stream",
     "text": [
      "MENU MENGHITUNG RUMUS LUAS SEGITIGA DAN PERSEGI\n",
      "Masukan Angka 1 Untuk Menghitung Luas Segitiga\n",
      "Masukan Angka 2 Untuk Menghitung Luas Persegi\n",
      "Luas Segitiga Tersebut Adalah 5.0\n",
      "\n",
      "Luas Segitiga Tersebut Adalah 5.0\n",
      "\n"
     ]
    }
   ],
   "source": [
    "# Buat definisi luas segitiga beserta rumus\n",
    "def hitung_luas_segitiga():\n",
    "    alas = float(input(\"Masukan Alas Segitiga : \"))\n",
    "    tinggi = float(input(\"Masukan Tinggi Segitiga : \"))\n",
    "    luas = 0.5 * alas * tinggi\n",
    "    print(f\"Luas Segitiga Tersebut Adalah {luas}\\n\")\n",
    "\n",
    "# Buat definisi luas persegi beserta rumus\n",
    "def hitung_luas_persegi():\n",
    "    sisi = float(input(\"Masukan Sisi Dari Persegi : \"))\n",
    "    luas = sisi * sisi\n",
    "    print(f\"Luas Persegi Tersebut Adalah {luas}\\n\")\n",
    "\n",
    "# Program Menu\n",
    "print(\"MENU MENGHITUNG RUMUS LUAS SEGITIGA DAN PERSEGI\")\n",
    "print(\"Masukan Angka 1 Untuk Menghitung Luas Segitiga\")\n",
    "print(\"Masukan Angka 2 Untuk Menghitung Luas Persegi\")\n",
    "\n",
    "pilihan = input(\"Pilihan Menu Yang Diinginkan : \")\n",
    "\n",
    "if pilihan == \"1\":\n",
    "    hitung_luas_segitiga()\n",
    "elif pilihan == \"2\":\n",
    "    hitung_luas_persegi()\n",
    "else:\n",
    "    print(\"Masukan Inputan Yang Benar\")\n"
   ]
  },
  {
   "cell_type": "markdown",
   "id": "7fe78417",
   "metadata": {},
   "source": [
    "### SOAL NOMOR 4\n"
   ]
  },
  {
   "cell_type": "code",
   "execution_count": 35,
   "id": "901331b4",
   "metadata": {},
   "outputs": [
    {
     "name": "stdout",
     "output_type": "stream",
     "text": [
      "Jumlah Kalimat Ideal, Berikut Ini Adalah Kalimatnya : lorem ipsum\n"
     ]
    }
   ],
   "source": [
    "# Program Mengecek Panjang Kalimat\n",
    "\n",
    "kalimat = input(\"Masukkan Sebuah Kalimat : \")\n",
    "\n",
    "if len(kalimat) == 0:\n",
    "    print(\"Masukkan sebuah kalimat\")\n",
    "elif len(kalimat) > 20:\n",
    "    print(\"Kalimat yang dimasukkan terlalu panjang\")\n",
    "else:\n",
    "    print(\"Jumlah Kalimat Ideal, Berikut Ini Adalah Kalimatnya :\", kalimat)\n"
   ]
  },
  {
   "cell_type": "markdown",
   "id": "4c929bd2",
   "metadata": {},
   "source": [
    "### SOAL NOMOR 5"
   ]
  },
  {
   "cell_type": "code",
   "execution_count": null,
   "id": "14a4f4b1",
   "metadata": {},
   "outputs": [
    {
     "name": "stdout",
     "output_type": "stream",
     "text": [
      "Input harus berupa angka!\n"
     ]
    }
   ],
   "source": [
    "# Program Konversi Fahrenheit ke Celsius dan Analisa Suhu Tubuh\n",
    "\n",
    "try:\n",
    "    # Buat input dalam fahrenheit lalu diubah jadi float\n",
    "    fahrenheit = float(input(\"Masukkan Suhu (Dalam Fahrenheit) : \"))\n",
    "\n",
    "    # konversi fahrenheit ke celcius\n",
    "    celsius = (fahrenheit - 32) * 5 / 9\n",
    "    print(\"Suhu Badan Anda Adalah :\", celsius, \"Derajat Celcius\")\n",
    "\n",
    "    # kondisi cek suhu\n",
    "    if celsius < 36.5:\n",
    "        print(\"ANDA HIPOTERMIA, SEGERA BERI PERTOLONGAN PERTAMA\")\n",
    "    elif 36.5 <= celsius <= 37.2:\n",
    "        print(\"SUHU BADAN NORMAL\")\n",
    "    elif 37.2 < celsius <= 41:\n",
    "        print(\"ANDA HIPERTERMIA, SEGERA LAKUKAN SWAB TEST DAN KARANTINA MANDIRI\")\n",
    "    else:\n",
    "        print(\"ANDA BUKAN MANUSIA JIRRR\")\n",
    "        \n",
    "except ValueError:\n",
    "    print(\"Input harus berupa angka!\")"
   ]
  },
  {
   "cell_type": "markdown",
   "id": "3b330a89",
   "metadata": {},
   "source": [
    "### SOAL NOMOR 6"
   ]
  },
  {
   "cell_type": "code",
   "execution_count": 41,
   "id": "c97920d5",
   "metadata": {},
   "outputs": [
    {
     "name": "stdout",
     "output_type": "stream",
     "text": [
      "27.0\n"
     ]
    }
   ],
   "source": [
    "# Program eksekusi nilai X, Y, Z\n",
    "\n",
    "# input dari user\n",
    "x = float(input(\"Masukan Nilai X : \"))\n",
    "y = float(input(\"Masukan Nilai Y : \"))\n",
    "z = float(input(\"Masukan Nilai Z : \"))\n",
    "\n",
    "# kondisi\n",
    "if x == y == z:\n",
    "    hasil = (x + y + z) * x\n",
    "else:\n",
    "    hasil = x + y + z\n",
    "\n",
    "# output\n",
    "print(hasil)\n"
   ]
  },
  {
   "cell_type": "markdown",
   "id": "10852a54",
   "metadata": {},
   "source": [
    "### SOAL NOMOR 7"
   ]
  },
  {
   "cell_type": "code",
   "execution_count": 47,
   "id": "136a7c90",
   "metadata": {},
   "outputs": [
    {
     "name": "stdout",
     "output_type": "stream",
     "text": [
      "Suhu -17.0C jika dikonversikan ke dalam Fahrenheit akan menjadi 1 Derajat Fahrenheit\n"
     ]
    }
   ],
   "source": [
    "# Program Konversi Suhu Celsius <-> Fahrenheit\n",
    "\n",
    "suhu = input(\"Masukan Suhu Yang Ingin Dikonversikan (Contoh : 45F, 102C etc.) : \")\n",
    "\n",
    "# cek apakah input berisi huruf satuan\n",
    "if suhu[-1].upper() == \"F\":\n",
    "    # ambil angka sebelum huruf\n",
    "    nilai = float(suhu[:-1])\n",
    "    # konversi ke Celsius\n",
    "    celsius = (nilai - 32) * 5 / 9\n",
    "    print(f\"Suhu {nilai}F jika dikonversikan ke dalam Celsius akan menjadi {round(celsius)} Derajat Celsius\")\n",
    "\n",
    "elif suhu[-1].upper() == \"C\":\n",
    "    nilai = float(suhu[:-1])\n",
    "    # konversi ke Fahrenheit\n",
    "    fahrenheit = ((9 * nilai) + (32 * 5)) / 5\n",
    "    print(f\"Suhu {nilai}C jika dikonversikan ke dalam Fahrenheit akan menjadi {round(fahrenheit)} Derajat Fahrenheit\")\n",
    "\n",
    "else:\n",
    "    print(\"Masukan Input Sesuai Ketentuan.\")\n"
   ]
  },
  {
   "cell_type": "markdown",
   "id": "662a1ce8",
   "metadata": {},
   "source": [
    "### ISENG NOMOR 8"
   ]
  },
  {
   "cell_type": "code",
   "execution_count": null,
   "id": "928cdd95",
   "metadata": {},
   "outputs": [
    {
     "name": "stdout",
     "output_type": "stream",
     "text": [
      "kamu lahir tanggal 6 bulan september, zodiakmu adalah virgo.\n",
      "selamat ulang tahun lebih awal\n"
     ]
    }
   ],
   "source": [
    "from datetime import date\n",
    "import calendar\n",
    "\n",
    "# ===== INPUT =====\n",
    "day = int(input(\"Input birthday (day): \"))\n",
    "month_raw = input(\"Input month of birth (e.g. jan, januari, 3, march etc): \").lower()\n",
    "\n",
    "# ===== ALIASES BULAN (normalisasi) =====\n",
    "bulan_dict = {\n",
    "    \"1\": \"january\", \"01\": \"january\", \"jan\": \"january\", \"januari\": \"january\", \"january\": \"january\",\n",
    "    \"2\": \"february\", \"02\": \"february\", \"feb\": \"february\", \"februari\": \"february\", \"february\": \"february\",\n",
    "    \"3\": \"march\", \"03\": \"march\", \"mar\": \"march\", \"maret\": \"march\", \"march\": \"march\",\n",
    "    \"4\": \"april\", \"04\": \"april\", \"apr\": \"april\", \"april\": \"april\",\n",
    "    \"5\": \"may\", \"05\": \"may\", \"mei\": \"may\", \"may\": \"may\",\n",
    "    \"6\": \"june\", \"06\": \"june\", \"jun\": \"june\", \"juni\": \"june\", \"june\": \"june\",\n",
    "    \"7\": \"july\", \"07\": \"july\", \"jul\": \"july\", \"juli\": \"july\", \"july\": \"july\",\n",
    "    \"8\": \"august\", \"08\": \"august\", \"aug\": \"august\", \"agustus\": \"august\", \"august\": \"august\",\n",
    "    \"9\": \"september\", \"09\": \"september\", \"sep\": \"september\", \"september\": \"september\",\n",
    "    \"10\": \"october\", \"okt\": \"october\", \"oktober\": \"october\", \"october\": \"october\",\n",
    "    \"11\": \"november\", \"nov\": \"november\", \"november\": \"november\",\n",
    "    \"12\": \"december\", \"des\": \"december\", \"desember\": \"december\", \"december\": \"december\"\n",
    "}\n",
    "if month_raw not in bulan_dict:\n",
    "    print(\"Bulan tidak valid!\")\n",
    "    raise SystemExit\n",
    "month_std = bulan_dict[month_raw]\n",
    "\n",
    "# nomor bulan & label indonesia (untuk tampilan)\n",
    "bulan_ke_num = {\n",
    "    \"january\": 1, \"february\": 2, \"march\": 3, \"april\": 4, \"may\": 5, \"june\": 6,\n",
    "    \"july\": 7, \"august\": 8, \"september\": 9, \"october\": 10, \"november\": 11, \"december\": 12\n",
    "}\n",
    "label_bulan_id = {\n",
    "    \"january\": \"januari\", \"february\": \"februari\", \"march\": \"maret\", \"april\": \"april\",\n",
    "    \"may\": \"mei\", \"june\": \"juni\", \"july\": \"juli\", \"august\": \"agustus\",\n",
    "    \"september\": \"september\", \"october\": \"oktober\", \"november\": \"november\", \"december\": \"desember\"\n",
    "}\n",
    "month_num = bulan_ke_num[month_std]\n",
    "bulan_label = label_bulan_id[month_std]  # <-- ini yang dipakai untuk output\n",
    "\n",
    "# ===== VALIDASI TANGGAL =====\n",
    "today = date.today()\n",
    "max_day_this_month = calendar.monthrange(today.year, month_num)[1]\n",
    "if not (1 <= day <= max_day_this_month):\n",
    "    print(f\"Tanggal tidak valid untuk bulan tersebut! (1–{max_day_this_month})\")\n",
    "    raise SystemExit\n",
    "\n",
    "# ===== HITUNG JARAK HARI =====\n",
    "this_year_bday = date(today.year, month_num, day)\n",
    "if this_year_bday >= today:\n",
    "    days_until = (this_year_bday - today).days\n",
    "else:\n",
    "    next_year_bday = date(today.year + 1, month_num, day)\n",
    "    days_until = (next_year_bday - today).days\n",
    "\n",
    "# ===== ZODIAK =====\n",
    "if month_std == \"december\":\n",
    "    astro_sign = \"Sagittarius\" if day < 22 else \"Capricorn\"\n",
    "elif month_std == \"january\":\n",
    "    astro_sign = \"Capricorn\" if day < 20 else \"Aquarius\"\n",
    "elif month_std == \"february\":\n",
    "    astro_sign = \"Aquarius\" if day < 19 else \"Pisces\"\n",
    "elif month_std == \"march\":\n",
    "    astro_sign = \"Pisces\" if day < 21 else \"Aries\"\n",
    "elif month_std == \"april\":\n",
    "    astro_sign = \"Aries\" if day < 20 else \"Taurus\"\n",
    "elif month_std == \"may\":\n",
    "    astro_sign = \"Taurus\" if day < 21 else \"Gemini\"\n",
    "elif month_std == \"june\":\n",
    "    astro_sign = \"Gemini\" if day < 21 else \"Cancer\"\n",
    "elif month_std == \"july\":\n",
    "    astro_sign = \"Cancer\" if day < 23 else \"Leo\"\n",
    "elif month_std == \"august\":\n",
    "    astro_sign = \"Leo\" if day < 23 else \"Virgo\"\n",
    "elif month_std == \"september\":\n",
    "    astro_sign = \"Virgo\" if day < 23 else \"Libra\"\n",
    "elif month_std == \"october\":\n",
    "    astro_sign = \"Libra\" if day < 23 else \"Scorpio\"\n",
    "elif month_std == \"november\":\n",
    "    astro_sign = \"Scorpio\" if day < 22 else \"Sagittarius\"\n",
    "else:\n",
    "    astro_sign = \"Bulan tidak valid\"\n",
    "\n",
    "# ===== OUTPUT =====\n",
    "print(f\"kamu lahir tanggal {day} bulan {bulan_label}, zodiakmu adalah {astro_sign.lower()}.\")\n",
    "\n",
    "if days_until == 0:\n",
    "    print(\"happy birthday\")\n",
    "elif 1 <= days_until <= 7:\n",
    "    print(\"happy early birthday\")\n"
   ]
  }
 ],
 "metadata": {
  "kernelspec": {
   "display_name": "base",
   "language": "python",
   "name": "python3"
  },
  "language_info": {
   "codemirror_mode": {
    "name": "ipython",
    "version": 3
   },
   "file_extension": ".py",
   "mimetype": "text/x-python",
   "name": "python",
   "nbconvert_exporter": "python",
   "pygments_lexer": "ipython3",
   "version": "3.13.5"
  }
 },
 "nbformat": 4,
 "nbformat_minor": 5
}
