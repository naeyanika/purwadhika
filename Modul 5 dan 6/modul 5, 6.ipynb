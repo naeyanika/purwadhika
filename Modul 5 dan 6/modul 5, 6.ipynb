{
 "cells": [
  {
   "cell_type": "markdown",
   "id": "78d55e7c",
   "metadata": {},
   "source": [
    "### Collection data types\n",
    "---\n",
    "Tipe data yang memungkinkan penyimpanan beberapa nilai dalam satu variabel. Contoh tipe data koleksi adalah list, tuple, set, dan dictionary.\n",
    "\n",
    "1. List\n",
    "List adalah tipe data koleksi yang dapat menyimpan beberapa nilai dalam satu variabel. List bersifat terurut dan dapat diubah (mutable). Anda dapat menambahkan, menghapus, atau mengubah elemen dalam list.\n",
    "\n",
    "Contoh pembuatan list:\n",
    "listMemberNCTDream = [\"jaemin\", \"jeno\", \"jisung\", \"chenle\", \"renjun\", \"haechan\", \"mark\"]\n",
    "\n",
    "2. Tuple\n",
    "Tuple adalah tipe data koleksi yang mirip dengan list, tetapi bersifat tidak dapat diubah (immutable). Setelah tuple dibuat, Anda tidak dapat mengubah, menambahkan, atau menghapus elemen di dalamnya.\n",
    "\n",
    "contoh pembuatan tuple:\n",
    "tupleMemberNCTDream = (\"jaemin\", \"jeno\", \"jisung\", \"chenle\", \"renjun\", \"haechan\", \"mark\")\n",
    "\n",
    "3. Set\n",
    "Set adalah tipe data koleksi yang tidak berurutan dan tidak mengizinkan duplikasi elemen. Anda dapat menambahkan atau menghapus elemen dari set, tetapi tidak dapat mengubah elemen yang ada.\n",
    "\n",
    "Contoh pembuatan set:\n",
    "setMemberNCTDream = {\"jaemin\", \"jeno\", \"jisung\", \"chenle\", \"renjun\", \"haechan\", \"mark\"}\n",
    "\n",
    "4. Dictionary\n",
    "Dictionary adalah tipe data koleksi yang menyimpan pasangan kunci-nilai (key-value pairs). Setiap kunci harus unik, dan Anda dapat mengakses nilai menggunakan kunci tersebut. Dictionary bersifat tidak berurutan dan dapat diubah (mutable).\n",
    "\n",
    "Contoh pembuatan dictionary:\n",
    "nctMember1 = {\"nama\": \"Jaemin\", \"umur\": 25, \"unit\": \"Dream\"}\n",
    "nctMember2 = {\"nama\": \"Jeno\", \"umur\": 25, \"unit\": \"Dream\"}\n",
    "nctMember3 = {\"nama\": \"Jisung\", \"umur\": 23, \"unit\": \"Dream\"}\n",
    "nctMember4 = {\"nama\": \"Chenle\", \"umur\": 23, \"unit\": \"Dream\"}\n",
    "nctMember5 = {\"nama\": \"Renjun\", \"umur\": 24, \"unit\": \"Dream\"}\n",
    "nctMember6 = {\"nama\": \"Haechan\", \"umur\": 25, \"unit\": \"Dream\"}\n",
    "nctMember7 = {\"nama\": \"Mark\", \"umur\": 26, \"unit\": \"Dream\"}"
   ]
  },
  {
   "cell_type": "markdown",
   "id": "4fee76da",
   "metadata": {},
   "source": [
    "# List\n",
    "Sebagai sebuah box yang bisa menyimpan banyak barang dengan ada batasnya, barang-barang di dalam box tersebut bisa diubah, ditambah, atau dikurangi. nomor index pada list diberikan pada setiap elemen atau value-nya dimulai dari 0."
   ]
  },
  {
   "cell_type": "code",
   "execution_count": 3,
   "id": "bbf1f552",
   "metadata": {},
   "outputs": [
    {
     "name": "stdout",
     "output_type": "stream",
     "text": [
      "<class 'list'>\n",
      "['Jungwoo', 'Jaehyun', 'Doyoung', 'Ten', 'Mark', 'Haechan', 'Jeno', 'Renjun', 'Chenle', 'Jisung']\n"
     ]
    }
   ],
   "source": [
    "data = [\"Jungwoo\", \"Jaehyun\", \"Doyoung\", \"Ten\", \"Mark\", \"Haechan\", \"Jeno\", \"Renjun\", \"Chenle\", \"Jisung\"]\n",
    "print(type(data))\n",
    "print(data)"
   ]
  },
  {
   "cell_type": "code",
   "execution_count": null,
   "id": "e29de53b",
   "metadata": {},
   "outputs": [
    {
     "name": "stdout",
     "output_type": "stream",
     "text": [
      "Jaemin\n",
      "25\n",
      "NCT Dream\n",
      "False\n"
     ]
    }
   ],
   "source": [
    "# Akses bagian dari list\n",
    "data = [\"Jaemin\", \"25\", \"NCT Dream\", \"177cm\", \"False\", \"Seoul\"]\n",
    "print(data[0])  # Mengakses elemen pertama\n",
    "print(data[1])  # Mengakses elemen kedua\n",
    "print(data[2])  # Mengakses elemen ketiga\n",
    "\n",
    "\n",
    "# Kalau pakai angka negatif, dia akan menghitung dari belakang\n",
    "print(data[-2]) # Mengakses elemen kedua dari belakang\n",
    "## Slicing pada List"
   ]
  },
  {
   "cell_type": "code",
   "execution_count": null,
   "id": "821db5cb",
   "metadata": {},
   "outputs": [],
   "source": []
  },
  {
   "cell_type": "code",
   "execution_count": null,
   "id": "f4b6db25",
   "metadata": {},
   "outputs": [
    {
     "name": "stdout",
     "output_type": "stream",
     "text": [
      "['Jaemin', '25', 'NCT Dream']\n",
      "['NCT Dream', '177cm', 'False']\n",
      "['Jaemin', '25', 'NCT Dream', '177cm']\n",
      "['177cm', 'False', 'Seoul']\n",
      "['NCT Dream', '177cm', 'False', 'Seoul']\n",
      "['Jaemin', '25', 'NCT Dream', '177cm']\n",
      "['Jaemin', '25', 'NCT Dream', '177cm', 'False', 'Seoul']\n"
     ]
    }
   ],
   "source": [
    "\n",
    "data = [\"Jaemin\", \"25\", \"NCT Dream\", \"177cm\", \"False\", \"Seoul\"]\n",
    "print(data[0:3])  # Mengakses elemen dari index 0 sampai 2\n",
    "print(data[2:5])  # Mengakses elemen dari index 2 sampai 4\n",
    "print(data[:4])   # Mengakses elemen dari index 0 sampai 3\n",
    "print(data[3:])   # Mengakses elemen dari index 3 sampai akhir\n",
    "print(data[-4:])  # Mengakses elemen dari index -4 sampai akhir\n",
    "print(data[:-2])  # Mengakses elemen dari index 0 sampai -3\n",
    "print(data[:])    # Mengakses semua elemen"
   ]
  },
  {
   "cell_type": "markdown",
   "id": "b58c9e36",
   "metadata": {},
   "source": [
    "## Ubah data list"
   ]
  },
  {
   "cell_type": "code",
   "execution_count": 12,
   "id": "cc8d3631",
   "metadata": {},
   "outputs": [
    {
     "name": "stdout",
     "output_type": "stream",
     "text": [
      "Sebelum diubah: ['Jaemin', '25', 'NCT Dream', '177cm', 'False', 'Seoul']\n",
      "Setelah diubah: ['Jaemin', '26', 'NCT Dream', '177cm', 'True', 'Seoul']\n"
     ]
    }
   ],
   "source": [
    "## Ubah data pada list\n",
    "data = [\"Jaemin\", \"25\", \"NCT Dream\", \"177cm\", \"False\", \"Seoul\"]\n",
    "print(\"Sebelum diubah:\", data)\n",
    "\n",
    "data[1] = \"26\"  # Mengubah elemen di index 1\n",
    "data[4] = \"True\"  # Mengubah elemen di index 4\n",
    "print(\"Setelah diubah:\", data)"
   ]
  },
  {
   "cell_type": "code",
   "execution_count": 16,
   "id": "8159ce90",
   "metadata": {},
   "outputs": [
    {
     "name": "stdout",
     "output_type": "stream",
     "text": [
      "Sebelum ditambah: ['Jaemin', '25', 'NCT Dream', '177cm', 'False', 'Seoul']\n",
      "Setelah diappend: ['Jaemin', '25', 'NCT Dream', '177cm', 'False', 'Seoul', 'Laki-laki']\n",
      "Sebelum ditambah: ['Jaemin', '25', 'NCT Dream', '177cm', 'False', 'Seoul']\n",
      "Setelah diinsert: ['Jaemin', '25', 'NCT Dream', 'NCT U', '177cm', 'False', 'Seoul']\n",
      "Sebelum ditambah: ['Jaemin', '25', 'NCT Dream', '177cm', 'False', 'Seoul']\n",
      "Setelah diextend: ['Jaemin', '25', 'NCT Dream', '177cm', 'False', 'Seoul', 'Sub Rapper']\n"
     ]
    }
   ],
   "source": [
    "## Tambah data pada list\n",
    "data = [\"Jaemin\", \"25\", \"NCT Dream\", \"177cm\", \"False\", \"Seoul\"]\n",
    "print(\"Sebelum ditambah:\", data)\n",
    "data.append(\"Laki-laki\")  # Menambahkan elemen di akhir list\n",
    "print(\"Setelah diappend:\", data)\n",
    "\n",
    "data = [\"Jaemin\", \"25\", \"NCT Dream\", \"177cm\", \"False\", \"Seoul\"]\n",
    "print(\"Sebelum ditambah:\", data)\n",
    "data.insert(3, \"NCT U\")  # Menambahkan elemen di index 3\n",
    "print(\"Setelah diinsert:\", data)\n",
    "\n",
    "data = [\"Jaemin\", \"25\", \"NCT Dream\", \"177cm\", \"False\", \"Seoul\"]\n",
    "print(\"Sebelum ditambah:\", data)\n",
    "data.extend([\"Sub Rapper\"])  # Menambahkan beberapa elemen di akhir list\n",
    "print(\"Setelah diextend:\", data)"
   ]
  },
  {
   "cell_type": "markdown",
   "id": "5194dbfd",
   "metadata": {},
   "source": [
    "## Hapus data pada list"
   ]
  },
  {
   "cell_type": "code",
   "execution_count": 2,
   "id": "cf328f3e",
   "metadata": {},
   "outputs": [
    {
     "name": "stdout",
     "output_type": "stream",
     "text": [
      "Sebelum dihapus: ['Jaemin', '25', 'NCT Dream', '177cm', 'False', 'Seoul']\n",
      "Setelah dihapus dengan remove: ['Jaemin', '25', 'NCT Dream', 'False', 'Seoul']\n",
      "Sebelum dihapus: ['Jaemin', '25', 'NCT Dream', '177cm', 'False', 'Seoul']\n",
      "Setelah dihapus dengan del: ['Jaemin', '25', '177cm', 'False', 'Seoul']\n",
      "Sebelum dihapus: ['Jaemin', '25', 'NCT Dream', '177cm', 'False', 'Seoul']\n",
      "Setelah dihapus dengan pop : ['Jaemin', '25', 'NCT Dream', '177cm', 'False']\n",
      "Sebelum dihapus: ['Jaemin', '25', 'NCT Dream', '177cm', 'False', 'Seoul']\n",
      "Setelah dihapus dengan pop index 1: ['Jaemin', 'NCT Dream', '177cm', 'False', 'Seoul']\n"
     ]
    }
   ],
   "source": [
    "## Hapus data pada list\n",
    "data = [\"Jaemin\", \"25\", \"NCT Dream\", \"177cm\", \"False\", \"Seoul\"]\n",
    "print(\"Sebelum dihapus:\", data)\n",
    "data.remove(\"177cm\")  # Menghapus elemen dengan nilai tertentu berdasarkan keyword\n",
    "print(\"Setelah dihapus dengan remove:\", data)\n",
    "\n",
    "data = [\"Jaemin\", \"25\", \"NCT Dream\", \"177cm\", \"False\", \"Seoul\"]\n",
    "print(\"Sebelum dihapus:\", data)\n",
    "del data[2]  # Menghapus elemen berdasarkan index\n",
    "print(\"Setelah dihapus dengan del:\", data)\n",
    "\n",
    "data = [\"Jaemin\", \"25\", \"NCT Dream\", \"177cm\", \"False\", \"Seoul\"]\n",
    "print(\"Sebelum dihapus:\", data)\n",
    "data.pop()  # Menghapus elemen terakhir\n",
    "print(\"Setelah dihapus dengan pop :\", data)\n",
    "\n",
    "data = [\"Jaemin\", \"25\", \"NCT Dream\", \"177cm\", \"False\", \"Seoul\"]\n",
    "print(\"Sebelum dihapus:\", data)\n",
    "data.pop(1)  # Menghapus elemen di index 1\n",
    "print(\"Setelah dihapus dengan pop index 1:\", data)"
   ]
  },
  {
   "cell_type": "markdown",
   "id": "0fe64bd7",
   "metadata": {},
   "source": [
    "## Tambah data pada list dengan input user"
   ]
  },
  {
   "cell_type": "code",
   "execution_count": 2,
   "id": "1b9eb68f",
   "metadata": {},
   "outputs": [
    {
     "name": "stdout",
     "output_type": "stream",
     "text": [
      "Sebelum ditambah: []\n",
      "Setelah ditambah: ['Jaemin', 'Jeno']\n"
     ]
    }
   ],
   "source": [
    "kosong = []\n",
    "print(\"Sebelum ditambah:\", kosong)\n",
    "\n",
    "while True:\n",
    "    n_str = input(\"Masukkan jumlah anggota NCT yang ingin ditambahkan: \")\n",
    "    if n_str.isdigit() and int(n_str) > 0:\n",
    "        n = int(n_str)\n",
    "        break\n",
    "    else:\n",
    "        print(\"Input harus berupa angka lebih dari 0!\")\n",
    "\n",
    "for i in range(n):\n",
    "    newName = input(f\"Masukkan nama ke-{i+1}: \")\n",
    "    kosong.append(newName)\n",
    "\n",
    "print(\"Setelah ditambah:\", kosong)"
   ]
  },
  {
   "cell_type": "markdown",
   "id": "99628838",
   "metadata": {},
   "source": [
    "## LOOPING pada list"
   ]
  },
  {
   "cell_type": "code",
   "execution_count": null,
   "id": "69f442c8",
   "metadata": {},
   "outputs": [
    {
     "name": "stdout",
     "output_type": "stream",
     "text": [
      "['Jaemin', '25', 'NCT Dream', '177cm', 'False', 'Seoul']\n",
      "Index ke-0 adalah Jaemin\n",
      "Index ke-1 adalah 25\n",
      "Index ke-2 adalah NCT Dream\n",
      "Index ke-3 adalah 177cm\n",
      "Index ke-4 adalah False\n",
      "Index ke-5 adalah Seoul\n"
     ]
    }
   ],
   "source": [
    "data = [\"Jaemin\", \"25\", \"NCT Dream\", \"177cm\", \"False\", \"Seoul\"]\n",
    "print(data)\n",
    "\n",
    "\n",
    "for i, j in zip (data, range(len(data))): #i akan value, j akan index. jadi outputnya index ke-0 adalah Jaemin, index ke-1 adalah 25, dst\n",
    "    print(f\"Index ke-{j} adalah {i}\")"
   ]
  },
  {
   "cell_type": "markdown",
   "id": "c1d01f15",
   "metadata": {},
   "source": [
    "## List concate"
   ]
  },
  {
   "cell_type": "code",
   "execution_count": 4,
   "id": "735ab786",
   "metadata": {},
   "outputs": [
    {
     "name": "stdout",
     "output_type": "stream",
     "text": [
      "['Jaemin', '25', 'NCT Dream', '177cm', 'False', 'Seoul']\n"
     ]
    }
   ],
   "source": [
    "list1 = [\"Jaemin\", \"25\", \"NCT Dream\"]\n",
    "list2 = [\"177cm\", \"False\", \"Seoul\"]\n",
    "\n",
    "list3 = list1 + list2\n",
    "print(list3)"
   ]
  },
  {
   "cell_type": "markdown",
   "id": "0fbd4e7a",
   "metadata": {},
   "source": [
    "## Cari index"
   ]
  },
  {
   "cell_type": "code",
   "execution_count": 5,
   "id": "d542324f",
   "metadata": {},
   "outputs": [
    {
     "name": "stdout",
     "output_type": "stream",
     "text": [
      "5\n"
     ]
    }
   ],
   "source": [
    "print(list3.index(\"Seoul\"))  # Mencari index dari elemen \"Seoul\""
   ]
  },
  {
   "cell_type": "markdown",
   "id": "40fa2418",
   "metadata": {},
   "source": [
    "## Fungsi sort"
   ]
  },
  {
   "cell_type": "code",
   "execution_count": 11,
   "id": "45318927",
   "metadata": {},
   "outputs": [
    {
     "name": "stdout",
     "output_type": "stream",
     "text": [
      "Member yang sudah diurutkan: ['Chenle', 'Haechan', 'Jaemin', 'Jeno', 'Jisung', 'Mark', 'Renjun']\n",
      "Umur yang sudah diurutkan: [19, 20, 20, 21, 22, 23, 25]\n"
     ]
    }
   ],
   "source": [
    "member =[\"Jaemin\", \"Jeno\", \"Haechan\", \"Mark\", \"Jisung\", \"Chenle\", \"Renjun\"]\n",
    "member.sort()  # Mengurutkan elemen dalam list secara ascending\n",
    "print(f'Member yang sudah diurutkan: {member}')  # Menampilkan list yang sudah diurutkan\n",
    "\n",
    "umur = [25, 22, 21, 23, 20, 20, 19]\n",
    "umur.sort()  # Mengurutkan elemen dalam list secara ascending\n",
    "print(f'Umur yang sudah diurutkan: {umur}')  # Menampilkan list yang sudah diurutkan"
   ]
  },
  {
   "cell_type": "markdown",
   "id": "0acab758",
   "metadata": {},
   "source": [
    "## 2D List"
   ]
  },
  {
   "cell_type": "code",
   "execution_count": 12,
   "id": "8f377de3",
   "metadata": {},
   "outputs": [
    {
     "name": "stdout",
     "output_type": "stream",
     "text": [
      "Nama: Jaemin, Umur: 26, Grup: NCT Dream, Jenis Kelamin: Laki-laki, Asal: Seoul\n",
      "Nama: Jeno, Umur: 22, Grup: NCT Dream, Jenis Kelamin: Laki-laki, Asal: Seoul\n",
      "Nama: Haechan, Umur: 21, Grup: NCT Dream, Jenis Kelamin: Laki-laki, Asal: Seoul\n",
      "Nama: Mark, Umur: 23, Grup: NCT Dream, Jenis Kelamin: Laki-laki, Asal: Los Angeles\n",
      "Nama: Jisung, Umur: 20, Grup: NCT Dream, Jenis Kelamin: Laki-laki, Asal: Seoul\n",
      "Nama: Chenle, Umur: 20, Grup: NCT Dream, Jenis Kelamin: Laki-laki, Asal: Shanghai\n",
      "Nama: Renjun, Umur: 19, Grup: NCT Dream, Jenis Kelamin: Laki-laki, Asal: Shanghai\n"
     ]
    }
   ],
   "source": [
    "data = [\n",
    "    [\"Jaemin\", 26, \"NCT Dream\", \"Laki-laki\", \"Seoul\"],\n",
    "    [\"Jeno\", 22, \"NCT Dream\", \"Laki-laki\", \"Seoul\"],\n",
    "    [\"Haechan\", 21, \"NCT Dream\", \"Laki-laki\", \"Seoul\"],\n",
    "    [\"Mark\", 23, \"NCT Dream\", \"Laki-laki\", \"Los Angeles\"],\n",
    "    [\"Jisung\", 20, \"NCT Dream\", \"Laki-laki\", \"Seoul\"],\n",
    "    [\"Chenle\", 20, \"NCT Dream\", \"Laki-laki\", \"Shanghai\"],\n",
    "    [\"Renjun\", 19, \"NCT Dream\", \"Laki-laki\", \"Shanghai\"]\n",
    "]\n",
    "\n",
    "for member in data:\n",
    "    print(f'Nama: {member[0]}, Umur: {member[1]}, Grup: {member[2]}, Jenis Kelamin: {member[3]}, Asal: {member[4]}')"
   ]
  }
 ],
 "metadata": {
  "kernelspec": {
   "display_name": "base",
   "language": "python",
   "name": "python3"
  },
  "language_info": {
   "codemirror_mode": {
    "name": "ipython",
    "version": 3
   },
   "file_extension": ".py",
   "mimetype": "text/x-python",
   "name": "python",
   "nbconvert_exporter": "python",
   "pygments_lexer": "ipython3",
   "version": "3.13.5"
  }
 },
 "nbformat": 4,
 "nbformat_minor": 5
}
