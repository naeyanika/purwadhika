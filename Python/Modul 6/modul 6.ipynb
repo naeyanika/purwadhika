{
 "cells": [
  {
   "cell_type": "markdown",
   "id": "50e4dd99",
   "metadata": {},
   "source": [
    "## Dictionary dan Functions"
   ]
  },
  {
   "cell_type": "markdown",
   "id": "f124eba6",
   "metadata": {},
   "source": [
    "### Dictionary\n",
    "---\n",
    "Dictionary adalah tipe data yang menyimpan data dalam bentuk pasangan key-value. Key berfungsi sebagai identitas unik untuk setiap value dalam dictionary. Dictionary dapat diakses, dimodifikasi, dan dihapus menggunakan key-nya."
   ]
  },
  {
   "cell_type": "code",
   "execution_count": null,
   "id": "7dd430cb",
   "metadata": {},
   "outputs": [
    {
     "name": "stdout",
     "output_type": "stream",
     "text": [
      "Na Jaemin\n",
      "21\n",
      "rapper\n",
      "Renjun Lee\n",
      "18\n",
      "vocalist\n",
      "Park Ji-sung\n",
      "Na Jaemin\n"
     ]
    }
   ],
   "source": [
    "\n",
    "## Contoh Dictionary\n",
    "nct_member = {\n",
    "    \"jaemin\": {\"nama_lengkap\": \"Na Jaemin\",\"usia\": 22, \"posisi\": \"rapper\"},\n",
    "    \"mark\": {\"nama_lengkap\": \"Mark Lee\",\"usia\": 21, \"posisi\": \"rapper\"},\n",
    "    \"jeno\": {\"nama_lengkap\": \"Jeno Lee\",\"usia\": 20, \"posisi\": \"rapper\"},\n",
    "    \"renjun\": {\"nama_lengkap\": \"Renjun Lee\",\"usia\": 19, \"posisi\": \"vocalist\"},\n",
    "    \"haechan\": {\"nama_lengkap\": \"Haechan Lee\",\"usia\": 18, \"posisi\": \"vocalist\"},\n",
    "    \"chenle\": {\"nama_lengkap\": \"Chenle Lee\",\"usia\": 19, \"posisi\": \"vocalist\"},\n",
    "    \"jisung\": {\"nama_lengkap\": \"Park Ji-sung\",\"usia\": 17, \"posisi\": \"dancer\"}\n",
    "}\n",
    "\n",
    "\n",
    "print(nct_member[\"jaemin\"][\"nama_lengkap\"]) # Output: Na Jaemin\n",
    "print(nct_member[\"mark\"][\"usia\"]) # Output: 21\n",
    "print(nct_member[\"jeno\"][\"posisi\"]) # Output: rapper\n",
    "print(nct_member[\"renjun\"][\"nama_lengkap\"]) # Output: Renjun Lee\n",
    "print(nct_member[\"haechan\"][\"usia\"]) # Output: 18\n",
    "print(nct_member[\"chenle\"][\"posisi\"]) # Output: vocalist\n",
    "print(nct_member[\"jisung\"][\"nama_lengkap\"]) # Output: Park Ji-sung\n"
   ]
  },
  {
   "cell_type": "code",
   "execution_count": null,
   "id": "23e22b95",
   "metadata": {},
   "outputs": [
    {
     "name": "stdout",
     "output_type": "stream",
     "text": [
      "{'Nama Lengkap': 'Na Jaemin', 'Nama Panggilan': 'Jaemin', 'TTL': '13 Agustus 2000', 'Alamat': 'Seoul, Korea Selatan', 'Posisi di NCT Dream': 'Rapper, Dancer, Visual'}\n",
      "Na Jaemin\n",
      "Jaemin\n",
      "13 Agustus 2000\n",
      "Seoul, Korea Selatan\n",
      "Rapper, Dancer, Visual\n"
     ]
    }
   ],
   "source": [
    "identitas = {\n",
    "    'Nama Lengkap': 'Na Jaemin',\n",
    "    'Nama Panggilan': 'Jaemin',\n",
    "    'TTL': '13 Agustus 2000',\n",
    "    'Alamat': 'Seoul, Korea Selatan',\n",
    "    'Posisi di NCT Dream': 'Rapper, Dancer, Visual'\n",
    "}\n",
    "\n",
    "print(identitas)  # Output: Semuanya data dalam dictionary\n",
    "print(identitas['Nama Lengkap'])  # Output: Na Jaemin\n",
    "print(identitas['Nama Panggilan'])  # Output: Jaemin\n",
    "print(identitas['TTL'])  # Output: 13 Agustus 2000\n",
    "print(identitas['Alamat'])  # Output: Seoul, Korea Selatan\n",
    "print(identitas['Posisi di NCT Dream'])  # Output: Rapper, Dancer, Visual   "
   ]
  },
  {
   "cell_type": "code",
   "execution_count": 25,
   "id": "4ddf6625",
   "metadata": {},
   "outputs": [
    {
     "data": {
      "text/html": [
       "<div>\n",
       "<style scoped>\n",
       "    .dataframe tbody tr th:only-of-type {\n",
       "        vertical-align: middle;\n",
       "    }\n",
       "\n",
       "    .dataframe tbody tr th {\n",
       "        vertical-align: top;\n",
       "    }\n",
       "\n",
       "    .dataframe thead th {\n",
       "        text-align: right;\n",
       "    }\n",
       "</style>\n",
       "<table border=\"1\" class=\"dataframe\">\n",
       "  <thead>\n",
       "    <tr style=\"text-align: right;\">\n",
       "      <th></th>\n",
       "      <th>Nama Lengkap</th>\n",
       "      <th>Nama Panggilan</th>\n",
       "      <th>TTL</th>\n",
       "      <th>Alamat</th>\n",
       "      <th>Posisi di NCT Dream</th>\n",
       "    </tr>\n",
       "  </thead>\n",
       "  <tbody>\n",
       "    <tr>\n",
       "      <th>0</th>\n",
       "      <td>Na Jaemin</td>\n",
       "      <td>Jaemin</td>\n",
       "      <td>13 Agustus 2000</td>\n",
       "      <td>Seoul, Korea Selatan</td>\n",
       "      <td>Rapper, Dancer, Visual</td>\n",
       "    </tr>\n",
       "  </tbody>\n",
       "</table>\n",
       "</div>"
      ],
      "text/plain": [
       "  Nama Lengkap Nama Panggilan              TTL                Alamat  \\\n",
       "0    Na Jaemin         Jaemin  13 Agustus 2000  Seoul, Korea Selatan   \n",
       "\n",
       "      Posisi di NCT Dream  \n",
       "0  Rapper, Dancer, Visual  "
      ]
     },
     "metadata": {},
     "output_type": "display_data"
    },
    {
     "data": {
      "text/html": [
       "<div>\n",
       "<style scoped>\n",
       "    .dataframe tbody tr th:only-of-type {\n",
       "        vertical-align: middle;\n",
       "    }\n",
       "\n",
       "    .dataframe tbody tr th {\n",
       "        vertical-align: top;\n",
       "    }\n",
       "\n",
       "    .dataframe thead th {\n",
       "        text-align: right;\n",
       "    }\n",
       "</style>\n",
       "<table border=\"1\" class=\"dataframe\">\n",
       "  <thead>\n",
       "    <tr style=\"text-align: right;\">\n",
       "      <th></th>\n",
       "      <th>Nama Lengkap</th>\n",
       "      <th>Nama Panggilan</th>\n",
       "      <th>TTL</th>\n",
       "      <th>Alamat</th>\n",
       "      <th>Posisi di NCT Dream</th>\n",
       "    </tr>\n",
       "  </thead>\n",
       "  <tbody>\n",
       "    <tr>\n",
       "      <th>0</th>\n",
       "      <td>Na Jaemin</td>\n",
       "      <td>Jaemin</td>\n",
       "      <td>13 Agustus 2000</td>\n",
       "      <td>Incheon, Korea Selatan</td>\n",
       "      <td>Rapper, Dancer, Visual</td>\n",
       "    </tr>\n",
       "  </tbody>\n",
       "</table>\n",
       "</div>"
      ],
      "text/plain": [
       "  Nama Lengkap Nama Panggilan              TTL                  Alamat  \\\n",
       "0    Na Jaemin         Jaemin  13 Agustus 2000  Incheon, Korea Selatan   \n",
       "\n",
       "      Posisi di NCT Dream  \n",
       "0  Rapper, Dancer, Visual  "
      ]
     },
     "metadata": {},
     "output_type": "display_data"
    },
    {
     "data": {
      "text/html": [
       "<div>\n",
       "<style scoped>\n",
       "    .dataframe tbody tr th:only-of-type {\n",
       "        vertical-align: middle;\n",
       "    }\n",
       "\n",
       "    .dataframe tbody tr th {\n",
       "        vertical-align: top;\n",
       "    }\n",
       "\n",
       "    .dataframe thead th {\n",
       "        text-align: right;\n",
       "    }\n",
       "</style>\n",
       "<table border=\"1\" class=\"dataframe\">\n",
       "  <thead>\n",
       "    <tr style=\"text-align: right;\">\n",
       "      <th></th>\n",
       "      <th>Nama Lengkap</th>\n",
       "      <th>Nama Panggilan</th>\n",
       "      <th>TTL</th>\n",
       "      <th>Alamat</th>\n",
       "      <th>Hobi</th>\n",
       "      <th>Posisi di NCT Dream</th>\n",
       "    </tr>\n",
       "  </thead>\n",
       "  <tbody>\n",
       "    <tr>\n",
       "      <th>0</th>\n",
       "      <td>Na Jaemin</td>\n",
       "      <td>Jaemin</td>\n",
       "      <td>13 Agustus 2000</td>\n",
       "      <td>Incheon, Korea Selatan</td>\n",
       "      <td>Menari</td>\n",
       "      <td>Rapper, Dancer, Visual</td>\n",
       "    </tr>\n",
       "  </tbody>\n",
       "</table>\n",
       "</div>"
      ],
      "text/plain": [
       "  Nama Lengkap Nama Panggilan              TTL                  Alamat  \\\n",
       "0    Na Jaemin         Jaemin  13 Agustus 2000  Incheon, Korea Selatan   \n",
       "\n",
       "     Hobi     Posisi di NCT Dream  \n",
       "0  Menari  Rapper, Dancer, Visual  "
      ]
     },
     "metadata": {},
     "output_type": "display_data"
    },
    {
     "data": {
      "text/html": [
       "<div>\n",
       "<style scoped>\n",
       "    .dataframe tbody tr th:only-of-type {\n",
       "        vertical-align: middle;\n",
       "    }\n",
       "\n",
       "    .dataframe tbody tr th {\n",
       "        vertical-align: top;\n",
       "    }\n",
       "\n",
       "    .dataframe thead th {\n",
       "        text-align: right;\n",
       "    }\n",
       "</style>\n",
       "<table border=\"1\" class=\"dataframe\">\n",
       "  <thead>\n",
       "    <tr style=\"text-align: right;\">\n",
       "      <th></th>\n",
       "      <th>Nama Lengkap</th>\n",
       "      <th>Nama Panggilan</th>\n",
       "      <th>TTL</th>\n",
       "      <th>Alamat</th>\n",
       "      <th>Posisi di NCT Dream</th>\n",
       "    </tr>\n",
       "  </thead>\n",
       "  <tbody>\n",
       "    <tr>\n",
       "      <th>0</th>\n",
       "      <td>Na Jaemin</td>\n",
       "      <td>Jaemin</td>\n",
       "      <td>13 Agustus 2000</td>\n",
       "      <td>Incheon, Korea Selatan</td>\n",
       "      <td>Rapper, Dancer, Visual</td>\n",
       "    </tr>\n",
       "  </tbody>\n",
       "</table>\n",
       "</div>"
      ],
      "text/plain": [
       "  Nama Lengkap Nama Panggilan              TTL                  Alamat  \\\n",
       "0    Na Jaemin         Jaemin  13 Agustus 2000  Incheon, Korea Selatan   \n",
       "\n",
       "      Posisi di NCT Dream  \n",
       "0  Rapper, Dancer, Visual  "
      ]
     },
     "metadata": {},
     "output_type": "display_data"
    },
    {
     "data": {
      "text/html": [
       "<div>\n",
       "<style scoped>\n",
       "    .dataframe tbody tr th:only-of-type {\n",
       "        vertical-align: middle;\n",
       "    }\n",
       "\n",
       "    .dataframe tbody tr th {\n",
       "        vertical-align: top;\n",
       "    }\n",
       "\n",
       "    .dataframe thead th {\n",
       "        text-align: right;\n",
       "    }\n",
       "</style>\n",
       "<table border=\"1\" class=\"dataframe\">\n",
       "  <thead>\n",
       "    <tr style=\"text-align: right;\">\n",
       "      <th></th>\n",
       "      <th>Nama Lengkap</th>\n",
       "      <th>Nama Panggilan</th>\n",
       "      <th>TTL</th>\n",
       "      <th>Alamat</th>\n",
       "      <th>Posisi di NCT Dream</th>\n",
       "    </tr>\n",
       "  </thead>\n",
       "  <tbody>\n",
       "    <tr>\n",
       "      <th>0</th>\n",
       "      <td>Na Jaemin</td>\n",
       "      <td>Jaemin</td>\n",
       "      <td>13 Agustus 2000</td>\n",
       "      <td>Incheon, Korea Selatan</td>\n",
       "      <td>Rapper, Dancer, Visual</td>\n",
       "    </tr>\n",
       "  </tbody>\n",
       "</table>\n",
       "</div>"
      ],
      "text/plain": [
       "  Nama Lengkap Nama Panggilan              TTL                  Alamat  \\\n",
       "0    Na Jaemin         Jaemin  13 Agustus 2000  Incheon, Korea Selatan   \n",
       "\n",
       "      Posisi di NCT Dream  \n",
       "0  Rapper, Dancer, Visual  "
      ]
     },
     "metadata": {},
     "output_type": "display_data"
    },
    {
     "data": {
      "text/html": [
       "<div>\n",
       "<style scoped>\n",
       "    .dataframe tbody tr th:only-of-type {\n",
       "        vertical-align: middle;\n",
       "    }\n",
       "\n",
       "    .dataframe tbody tr th {\n",
       "        vertical-align: top;\n",
       "    }\n",
       "\n",
       "    .dataframe thead th {\n",
       "        text-align: right;\n",
       "    }\n",
       "</style>\n",
       "<table border=\"1\" class=\"dataframe\">\n",
       "  <thead>\n",
       "    <tr style=\"text-align: right;\">\n",
       "      <th></th>\n",
       "      <th>Nama Lengkap</th>\n",
       "      <th>Nama Panggilan</th>\n",
       "      <th>TTL</th>\n",
       "      <th>Alamat</th>\n",
       "    </tr>\n",
       "  </thead>\n",
       "  <tbody>\n",
       "    <tr>\n",
       "      <th>0</th>\n",
       "      <td>Na Jaemin</td>\n",
       "      <td>Jaemin</td>\n",
       "      <td>13 Agustus 2000</td>\n",
       "      <td>Incheon, Korea Selatan</td>\n",
       "    </tr>\n",
       "  </tbody>\n",
       "</table>\n",
       "</div>"
      ],
      "text/plain": [
       "  Nama Lengkap Nama Panggilan              TTL                  Alamat\n",
       "0    Na Jaemin         Jaemin  13 Agustus 2000  Incheon, Korea Selatan"
      ]
     },
     "metadata": {},
     "output_type": "display_data"
    }
   ],
   "source": [
    "import pandas as pd\n",
    "\n",
    "identitas = {\n",
    "    'Nama Lengkap': 'Na Jaemin',\n",
    "    'Nama Panggilan': 'Jaemin',\n",
    "    'TTL': '13 Agustus 2000',\n",
    "    'Alamat': 'Seoul, Korea Selatan',\n",
    "    'Posisi di NCT Dream': 'Rapper, Dancer, Visual'\n",
    "}\n",
    "\n",
    "# Ubah dictionary menjadi DataFrame (1 baris)\n",
    "df_identitas = pd.DataFrame([identitas])\n",
    "display(df_identitas) \n",
    "\n",
    "#mengubah data\n",
    "identitas['Alamat'] = 'Incheon, Korea Selatan'\n",
    "\n",
    "df_identitas = pd.DataFrame([identitas])\n",
    "display(df_identitas)\n",
    "\n",
    "\n",
    "#menabah data\n",
    "identitas['Hobi'] = 'Menari'\n",
    "\n",
    "kolom_urut = ['Nama Lengkap', 'Nama Panggilan', 'TTL', 'Alamat', 'Hobi', 'Posisi di NCT Dream']\n",
    "\n",
    "df_identitas = pd.DataFrame([identitas])\n",
    "df_identitas = df_identitas[kolom_urut]\n",
    "display(df_identitas)\n",
    "\n",
    "#menghapus data\n",
    "del identitas['Hobi']\n",
    "df_identitas = pd.DataFrame([identitas])\n",
    "display(df_identitas)\n",
    "\n",
    "identitas.pop('Hobi', None)  # Tidak error jika key tidak ada\n",
    "df_identitas = pd.DataFrame([identitas])\n",
    "display(df_identitas)\n",
    "\n",
    "identitas.popitem()\n",
    "df_identitas = pd.DataFrame([identitas])\n",
    "display(df_identitas)"
   ]
  },
  {
   "cell_type": "code",
   "execution_count": 28,
   "id": "3d49b2bc",
   "metadata": {},
   "outputs": [
    {
     "name": "stdout",
     "output_type": "stream",
     "text": [
      "{'Nama Lengkap': 'Na Jaemin', 'Nama Panggilan': 'Jaemin', 'TTL': '13 Agustus 2000', 'Alamat': 'Incheon, Korea Selatan'}\n",
      "Nama Lengkap\n",
      "Nama Panggilan\n",
      "TTL\n",
      "Alamat\n"
     ]
    }
   ],
   "source": [
    "print(identitas)\n",
    "\n",
    "for i in identitas:\n",
    "    print(i)\n"
   ]
  },
  {
   "cell_type": "code",
   "execution_count": 29,
   "id": "bc789ff1",
   "metadata": {},
   "outputs": [
    {
     "name": "stdout",
     "output_type": "stream",
     "text": [
      "Na Jaemin\n",
      "Jaemin\n",
      "13 Agustus 2000\n",
      "Incheon, Korea Selatan\n"
     ]
    }
   ],
   "source": [
    "for i in identitas.values():\n",
    "    print(i)"
   ]
  },
  {
   "cell_type": "code",
   "execution_count": 36,
   "id": "3a92bf10",
   "metadata": {},
   "outputs": [
    {
     "name": "stdout",
     "output_type": "stream",
     "text": [
      "Key: Nama Lengkap, Value: Na Jaemin\n",
      "Key: Nama Panggilan, Value: Jaemin\n",
      "Key: TTL, Value: 13 Agustus 2000\n",
      "Key: Alamat, Value: Incheon, Korea Selatan\n",
      "---------------\n",
      "Nama Lengkap Na Jaemin\n",
      "---------------\n",
      "Nama Panggilan Jaemin\n",
      "---------------\n",
      "TTL 13 Agustus 2000\n",
      "---------------\n",
      "Alamat Incheon, Korea Selatan\n"
     ]
    }
   ],
   "source": [
    "for i, j in identitas.items():\n",
    "    print(f'Key: {i}, Value: {j}')\n",
    "\n",
    "\n",
    "for i, j in identitas.items():\n",
    "    print('---------------')\n",
    "    print(i, j)"
   ]
  },
  {
   "cell_type": "code",
   "execution_count": null,
   "id": "d6605310",
   "metadata": {},
   "outputs": [
    {
     "name": "stdout",
     "output_type": "stream",
     "text": [
      "4\n"
     ]
    }
   ],
   "source": [
    "# penggunaan len\n",
    "print(len(identitas))"
   ]
  },
  {
   "cell_type": "code",
   "execution_count": 46,
   "id": "e815b477",
   "metadata": {},
   "outputs": [
    {
     "name": "stdout",
     "output_type": "stream",
     "text": [
      "Member NCT:\n",
      "\n",
      "Nama Lengkap: Na Jaemin\n",
      "Usia: 22\n",
      "Posisi: rapper\n",
      "\n",
      "Nama Lengkap: Jeno Lee\n",
      "Usia: 20\n",
      "Posisi: rapper\n",
      "\n",
      "Nama Lengkap: Park Ji-sung\n",
      "Usia: 17\n",
      "Posisi: dancer\n",
      "\n"
     ]
    }
   ],
   "source": [
    "# Nested Dictionary\n",
    "nct_member = {\n",
    "    \"jaemin\": {\n",
    "        \"nama_lengkap\": \"Na Jaemin\",\n",
    "        \"usia\": 22,\n",
    "        \"posisi\": \"rapper\"\n",
    "    },\n",
    "    \"jeno\": {\n",
    "        \"nama_lengkap\": \"Jeno Lee\",\n",
    "        \"usia\": 20,\n",
    "        \"posisi\": \"rapper\"\n",
    "    },\n",
    "    \"jisung\": {\n",
    "        \"nama_lengkap\": \"Park Ji-sung\",\n",
    "        \"usia\": 17,\n",
    "        \"posisi\": \"dancer\"\n",
    "    },\n",
    "    \"mark\": {\n",
    "        \"nama_lengkap\": \"Mark Lee\",\n",
    "        \"usia\": 21,\n",
    "        \"posisi\": \"rapper\"\n",
    "    },\n",
    "    \"renjun\": {\n",
    "        \"nama_lengkap\": \"Renjun Lee\",\n",
    "        \"usia\": 19,\n",
    "        \"posisi\": \"vocalist\"\n",
    "    },\n",
    "    \"haechan\": {\n",
    "        \"nama_lengkap\": \"Haechan Lee\",\n",
    "        \"usia\": 18,\n",
    "        \"posisi\": \"vocalist\"\n",
    "    },\n",
    "    \"chenle\": {\n",
    "        \"nama_lengkap\": \"Chenle Lee\",\n",
    "        \"usia\": 19,\n",
    "        \"posisi\": \"vocalist\"\n",
    "    }\n",
    "}\n",
    "\n",
    "print('Member NCT:\\n')\n",
    "for member in nct_members:\n",
    "    print(f\"Nama Lengkap: {member['nama_lengkap']}\")\n",
    "    print(f\"Usia: {member['usia']}\")\n",
    "    print(f\"Posisi: {member['posisi']}\\n\")\n",
    "# Membuat dictionary baru dengan format berbeda"
   ]
  },
  {
   "cell_type": "code",
   "execution_count": 51,
   "id": "87bee1bc",
   "metadata": {},
   "outputs": [
    {
     "name": "stdout",
     "output_type": "stream",
     "text": [
      "Member NCT:\n",
      "Index\t | Nama Lengkap\t | Usia\t | Posisi\n",
      "---------------------------------------------------\n",
      "0\t | Na Jaemin\t | 22\t | rapper\n",
      "1\t | Jeno Lee\t | 20\t | rapper\n",
      "2\t | Park Ji-sung\t | 17\t | dancer\n"
     ]
    }
   ],
   "source": [
    "# Dictionary didalam list\n",
    "nct_members = [\n",
    "    {\n",
    "        \"nama_lengkap\": \"Na Jaemin\",\n",
    "        \"usia\": 22,\n",
    "        \"posisi\": \"rapper\"\n",
    "    },\n",
    "    {\n",
    "        \"nama_lengkap\": \"Jeno Lee\",\n",
    "        \"usia\": 20,\n",
    "        \"posisi\": \"rapper\"\n",
    "    },\n",
    "    {\n",
    "        \"nama_lengkap\": \"Park Ji-sung\",\n",
    "        \"usia\": 17,\n",
    "        \"posisi\": \"dancer\"\n",
    "    },\n",
    "]\n",
    "\n",
    "\n",
    "print(\"Member NCT:\")\n",
    "print(\"Index\\t | Nama Lengkap\\t | Usia\\t | Posisi\")\n",
    "print(\"---------------------------------------------------\")\n",
    "for index, member in enumerate(nct_members):\n",
    "    print(f\"{index}\\t | {member['nama_lengkap']}\\t | {member['usia']}\\t | {member['posisi']}\")"
   ]
  },
  {
   "cell_type": "markdown",
   "id": "007d9f7d",
   "metadata": {},
   "source": [
    "### Functions\n",
    "---\n",
    "Functions adalah blok kode yang dirancang untuk melakukan tugas tertentu. Functions dapat menerima input (parameter), memprosesnya, dan mengembalikan output (return value). Functions membantu dalam mengorganisasi kode, meningkatkan keterbacaan, dan memungkinkan penggunaan ulang kode."
   ]
  },
  {
   "cell_type": "code",
   "execution_count": 58,
   "id": "0361bf40",
   "metadata": {},
   "outputs": [],
   "source": [
    "# Regular Functions\n",
    "def rata_rata(angka):\n",
    "    jumlah = 0\n",
    "    for i in angka:\n",
    "        jumlah = jumlah + i\n",
    "    \n",
    "\n",
    "    rata2 = jumlah / len(angka)\n",
    "\n",
    "    return round(rata2, 2)"
   ]
  },
  {
   "cell_type": "code",
   "execution_count": 63,
   "id": "a363bc09",
   "metadata": {},
   "outputs": [
    {
     "name": "stdout",
     "output_type": "stream",
     "text": [
      "Rata-rata data1: 85.0\n",
      "Rata-rata data2: 83.0\n"
     ]
    }
   ],
   "source": [
    "data1 = [70, 80, 90, 100]\n",
    "data2 = [60, 75, 85, 95, 100]\n",
    "\n",
    "rata1 = rata_rata(data1)\n",
    "rata2 = rata_rata(data2)\n",
    "print(f'Rata-rata data1: {rata1}')\n",
    "print(f'Rata-rata data2: {rata2}')"
   ]
  },
  {
   "cell_type": "code",
   "execution_count": 64,
   "id": "55f73149",
   "metadata": {},
   "outputs": [],
   "source": [
    "## Multiple Retyrn Values\n",
    "\n",
    "def rata_rata(angka):\n",
    "    jumlah = 0\n",
    "    for i in angka:\n",
    "        jumlah = jumlah + i\n",
    "    \n",
    "\n",
    "    rata2 = jumlah / len(angka)\n",
    "\n",
    "    return False, rata2, angka"
   ]
  },
  {
   "cell_type": "code",
   "execution_count": 67,
   "id": "9455883b",
   "metadata": {},
   "outputs": [
    {
     "name": "stdout",
     "output_type": "stream",
     "text": [
      "(False, 85.0, [70, 80, 90, 100])\n",
      "(False, 83.0, [60, 75, 85, 95, 100])\n",
      "Rata-rata data1 adalah 85.0 dimana data aslinya adalah [70, 80, 90, 100]\n",
      "Rata-rata data2 adalah 83.0 dimana data aslinya adalah [60, 75, 85, 95, 100]\n"
     ]
    }
   ],
   "source": [
    "rata1 = rata_rata(data1)\n",
    "rata2 = rata_rata(data2)\n",
    "\n",
    "print(rata1)  # Output: (False, 85.0, [70, 80, 90, 100])\n",
    "print(rata2)  # Output: (False, 82.0, [60, 75, 85, 95, 100])\n",
    "\n",
    "print(f'Rata-rata data1 adalah {rata1[1]} dimana data aslinya adalah {rata1[2]}')\n",
    "print(f'Rata-rata data2 adalah {rata2[1]} dimana data aslinya adalah {rata2[2]}')"
   ]
  },
  {
   "cell_type": "markdown",
   "id": "0d8fba9b",
   "metadata": {},
   "source": [
    "** Notes:**\n",
    "1. Input: Parameter - Dalam case diatas adalah `angka`\n",
    "2. Process: Proses yang dilakukan di dalam function - Dalam case diatas adalah menghitung rata-rata\n",
    "3. Output: Return Value - Dalam case diatas adalah `rata2`"
   ]
  },
  {
   "cell_type": "code",
   "execution_count": 71,
   "id": "deeeac53",
   "metadata": {},
   "outputs": [
    {
     "name": "stdout",
     "output_type": "stream",
     "text": [
      "Halo, selamat pagi!\n",
      "Apa kabar hari ini?\n",
      "Semoga harimu menyenangkan!\n",
      "Jangan lupa sarapan ya!\n",
      "Sampai jumpa lagi!\n",
      "Angka yang dimasukkan adalah: 25\n"
     ]
    }
   ],
   "source": [
    "## Function - No Input, No Output\n",
    "def sapa():\n",
    "    print(\"Halo, selamat pagi!\")\n",
    "    print(\"Apa kabar hari ini?\")\n",
    "    print(\"Semoga harimu menyenangkan!\")\n",
    "    print(\"Jangan lupa sarapan ya!\")\n",
    "    print(\"Sampai jumpa lagi!\")\n",
    "\n",
    "def inputAngka():\n",
    "    x = int(input(\"Masukkan angka: \"))\n",
    "    print(f\"Angka yang dimasukkan adalah: {x}\")\n",
    "\n",
    "\n",
    "#Parameter tidak ada = tidak ada input\n",
    "#Return tidak ada = tidak ada output\n",
    "#Input ada = ada input\n",
    "#Return ada = ada output\n",
    "\n",
    "sapa()\n",
    "inputAngka()"
   ]
  },
  {
   "cell_type": "code",
   "execution_count": null,
   "id": "3f0b0ccd",
   "metadata": {},
   "outputs": [],
   "source": [
    "## Function - No Input with Output\n",
    "\n",
    "def inputAngka():\n",
    "    kosong = []\n",
    "    for i in range(5):\n",
    "        x = int(input(\"Masukkan angka: \"))\n",
    "        kosong.append(x)\n",
    "    return kosong"
   ]
  },
  {
   "cell_type": "code",
   "execution_count": 75,
   "id": "12be198c",
   "metadata": {},
   "outputs": [
    {
     "data": {
      "text/plain": [
       "(False, 45.4, [52, 52, 45, 54, 24])"
      ]
     },
     "execution_count": 75,
     "metadata": {},
     "output_type": "execute_result"
    }
   ],
   "source": [
    "data = inputAngka()\n",
    "\n",
    "rata_rata(data)"
   ]
  },
  {
   "cell_type": "markdown",
   "id": "72aa5b65",
   "metadata": {},
   "source": [
    "## Tugas"
   ]
  },
  {
   "cell_type": "code",
   "execution_count": null,
   "id": "c800ca9b",
   "metadata": {},
   "outputs": [],
   "source": [
    "# Buat kasus"
   ]
  }
 ],
 "metadata": {
  "kernelspec": {
   "display_name": "base",
   "language": "python",
   "name": "python3"
  },
  "language_info": {
   "codemirror_mode": {
    "name": "ipython",
    "version": 3
   },
   "file_extension": ".py",
   "mimetype": "text/x-python",
   "name": "python",
   "nbconvert_exporter": "python",
   "pygments_lexer": "ipython3",
   "version": "3.13.5"
  }
 },
 "nbformat": 4,
 "nbformat_minor": 5
}
