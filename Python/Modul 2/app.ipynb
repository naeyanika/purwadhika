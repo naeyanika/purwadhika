{
 "cells": [
  {
   "cell_type": "code",
   "execution_count": 14,
   "id": "4d1f37d9",
   "metadata": {},
   "outputs": [
    {
     "name": "stdout",
     "output_type": "stream",
     "text": [
      "<class 'str'>\n",
      "<class 'int'>\n"
     ]
    }
   ],
   "source": [
    "# Cek tipe data\n",
    "print(type(name))\n",
    "print(type(age))"
   ]
  },
  {
   "cell_type": "code",
   "execution_count": 15,
   "id": "a8a7e061",
   "metadata": {},
   "outputs": [
    {
     "name": "stdout",
     "output_type": "stream",
     "text": [
      "<class 'int'>\n"
     ]
    }
   ],
   "source": [
    "tes = 2+5\n",
    "print(type(tes))"
   ]
  },
  {
   "cell_type": "markdown",
   "id": "fcd92ebd",
   "metadata": {},
   "source": [
    "### Casting\n",
    "berfungsi untuk mengubah tipe data\n",
    "\n",
    "acak = '1234'\n",
    "print(type(acak))\n",
    "### ubah jadi int\n",
    "integer = int(acak)\n",
    "print(type(integer))"
   ]
  },
  {
   "cell_type": "code",
   "execution_count": 22,
   "id": "3f791835",
   "metadata": {},
   "outputs": [
    {
     "name": "stdout",
     "output_type": "stream",
     "text": [
      "<class 'str'>\n"
     ]
    }
   ],
   "source": [
    "acak = '1243'\n",
    "print(type(acak))"
   ]
  },
  {
   "cell_type": "code",
   "execution_count": 23,
   "id": "57dea1e8",
   "metadata": {},
   "outputs": [
    {
     "name": "stdout",
     "output_type": "stream",
     "text": [
      "<class 'float'>\n"
     ]
    }
   ],
   "source": [
    "### ubah jadi int\n",
    "integer = float(acak)\n",
    "print(type(integer))"
   ]
  },
  {
   "cell_type": "markdown",
   "id": "bb64938a",
   "metadata": {},
   "source": [
    "Pastikan isi variabel acak adalah angka dalam bentuk string, misalnya '1234' atau '12.5'.\n",
    "\n",
    "Contoh yang benar:\n",
    "\n",
    "Jika acak bukan angka, casting akan gagal dan muncul error seperti yang kamu alami.\n",
    "Jika ingin menghindari error, kamu bisa cek dulu apakah string tersebut bisa diubah ke angka:"
   ]
  },
  {
   "cell_type": "markdown",
   "id": "a96786a8",
   "metadata": {},
   "source": [
    "### Input variable\n",
    " Segala sesuatu yang di input akan disimpan sebagai string, walaupun kita menginputkan angka.\n"
   ]
  },
  {
   "cell_type": "code",
   "execution_count": 24,
   "id": "cee9d4cb",
   "metadata": {},
   "outputs": [
    {
     "name": "stdout",
     "output_type": "stream",
     "text": [
      "jaemin\n"
     ]
    }
   ],
   "source": [
    "# membuat input variable\n",
    "\n",
    "nama = input(\"Masukkan nama: \")\n",
    "print(nama)"
   ]
  },
  {
   "cell_type": "code",
   "execution_count": 26,
   "id": "502a100a",
   "metadata": {},
   "outputs": [
    {
     "name": "stdout",
     "output_type": "stream",
     "text": [
      "30\n"
     ]
    }
   ],
   "source": [
    "## membuat input variable untuk data float/int\n",
    "usia = input(\"Masukkan usia anda: \")\n",
    "usia = int(usia)\n",
    "print(usia+5)"
   ]
  },
  {
   "cell_type": "code",
   "execution_count": 27,
   "id": "1b89f1be",
   "metadata": {},
   "outputs": [
    {
     "name": "stdout",
     "output_type": "stream",
     "text": [
      "51\n"
     ]
    }
   ],
   "source": [
    "usia = int(input(\"Masukkan usia anda: \"))\n",
    "print(usia+50)"
   ]
  },
  {
   "cell_type": "markdown",
   "id": "4cd42e8f",
   "metadata": {},
   "source": [
    "### Print Format\n",
    "Data yang akan teriput akan selalu berupa string. Jika ingin mengubahnya menjadi tipe data lain, seperti integer atau float, perlu dilakukan casting."
   ]
  },
  {
   "cell_type": "code",
   "execution_count": 32,
   "id": "f90ea352",
   "metadata": {},
   "outputs": [
    {
     "name": "stdout",
     "output_type": "stream",
     "text": [
      "Member: Jaemin NCT dream\n"
     ]
    }
   ],
   "source": [
    "## print format bertujuan untuk membuat variable di luar print bisa ditampilkan\n",
    "member = \"Jaemin\"\n",
    "print(f\"Member: {member + ' NCT dream'}\")"
   ]
  },
  {
   "cell_type": "code",
   "execution_count": 33,
   "id": "4e523a2f",
   "metadata": {},
   "outputs": [
    {
     "name": "stdout",
     "output_type": "stream",
     "text": [
      "Usia saya adalah 25, jika 5 tahun lagi maka usia saya adalah 30\n"
     ]
    }
   ],
   "source": [
    "usia = 25\n",
    "print(f\"Usia saya adalah {usia}, jika 5 tahun lagi maka usia saya adalah {usia + 5}\")"
   ]
  },
  {
   "cell_type": "code",
   "execution_count": null,
   "id": "b23092ca",
   "metadata": {},
   "outputs": [
    {
     "name": "stdout",
     "output_type": "stream",
     "text": [
      "namanya adalah Jaemin, dan usianya adalah 25 tahun. Ditahun depan, Jaemin akan berusia 26 tahun, ia berada di NCT Dream.\n"
     ]
    }
   ],
   "source": [
    "name = 'Jaemin'\n",
    "age = 25\n",
    "unit = 'NCT Dream'\n",
    "\n",
    "print(f\"namanya adalah {name}, dan usianya adalah {age} tahun. Ditahun depan, {name} akan berusia {age + 1} tahun, ia berada di {unit}.\")"
   ]
  },
  {
   "cell_type": "markdown",
   "id": "5226eb15",
   "metadata": {},
   "source": [
    "# **Pertemuan 2**\n",
    "1. Number\n",
    "2. String\n",
    "3. Conditional Statement (If Else)"
   ]
  },
  {
   "cell_type": "markdown",
   "id": "41c30f8b",
   "metadata": {},
   "source": [
    "### 1. Number\n",
    "Tipe data numerik digunakan untuk menyimpan nilai-nilai yang berupa angka. Dalam Python, terdapat dua jenis tipe data numerik, yaitu integer (bilangan bulat) dan float (bilangan pecahan).\n",
    "\n",
    "Contoh penggunaan tipe data numerik:\n",
    "```python\n",
    "# Integer adalah bilangan bulat\n",
    "a = 10\n",
    "b = 5\n",
    "c = a + b\n",
    "print(c)  # Output: 15\n",
    "\n",
    "# Float adalah bilangan pecahan\n",
    "d = 3.14\n",
    "e = 2.5\n",
    "f = d * e\n",
    "print(f)  # Output: 7.85\n",
    "```"
   ]
  },
  {
   "cell_type": "code",
   "execution_count": 1,
   "id": "022c332f",
   "metadata": {},
   "outputs": [
    {
     "data": {
      "text/plain": [
       "123000006.140123"
      ]
     },
     "execution_count": 1,
     "metadata": {},
     "output_type": "execute_result"
    }
   ],
   "source": [
    "a = 3\n",
    "b = 3.14\n",
    "c = 123e6\n",
    "d = 123e-6\n",
    "\n",
    "a + b + c + d\n",
    "\n",
    "# untuk e ini adalah bilangan pangkat, tetapi outputnya tetap float (jika ada koma) ataupun integer (bilangan bulat)"
   ]
  },
  {
   "cell_type": "code",
   "execution_count": 2,
   "id": "eaac6431",
   "metadata": {},
   "outputs": [
    {
     "name": "stdout",
     "output_type": "stream",
     "text": [
      "50.0\n",
      "<class 'float'>\n"
     ]
    }
   ],
   "source": [
    "# Float\n",
    "angka = 50.0\n",
    "print(angka)\n",
    "print(type(angka))\n",
    "\n",
    "# akan tetap float karena ada koma"
   ]
  },
  {
   "cell_type": "code",
   "execution_count": 4,
   "id": "eb247a78",
   "metadata": {},
   "outputs": [
    {
     "name": "stdout",
     "output_type": "stream",
     "text": [
      "50000000000.0\n",
      "<class 'float'>\n"
     ]
    }
   ],
   "source": [
    "# e number format (akan tetap float karena ada koma secara default walaupun hasilnya bilangan bulat)\n",
    "angka = 5e10\n",
    "print(angka)\n",
    "print(type(angka))"
   ]
  },
  {
   "cell_type": "code",
   "execution_count": 5,
   "id": "fc1f33ca",
   "metadata": {},
   "outputs": [
    {
     "name": "stdout",
     "output_type": "stream",
     "text": [
      "5e-10\n",
      "<class 'float'>\n"
     ]
    }
   ],
   "source": [
    "# e number format\n",
    "\n",
    "angka = 5e-10\n",
    "print(angka)\n",
    "print(type(angka))\n"
   ]
  },
  {
   "cell_type": "markdown",
   "id": "1ef9ab55",
   "metadata": {},
   "source": [
    "## Operasi dasar python\n",
    "1. Penjumlahan (+)\n",
    "Digunakan untuk menjumlahkan dua nilai. outputnya tergantung nilai yang dijumlahkan bisa int atau float\n",
    "2. Pengurangan (-)\n",
    "Digunakan untuk mengurangkan nilai kedua dari nilai pertama. outputnya tergantung nilai yang dikurangkan bisa int atau float\n",
    "3. Perkalian (*)\n",
    "Digunakan untuk mengalikan dua nilai. outputnya tergantung nilai yang dikalikan bisa int atau float\n",
    "4. Pembagian (/)\n",
    "Digunakan untuk membagi nilai pertama dengan nilai kedua. Hasilnya selalu float.\n",
    "5. Modulus (%)\n",
    "Digunakan untuk mendapatkan sisa hasil bagi. outputnya tergantung nilai yang dimodulus bisa int atau float\n",
    "6. Pangkat (**)\n",
    "Digunakan untuk perpangkatan. outputnya tergantung nilai yang dipangkatkan bisa int atau float\n",
    "7. Pembagian Bulat (//)\n",
    "Digunakan untuk membagi dua nilai dan hasilnya dibulatkan ke bawah (floor division). outputnya tergantung nilai yang dibagi bisa int atau float (konsep nya seperti round di excel)\n",
    "\n",
    "Semua operator di atas bisa digunakan untuk tipe data numerik (int/float).\n",
    "\n"
   ]
  },
  {
   "cell_type": "code",
   "execution_count": 7,
   "id": "eef043b8",
   "metadata": {},
   "outputs": [
    {
     "name": "stdout",
     "output_type": "stream",
     "text": [
      "2\n",
      "<class 'int'>\n"
     ]
    }
   ],
   "source": [
    "# modulus (sisa bagi)\n",
    "angka1 = 10\n",
    "angka2 = 4\n",
    "print(angka1 % angka2)\n",
    "print(type(angka1 % angka2))\n",
    "\n",
    "# 10 dibagi 4 = 2 sisa 2\n"
   ]
  },
  {
   "cell_type": "code",
   "execution_count": 9,
   "id": "a06f9ff3",
   "metadata": {},
   "outputs": [
    {
     "name": "stdout",
     "output_type": "stream",
     "text": [
      "5\n"
     ]
    }
   ],
   "source": [
    "print(5%50)\n",
    "\n",
    "# kenapa hasilnya 5? karena 5 dibagi 50 = 0 sisa 5"
   ]
  },
  {
   "cell_type": "code",
   "execution_count": 10,
   "id": "f428eef4",
   "metadata": {},
   "outputs": [
    {
     "name": "stdout",
     "output_type": "stream",
     "text": [
      "8\n",
      "<class 'int'>\n"
     ]
    }
   ],
   "source": [
    "# Pangkat\n",
    "angka1 = 2\n",
    "angka2 = 3\n",
    "print(angka1 ** angka2)\n",
    "print(type(angka1 ** angka2))\n"
   ]
  },
  {
   "cell_type": "code",
   "execution_count": 11,
   "id": "f433a325",
   "metadata": {},
   "outputs": [
    {
     "name": "stdout",
     "output_type": "stream",
     "text": [
      "2\n",
      "<class 'int'>\n"
     ]
    }
   ],
   "source": [
    "# floor division (bagian bulat dari hasil pembagian) sama dengan konsep round di excel\n",
    "angka1 = 10\n",
    "angka2 = 4\n",
    "print(angka1 // angka2)\n",
    "print(type(angka1 // angka2))\n",
    "\n",
    "# 10 dibagi 4 = 2 sisa 2\n"
   ]
  },
  {
   "cell_type": "code",
   "execution_count": 12,
   "id": "474be63d",
   "metadata": {},
   "outputs": [
    {
     "name": "stdout",
     "output_type": "stream",
     "text": [
      "15\n"
     ]
    }
   ],
   "source": [
    "import math # https://docs.python.org/3/library/math.html\n",
    "\n",
    "angka = 17\n",
    "kelipatan = 5\n",
    "hasil = (angka // kelipatan) * kelipatan\n",
    "print(hasil)  # Output: 15\n",
    "\n",
    "# math.floor(x): Membulatkan ke bawah (floor) ke integer terdekat.\n",
    "print(math.floor(3.7))  # Output: 3\n",
    "# math.ceil(x): Membulatkan ke atas (ceil) ke integer terdekat.\n",
    "print(math.ceil(3.7))  # Output: 4\n",
    "# math.sqrt(x): Menghitung akar kuadrat.\n",
    "print(math.sqrt(16))  # Output: 4.0\n",
    "# math.pow(x, y): Perpangkatan (x^y).\n",
    "print(math.pow(2, 3))  # Output: 8.0\n",
    "# math.log(x): Logaritma natural.\n",
    "print(math.log(math.e))  # Output: 1.0\n",
    "# math.sin(x), math.cos(x), math.tan(x): Fungsi trigonometri.\n",
    "print(math.sin(math.pi/2))  # Output: 1.0\n",
    "print(math.cos(math.pi))  # Output: -1.0\n",
    "print(math.tan(math.pi/4))  # Output: 1.0"
   ]
  },
  {
   "cell_type": "code",
   "execution_count": 14,
   "id": "888f9068",
   "metadata": {},
   "outputs": [
    {
     "name": "stdout",
     "output_type": "stream",
     "text": [
      "hasil w= 1.7777777777777777\n"
     ]
    }
   ],
   "source": [
    "x = 4\n",
    "y = 3\n",
    "z = 2\n",
    "\n",
    "w = (( x + y * (z ** z)) / (x * y)) ** z\n",
    "print(\"hasil w=\", w)"
   ]
  },
  {
   "cell_type": "markdown",
   "id": "99247ade",
   "metadata": {},
   "source": [
    "### String\n",
    "Tipe data yang berupa teks yang ditandai dengan tanda petik (kutip 1, 2, atau 3). String dapat berisi karakter, angka, atau simbol.  \n",
    "**Di Python, string bersifat immutable, artinya isi string tidak bisa diubah setelah dibuat. Jika ingin mengubah string, harus membuat string baru.**\n",
    "\n",
    "Konsepnya sama seperti tanda kurung, harus sepasang dan tidak boleh ada yang hilang.\n"
   ]
  },
  {
   "cell_type": "code",
   "execution_count": null,
   "id": "7bd711ad",
   "metadata": {},
   "outputs": [
    {
     "name": "stdout",
     "output_type": "stream",
     "text": [
      "Jaemin adalah member NCT Dream\n"
     ]
    }
   ],
   "source": [
    "# petik 1 \n",
    "text = 'Jaemin adalah member NCT Dream'\n",
    "print(text)"
   ]
  },
  {
   "cell_type": "code",
   "execution_count": 17,
   "id": "657e2098",
   "metadata": {},
   "outputs": [
    {
     "name": "stdout",
     "output_type": "stream",
     "text": [
      "Jaemin berkata, \"Aku juga member NCT U\"\n"
     ]
    }
   ],
   "source": [
    "text = 'Jaemin berkata, \"Aku juga member NCT U\"'\n",
    "print(text)\n",
    "\n",
    "#tanda petik 2 ini jadi bagian dari string"
   ]
  },
  {
   "cell_type": "markdown",
   "id": "a2414ba7",
   "metadata": {},
   "source": [
    "***Notes*\n",
    "1. Jika semisal terdapat tanda petik bawang (') di dalam string, bisa menggunakan tanda petik dua (\") untuk mendefinisikan string tersebut.\n",
    "2. Begitu juga sebaliknya, jika terdapat tanda petik dua (\") di dalam string, bisa menggunakan tanda petik bawang (') untuk mendefinisikan string.\n",
    "3. Tidak boleh ada enter dalam (') atau (\") akan menyebabkan error. untuk mengatasinya pakai tanda petik (''') karena petik 3 bisa untuk string multi-baris"
   ]
  },
  {
   "cell_type": "code",
   "execution_count": 18,
   "id": "f99147b7",
   "metadata": {},
   "outputs": [
    {
     "name": "stdout",
     "output_type": "stream",
     "text": [
      "Jaemin berkata,\n",
      "\"Aku suka NCT Dream\"\n",
      "dan 'NCT U' juga!\n"
     ]
    }
   ],
   "source": [
    "text = \"\"\"Jaemin berkata,\n",
    "\"Aku suka NCT Dream\"\n",
    "dan 'NCT U' juga!\"\"\"\n",
    "print(text)\n",
    "# Petik 3 bisa untuk string multi-baris dan campur petik 1 & 2 di dalamnya"
   ]
  },
  {
   "cell_type": "code",
   "execution_count": 20,
   "id": "31bb06e8",
   "metadata": {},
   "outputs": [
    {
     "name": "stdout",
     "output_type": "stream",
     "text": [
      "Baris baru (\\n):\n",
      "Heart2Heart debut di bawah SM Entertainment\n",
      "Tab horizontal (\\t):\tChad adalah leader H2H\n",
      "Backslash (\\\\): Ini tanda backslash: \\\n",
      "Tanda kutip tunggal (\\'): Ini tanda kutip tunggal: 'Nikki'\n",
      "Tanda kutip ganda (\\\"): Ini tanda kutip ganda: \"Kenny\"\n",
      "Backspace (\\b): Heart2Heart\n",
      "Form feed (\\f): Sebelum form feed\fSesudah form feed\n",
      "Sesudahe return (\\r): Sebelum carriage return\n",
      "Unicode (\\uXXXX): Simbol hati: ♥\n",
      "Octal (\\ooo): Karakter H: H\n",
      "Hex (\\xhh): Karakter 2: 2\n"
     ]
    }
   ],
   "source": [
    "escape_examples = (\n",
    "    \"Baris baru (\\\\n):\\nHeart2Heart debut di bawah SM Entertainment\\n\"\n",
    "    \"Tab horizontal (\\\\t):\\tChad adalah leader H2H\\n\"\n",
    "    \"Backslash (\\\\\\\\): Ini tanda backslash: \\\\\\n\"\n",
    "    \"Tanda kutip tunggal (\\\\'): Ini tanda kutip tunggal: \\'Nikki\\'\\n\"\n",
    "    \"Tanda kutip ganda (\\\\\\\"): Ini tanda kutip ganda: \\\"Kenny\\\"\\n\"\n",
    "    \"Backspace (\\\\b): Heart2Hea\\bart\\n\"\n",
    "    \"Form feed (\\\\f): Sebelum form feed\\fSesudah form feed\\n\"\n",
    "    \"Carriage return (\\\\r): Sebelum carriage return\\rSesudah\\n\"\n",
    "    \"Unicode (\\\\uXXXX): Simbol hati: \\u2665\\n\"\n",
    "    \"Octal (\\\\ooo): Karakter H: \\110\\n\"\n",
    "    \"Hex (\\\\xhh): Karakter 2: \\x32\"\n",
    ")\n",
    "\n",
    "print(escape_examples)\n"
   ]
  },
  {
   "cell_type": "markdown",
   "id": "7c410c21",
   "metadata": {},
   "source": [
    "# LEN FUNGSI & STRING METHOD"
   ]
  },
  {
   "cell_type": "code",
   "execution_count": 37,
   "id": "81334f7c",
   "metadata": {},
   "outputs": [
    {
     "name": "stdout",
     "output_type": "stream",
     "text": [
      "30\n",
      "0\n",
      "['Jaemin', 'adalah', 'member', 'nct', 'dream']\n",
      "jaemin adalah member nct dream\n",
      "JAEMIN ADALAH MEMBER NCT DREAM\n",
      "Jaemin adalah member nct dream\n",
      "Jaemin Adalah Member Nct Dream\n",
      "Jaemin adalah member NCT dream\n",
      "Joemin odoloh member nct dreom\n"
     ]
    }
   ],
   "source": [
    "x = 'Jaemin adalah member nct dream'\n",
    "\n",
    "panjangString = len(x) #jumlah karakter\n",
    "print(panjangString)\n",
    "\n",
    "indexJaemin = x.index('Jaemin')\n",
    "print(indexJaemin) #jaemin dari awal karakter\n",
    "\n",
    "hasilSplit = x.split(' ')\n",
    "print(hasilSplit) #split berdasarkan spasi, hasilnya list. jadi splitternya bisa diisi apapun tergantung teks dan kebutuhan.\n",
    "\n",
    "jadiHurufKecil = x.lower()\n",
    "print(jadiHurufKecil) #mengubah semua huruf menjadi kecil\n",
    "\n",
    "jadiHurufBesar = x.upper()\n",
    "print(jadiHurufBesar) #mengubah semua huruf menjadi besar\n",
    "\n",
    "hurufPertamaKapital = x.capitalize()\n",
    "print(hurufPertamaKapital)#mengubah huruf pertama menjadi kapital\n",
    "\n",
    "setiapHurufAwalKapital = x.title()\n",
    "print(setiapHurufAwalKapital) #mengubah setiap huruf awal menjadi kapital\n",
    "\n",
    "x_nct_kapital = x.replace('nct', 'nct'.upper())\n",
    "print(x_nct_kapital)  # Output: Jaemin adalah member NCT dream\n",
    "\n",
    "x_replace_huruf = x.replace('a', 'o')\n",
    "print(x_replace_huruf) #mengganti huruf a menjadi o\n"
   ]
  },
  {
   "cell_type": "code",
   "execution_count": 28,
   "id": "302e5bc8",
   "metadata": {},
   "outputs": [
    {
     "name": "stdout",
     "output_type": "stream",
     "text": [
      "0\n"
     ]
    }
   ],
   "source": [
    "x = 'jAemIn adalah member nct dream'\n",
    "indexJaemin = x.lower().index('jaemin')\n",
    "print(indexJaemin)  # Output: 0"
   ]
  },
  {
   "cell_type": "code",
   "execution_count": 43,
   "id": "518096af",
   "metadata": {},
   "outputs": [
    {
     "name": "stdout",
     "output_type": "stream",
     "text": [
      "Jaemin\n",
      "adalah\n",
      "member \n",
      "nct \n",
      "dream\n",
      "Jaemin adalah member nct dream\n"
     ]
    }
   ],
   "source": [
    "# String Slicing adalah teknik untuk mengambil sebagian dari string\n",
    "x = 'Jaemin adalah member nct dream'\n",
    "print(x[0:6])  # Output: Jaemin\n",
    "print(x[7:13])  # Output: adalah\n",
    "print(x[14:21])  # Output: member\n",
    "print(x[21:25])  # Output: nct\n",
    "print(x[25:31])  # Output: dream\n",
    "\n",
    "print(x[0:])  # kalo di akhir-an nya kosong jadi ambil dari index 1 sampai akhir"
   ]
  },
  {
   "cell_type": "code",
   "execution_count": null,
   "id": "fb0cac10",
   "metadata": {},
   "outputs": [
    {
     "name": "stdout",
     "output_type": "stream",
     "text": [
      "Jaemin adalah member nct dream\n"
     ]
    }
   ],
   "source": [
    "# String Concatenation adalah teknik untuk menggabungkan dua string atau lebih\n",
    "x = 'Jaemin'\n",
    "y = 'adalah member nct dream'\n",
    "z = x + ' ' + y\n",
    "print(z)  # Output: Jaemin adalah member nct dream\n"
   ]
  },
  {
   "cell_type": "code",
   "execution_count": 35,
   "id": "ebdcd040",
   "metadata": {},
   "outputs": [
    {
     "name": "stdout",
     "output_type": "stream",
     "text": [
      "Jaemin adalah member nct dream\n",
      "Jaemin adalah member nct dream\n"
     ]
    }
   ],
   "source": [
    "# String Format adalah cara untuk menggabungkan variabel ke dalam string dengan lebih fleksibel dan rapi, tanpa harus pakai tanda plus (+) atau koma.\n",
    "x = 'Jaemin'\n",
    "y = 'adalah member nct dream'\n",
    "z = '{} {}'.format(x, y)\n",
    "print(z)  # Output: Jaemin adalah member nct dream\n",
    "\n",
    "x = 'Jaemin'\n",
    "y = 'adalah member nct dream'\n",
    "z = f\"{x} {y}\"\n",
    "print(z)\n"
   ]
  },
  {
   "cell_type": "code",
   "execution_count": 44,
   "id": "e3c0eb92",
   "metadata": {},
   "outputs": [
    {
     "name": "stdout",
     "output_type": "stream",
     "text": [
      "Member NCT Dream yang hadir: 1 Jaemin, 2 Jeno, dan 3 Renjun.\n"
     ]
    }
   ],
   "source": [
    "jumlahJaemin = 1\n",
    "jumlahJeno = 2\n",
    "jumlahRenjun = 3\n",
    "\n",
    "kalimat = \"Member NCT Dream yang hadir: {jmlJaemin} Jaemin, {jmlJeno} Jeno, dan {jmlRenjun} Renjun.\"\n",
    "print(kalimat.format(jmlJaemin=jumlahJaemin, jmlJeno=jumlahJeno, jmlRenjun=jumlahRenjun))"
   ]
  },
  {
   "cell_type": "code",
   "execution_count": 47,
   "id": "62a937ad",
   "metadata": {},
   "outputs": [
    {
     "name": "stdout",
     "output_type": "stream",
     "text": [
      "Cicak cicak Di Dinding,\n",
      "\tDiam Diam Merayap\n",
      "\t\tDatang Seekor Nyamuk,\n",
      "\t\t\tHap Hap Hap.\n",
      "\n",
      "Lalu Ditangkap\n",
      "\tYEAY!!!!\n"
     ]
    }
   ],
   "source": [
    "# nomer 1 - lirik denga tab\n",
    "lirik = '''Cicak cicak Di Dinding,\n",
    "\\tDiam Diam Merayap\n",
    "\\t\\tDatang Seekor Nyamuk,\n",
    "\\t\\t\\tHap Hap Hap.\n",
    "\n",
    "Lalu Ditangkap\n",
    "\\tYEAY!!!!'''\n",
    "\n",
    "print(lirik)"
   ]
  },
  {
   "cell_type": "code",
   "execution_count": 48,
   "id": "ab2deac5",
   "metadata": {},
   "outputs": [
    {
     "name": "stdout",
     "output_type": "stream",
     "text": [
      "Lingkaran Tersebut Memiliki Jari-Jari 4.0 cm dan Diameter 8.0 cm\n",
      "Luas Lingkaran Tersebut Adalah 50.26548245743669 cm^2 dan Kelilingnya adalah 25.132741228718345\n",
      "Luas dan Keliling Setengah Lingkaran Tersebut adalah 25.132741228718345 cm^2 dan 20.566370614359172\n"
     ]
    }
   ],
   "source": [
    "# Nomor 2 - Luas dan Keliling Lingkaran\n",
    "import math\n",
    "\n",
    "# Input\n",
    "r = float(input(\"Masukan Nilai Jari-Jari Lingkaran : \"))\n",
    "\n",
    "# Perhitungan dasar\n",
    "diameter = 2 * r\n",
    "luas = math.pi * r**2\n",
    "keliling = 2 * math.pi * r\n",
    "\n",
    "# Perhitungan setengah lingkaran\n",
    "luas_setengah = luas / 2\n",
    "keliling_setengah = (math.pi * r) + diameter  # setengah keliling busur + diameter\n",
    "\n",
    "# Output\n",
    "print(f\"Lingkaran Tersebut Memiliki Jari-Jari {r:.1f} cm dan Diameter {diameter:.1f} cm\")\n",
    "print(f\"Luas Lingkaran Tersebut Adalah {luas} cm^2 dan Kelilingnya adalah {keliling}\")\n",
    "print(f\"Luas dan Keliling Setengah Lingkaran Tersebut adalah {luas_setengah} cm^2 dan {keliling_setengah}\")"
   ]
  },
  {
   "cell_type": "code",
   "execution_count": 62,
   "id": "8ba8e0c2",
   "metadata": {},
   "outputs": [
    {
     "name": "stdout",
     "output_type": "stream",
     "text": [
      "jaemin adalah member nct dream\n"
     ]
    }
   ],
   "source": [
    "# Nomor 3 - Ganti Karakter Pertama\n",
    "teks = input(\"masukkan teks : \")\n",
    "pengganti = input(\"Masukkan Karakter Pengganti : \")\n",
    "\n",
    "karakter_awal = teks[0]  # ambil karakter pertama\n",
    "hasil = teks.replace(karakter_awal, pengganti)  # ganti karakter pertama saja\n",
    "\n",
    "\n",
    "print(karakter_awal + hasil[1:])  # gabungkan karakter awal dengan sisa teks yang sudah diganti"
   ]
  },
  {
   "cell_type": "code",
   "execution_count": null,
   "id": "6fb7eeb2",
   "metadata": {},
   "outputs": [
    {
     "name": "stdout",
     "output_type": "stream",
     "text": [
      "Jaad Jaad Jaad\n"
     ]
    }
   ],
   "source": [
    "kata1 = \"Jaemin\"\n",
    "kata2 = \"adalah member nct dream\"\n",
    "kata3 = \"adalah member nct u\"\n",
    "kata4 = \"adalah member nct universe\"\n",
    "\n",
    "hasil1 = kata1[:2] + kata2[:2]\n",
    "hasil2 = kata1[:2] + kata3[:2]\n",
    "hasil3 = kata1[:2] + kata4[:2]\n",
    "\n",
    "print(hasil1, hasil2, hasil3)\n",
    "\n",
    "# kata1[:2] artinya ambil 2 karakter pertama dari kata1 (\"Ja\").\n",
    "# kata2[:2] artinya ambil 2 karakter pertama dari kata2 (\"ad\").\n",
    "# Begitu juga untuk kata3 dan kata4.\n",
    "# Proses:\n",
    "# hasil1 = \"Ja\" + \"ad\" → \"Jaad\"\n",
    "# hasil2 = \"Ja\" + \"ad\" → \"Jaad\"\n",
    "# hasil3 = \"Ja\" + \"ad\" → \"Jaad\""
   ]
  },
  {
   "cell_type": "code",
   "execution_count": null,
   "id": "4c074803",
   "metadata": {},
   "outputs": [
    {
     "name": "stdout",
     "output_type": "stream",
     "text": [
      "Luas Permukaan = 160.60\n",
      "Volume = 154.87\n"
     ]
    }
   ],
   "source": [
    "# Nomor 5\n",
    "import math\n",
    "\n",
    "r = float(input(\"Masukkan jari-jari (r): \"))\n",
    "h = float(input(\"Masukkan tinggi (h): \"))\n",
    "\n",
    "luas_permukaan = 2 * math.pi * r * (r + h)\n",
    "volume = math.pi * r**2 * h\n",
    "\n",
    "print(f\"Luas Permukaan = {luas_permukaan:.2f}\")\n",
    "print(f\"Volume = {volume:.2f}\")\n",
    "\n",
    "\n",
    "# Import math\n",
    "# Agar bisa menggunakan nilai π (pi) dari modul math.\n",
    "\n",
    "# Input\n",
    "# r adalah jari-jari tabung (cylinder), diinput user.\n",
    "# h adalah tinggi tabung, diinput user.\n",
    "# Hitung Luas Permukaan Tabung\n",
    "# Rumus:\n",
    "# luas_permukaan = 2 * π * r * (r + h)\n",
    "\n",
    "# 2 * π * r * r adalah luas dua lingkaran (atas & bawah).\n",
    "# 2 * π * r * h adalah luas selimut tabung.\n",
    "\n",
    "# Hitung Volume Tabung\n",
    "\n",
    "# Rumus:\n",
    "# volume = π * r^2 * h\n",
    "# π * r^2 adalah luas alas lingkaran, dikali tinggi.\n",
    "# Output\n",
    "# Menampilkan hasil luas permukaan dan volume dengan 2 angka di belakang koma (:.2f).\n",
    "# Kesimpulan:\n",
    "# Kode ini menghitung dan menampilkan luas permukaan serta volume tabung berdasarkan input jari-jari dan tinggi dari user."
   ]
  },
  {
   "cell_type": "code",
   "execution_count": null,
   "id": "93194a1b",
   "metadata": {},
   "outputs": [
    {
     "name": "stdout",
     "output_type": "stream",
     "text": [
      "450 hari adalah 1 tahun, dan 3 bulan.\n"
     ]
    }
   ],
   "source": [
    "total_hari = int(input(\"Masukkan total hari: \"))\n",
    "\n",
    "#hitung tahun\n",
    "tahun = total_hari // 360\n",
    "sisa_hari = total_hari % 360\n",
    "\n",
    "#hitung bulan\n",
    "bulan = sisa_hari // 30\n",
    "sisa_hari = sisa_hari % 30\n",
    "\n",
    "#hitung minggu\n",
    "minggu = sisa_hari // 7\n",
    "sisa_hari = sisa_hari % 7\n",
    "\n",
    "#hitung hari\n",
    "hari = sisa_hari\n",
    "\n",
    "#output dengan pengecualian nilai nol\n",
    "components = []\n",
    "if tahun > 0:\n",
    "    components.append(f\"{tahun} tahun\") # Jika array components kosong (semua nilai tahun, bulan, minggu, dan hari adalah 0)\n",
    "if bulan > 0:\n",
    "    components.append(f\"{bulan} bulan\")\n",
    "if minggu > 0:\n",
    "    components.append(f\"{minggu} minggu\")\n",
    "if hari > 0:\n",
    "    components.append(f\"{hari} hari\")\n",
    "\n",
    "if not components:\n",
    "    print(f\"{total_hari} hari adalah 0 hari.\")\n",
    "elif len(components) == 1:\n",
    "    print(f\"{total_hari} hari adalah {components[0]}.\")\n",
    "else:\n",
    "    output = \", \".join(components[:-1]) + \", dan \" + components[-1]\n",
    "    print(f\"{total_hari} hari adalah {output}.\")"
   ]
  }
 ],
 "metadata": {
  "kernelspec": {
   "display_name": "base",
   "language": "python",
   "name": "python3"
  },
  "language_info": {
   "codemirror_mode": {
    "name": "ipython",
    "version": 3
   },
   "file_extension": ".py",
   "mimetype": "text/x-python",
   "name": "python",
   "nbconvert_exporter": "python",
   "pygments_lexer": "ipython3",
   "version": "3.13.5"
  }
 },
 "nbformat": 4,
 "nbformat_minor": 5
}
