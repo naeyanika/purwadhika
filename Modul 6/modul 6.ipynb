{
 "cells": [
  {
   "cell_type": "markdown",
   "id": "50e4dd99",
   "metadata": {},
   "source": [
    "## Dictionary dan Functions"
   ]
  },
  {
   "cell_type": "markdown",
   "id": "f124eba6",
   "metadata": {},
   "source": [
    "### Dictionary\n",
    "---\n",
    "Dictionary adalah tipe data yang menyimpan data dalam bentuk pasangan key-value. Key berfungsi sebagai identitas unik untuk setiap value dalam dictionary. Dictionary dapat diakses, dimodifikasi, dan dihapus menggunakan key-nya."
   ]
  },
  {
   "cell_type": "code",
   "execution_count": null,
   "id": "7dd430cb",
   "metadata": {},
   "outputs": [
    {
     "name": "stdout",
     "output_type": "stream",
     "text": [
      "Na Jaemin\n",
      "21\n",
      "rapper\n",
      "Renjun Lee\n",
      "18\n",
      "vocalist\n",
      "Park Ji-sung\n",
      "{\n",
      "\t\"jaemin\": {\n",
      "\t\t\"nama_lengkap\": \"Na Jaemin\",\n",
      "\t\t\"usia\": 22,\n",
      "\t\t\"posisi\": \"rapper\"\n",
      "\t},\n",
      "\t\"mark\": {\n",
      "\t\t\"nama_lengkap\": \"Mark Lee\",\n",
      "\t\t\"usia\": 21,\n",
      "\t\t\"posisi\": \"rapper\"\n",
      "\t},\n",
      "\t\"jeno\": {\n",
      "\t\t\"nama_lengkap\": \"Jeno Lee\",\n",
      "\t\t\"usia\": 20,\n",
      "\t\t\"posisi\": \"rapper\"\n",
      "\t},\n",
      "\t\"renjun\": {\n",
      "\t\t\"nama_lengkap\": \"Renjun Lee\",\n",
      "\t\t\"usia\": 19,\n",
      "\t\t\"posisi\": \"vocalist\"\n",
      "\t},\n",
      "\t\"haechan\": {\n",
      "\t\t\"nama_lengkap\": \"Haechan Lee\",\n",
      "\t\t\"usia\": 18,\n",
      "\t\t\"posisi\": \"vocalist\"\n",
      "\t},\n",
      "\t\"chenle\": {\n",
      "\t\t\"nama_lengkap\": \"Chenle Lee\",\n",
      "\t\t\"usia\": 19,\n",
      "\t\t\"posisi\": \"vocalist\"\n",
      "\t},\n",
      "\t\"jisung\": {\n",
      "\t\t\"nama_lengkap\": \"Park Ji-sung\",\n",
      "\t\t\"usia\": 17,\n",
      "\t\t\"posisi\": \"dancer\"\n",
      "\t}\n",
      "}\n"
     ]
    }
   ],
   "source": [
    "import json\n",
    "import pandas as pd\n",
    "## Contoh Dictionary\n",
    "nct_member = {\n",
    "    \"jaemin\": {\"nama_lengkap\": \"Na Jaemin\",\"usia\": 22, \"posisi\": \"rapper\"},\n",
    "    \"mark\": {\"nama_lengkap\": \"Mark Lee\",\"usia\": 21, \"posisi\": \"rapper\"},\n",
    "    \"jeno\": {\"nama_lengkap\": \"Jeno Lee\",\"usia\": 20, \"posisi\": \"rapper\"},\n",
    "    \"renjun\": {\"nama_lengkap\": \"Renjun Lee\",\"usia\": 19, \"posisi\": \"vocalist\"},\n",
    "    \"haechan\": {\"nama_lengkap\": \"Haechan Lee\",\"usia\": 18, \"posisi\": \"vocalist\"},\n",
    "    \"chenle\": {\"nama_lengkap\": \"Chenle Lee\",\"usia\": 19, \"posisi\": \"vocalist\"},\n",
    "    \"jisung\": {\"nama_lengkap\": \"Park Ji-sung\",\"usia\": 17, \"posisi\": \"dancer\"}\n",
    "}\n",
    "\n",
    "\n",
    "print(nct_member[\"jaemin\"][\"nama_lengkap\"]) # Output: Na Jaemin\n",
    "print(nct_member[\"mark\"][\"usia\"]) # Output: 21\n",
    "print(nct_member[\"jeno\"][\"posisi\"]) # Output: rapper\n",
    "print(nct_member[\"renjun\"][\"nama_lengkap\"]) # Output: Renjun Lee\n",
    "print(nct_member[\"haechan\"][\"usia\"]) # Output: 18\n",
    "print(nct_member[\"chenle\"][\"posisi\"]) # Output: vocalist\n",
    "print(nct_member[\"jisung\"][\"nama_lengkap\"]) # Output: Park Ji-sung\n",
    "\n",
    "dict_nct = dict(\n",
    "    jaemin=nct_member[\"jaemin\"],\n",
    "    mark=nct_member[\"mark\"],\n",
    "    jeno=nct_member[\"jeno\"],\n",
    "    renjun=nct_member[\"renjun\"],\n",
    "    haechan=nct_member[\"haechan\"],\n",
    "    chenle=nct_member[\"chenle\"],\n",
    "    jisung=nct_member[\"jisung\"]\n",
    ")\n",
    "\n",
    "print(json.dumps(dict_nct, indent=4).replace('    ', '\\t'))\n",
    "\n",
    "# Membuat DataFrame dari dictionary\n",
    "df = pd.DataFrame.from_dict(nct_member, orient='index')\n",
    "print(df)\n",
    "# Jika di Jupyter Notebook, cukup tulis df saja agar tampil tabel interaktif\n",
    "df"
   ]
  }
 ],
 "metadata": {
  "kernelspec": {
   "display_name": "base",
   "language": "python",
   "name": "python3"
  },
  "language_info": {
   "codemirror_mode": {
    "name": "ipython",
    "version": 3
   },
   "file_extension": ".py",
   "mimetype": "text/x-python",
   "name": "python",
   "nbconvert_exporter": "python",
   "pygments_lexer": "ipython3",
   "version": "3.13.5"
  }
 },
 "nbformat": 4,
 "nbformat_minor": 5
}
