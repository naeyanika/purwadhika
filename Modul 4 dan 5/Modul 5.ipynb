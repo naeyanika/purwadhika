{
 "cells": [
  {
   "cell_type": "markdown",
   "id": "85eb16e8",
   "metadata": {},
   "source": [
    "### Looping\n",
    "looping adalah proses pengulangan suatu blok kode secara terus-menerus hingga kondisi tertentu terpenuhi. Dalam Python, terdapat beberapa cara untuk melakukan looping, antara lain menggunakan perulangan `for` dan `while`.\n",
    "\n",
    "1. For Loop digunakan saat sudah tau jumlah pengulangan yang pasti atau ingin mengiterasi elemen dalam suatu koleksi (seperti list, tuple, atau string).\n",
    "2. While Loop digunakan saat jumlah pengulangan belum diketahui dan bergantung pada kondisi tertentu. Loop ini akan terus berjalan selama kondisi yang diberikan bernilai True."
   ]
  },
  {
   "cell_type": "markdown",
   "id": "191580c3",
   "metadata": {},
   "source": [
    "### 1. WHILE - LOOPING"
   ]
  },
  {
   "cell_type": "code",
   "execution_count": null,
   "id": "8ac3183d",
   "metadata": {},
   "outputs": [],
   "source": [
    "angka = int(input(\"Masukkan angka: \"))\n",
    "while angka <= 10:\n",
    "    print(f'Saat ini angka adalah {angka}')\n",
    "    x = angka + 10\n",
    "    print(f'nilai x adalah {x}')\n",
    "\n",
    "# Kode tersebut menjadi infinity loop (deadloop) karena nilai variabel angka tidak pernah berubah di dalam loop.\n",
    "# Kondisi while angka <= 10: akan selalu bernilai True jika angka dari input awal kurang dari atau sama dengan 10, sehingga perulangan tidak pernah berhenti."
   ]
  },
  {
   "cell_type": "code",
   "execution_count": 6,
   "id": "f256316d",
   "metadata": {},
   "outputs": [
    {
     "name": "stdout",
     "output_type": "stream",
     "text": [
      "Saat ini angka adalah 5\n",
      "nilai x adalah 15\n",
      "Saat ini angka adalah 6\n",
      "nilai x adalah 16\n",
      "Saat ini angka adalah 7\n",
      "nilai x adalah 17\n",
      "Saat ini angka adalah 8\n",
      "nilai x adalah 18\n",
      "Saat ini angka adalah 9\n",
      "nilai x adalah 19\n",
      "Saat ini angka adalah 10\n",
      "nilai x adalah 20\n"
     ]
    }
   ],
   "source": [
    "angka = int(input(\"Masukkan angka: \"))\n",
    "while angka <= 10:\n",
    "    print(f'Saat ini angka adalah {angka}')\n",
    "    x = angka + 10\n",
    "    angka = angka + 1  # Memperbarui nilai angka agar loop dapat berhenti\n",
    "    print(f'nilai x adalah {x}')\n"
   ]
  },
  {
   "cell_type": "code",
   "execution_count": 7,
   "id": "b3c97933",
   "metadata": {},
   "outputs": [
    {
     "name": "stdout",
     "output_type": "stream",
     "text": [
      "10 adalah Bilangan GENAP\n",
      "50 adalah Bilangan GENAP\n"
     ]
    }
   ],
   "source": [
    "while True:\n",
    "    try:\n",
    "        angka = int(input(\"Masukkan Angka Berapapun: \"))\n",
    "\n",
    "        if angka == 0:\n",
    "            print('0 Bukan Positif/Negatif')\n",
    "        elif angka < 0:\n",
    "            print('Masukkan Bilangan Positif')\n",
    "        else:\n",
    "            if angka % 2 == 0:\n",
    "                print(f'{angka} adalah Bilangan GENAP')\n",
    "            else:\n",
    "                print(f'{angka} adalah Bilangan GANJIL')\n",
    "\n",
    "        pilihan = input(\"Apakah ingin mengulang program? (Y/N): \").lower()\n",
    "        if pilihan == 'n':\n",
    "            break\n",
    "        elif pilihan != 'y':\n",
    "            print(\"Masukkan pilihan yang benar (Y/N)!\")\n",
    "\n",
    "    except ValueError:\n",
    "        print('MASUKKAN SEBUAH ANGKA')"
   ]
  },
  {
   "cell_type": "code",
   "execution_count": null,
   "id": "bb7167d0",
   "metadata": {},
   "outputs": [
    {
     "name": "stdout",
     "output_type": "stream",
     "text": [
      "\n",
      "Detail Belanja\n",
      "Apel  : 2 x 10.000  = 20.000\n",
      "Jeruk : 2 x 15.000 = 30.000\n",
      "Anggur: 2 x 20.000= 40.000\n",
      "\n",
      "Total : 90.000\n",
      "Uang anda kurang sebesar 5.000. Silakan masukkan uang yang cukup atau lebih.\n",
      "Terima kasih\n"
     ]
    }
   ],
   "source": [
    "# harga buah\n",
    "HARGA = {\n",
    "    \"apel\": 10000,\n",
    "    \"jeruk\": 15000,\n",
    "    \"anggur\": 20000,\n",
    "}\n",
    "\n",
    "def rupiah(n: int) -> str:\n",
    "\n",
    "    return f\"{n:,}\".replace(\",\", \".\")\n",
    "    #Fungsi untuk memformat angka ke format rupiah sederhana.\n",
    "    #Contoh: 160000 -> '160.000'\n",
    "\n",
    "def input_bilangan_bulat(prompt: str) -> int:\n",
    "    #Fungsi untuk meminta input bilangan bulat >= 0 dari user.\n",
    "    #Akan terus meminta input sampai user memasukkan angka yang valid.\n",
    "    while True:\n",
    "        s = input(prompt).strip()\n",
    "        try:\n",
    "            val = int(s)\n",
    "            if val < 0:\n",
    "                print(\"Masukan harus >= 0, coba lagi ya.\")\n",
    "                continue\n",
    "            return val\n",
    "        except ValueError:\n",
    "            print(\"Masukan harus angka bulat, coba lagi ya.\")\n",
    "\n",
    "def input_uang(prompt: str) -> int:\n",
    "    #Fungsi untuk meminta input uang (bilangan bulat >= 0) dari user.\n",
    "    #Akan terus meminta input sampai user memasukkan angka yang valid.\n",
    "    while True:\n",
    "        s = input(prompt).strip()\n",
    "        try:\n",
    "            val = int(s)\n",
    "            if val < 0:\n",
    "                print(\"Uang tidak boleh negatif, coba lagi ya.\")\n",
    "                continue\n",
    "            return val\n",
    "        except ValueError:\n",
    "            print(\"Masukan harus angka bulat, coba lagi ya.\")\n",
    "\n",
    "# --------------------- Form Input --------------------- #\n",
    "while True:\n",
    "    # --- Input jumlah buah ---\n",
    "    jml_apel   = input_bilangan_bulat(\"Masukkan Jumlah Apel  : \")\n",
    "    jml_jeruk  = input_bilangan_bulat(\"Masukkan Jumlah Jeruk : \")\n",
    "    jml_anggur = input_bilangan_bulat(\"Masukkan Jumlah Anggur: \")\n",
    "\n",
    "    # --- Hitung detail ---\n",
    "    # hitung subtotal untuk setiap buah dan total keseluruhan belanjaan\n",
    "    sub_apel   = jml_apel   * HARGA[\"apel\"]\n",
    "    sub_jeruk  = jml_jeruk  * HARGA[\"jeruk\"]\n",
    "    sub_anggur = jml_anggur * HARGA[\"anggur\"]\n",
    "    total      = sub_apel + sub_jeruk + sub_anggur\n",
    "\n",
    "    # --- Cetak ringkasan belanja ---\n",
    "    # menapilkan detail belanja (jumlah, harga, satuan dan subtotal) dan total belanja\n",
    "    print(\"\\nDetail Belanja\")\n",
    "    print(f\"Apel  : {jml_apel} x {rupiah(HARGA['apel'])}  = {rupiah(sub_apel)}\")\n",
    "    print(f\"Jeruk : {jml_jeruk} x {rupiah(HARGA['jeruk'])} = {rupiah(sub_jeruk)}\")\n",
    "    print(f\"Anggur: {jml_anggur} x {rupiah(HARGA['anggur'])}= {rupiah(sub_anggur)}\")\n",
    "    print(f\"\\nTotal : {rupiah(total)}\")\n",
    "\n",
    "    total_bayar = total\n",
    "\n",
    "    # --- Input uang dan tentukan kondisi ---\n",
    "    # Masukan pembayaran dari user\n",
    "    uang = input_uang(f\"\\nMasukkan jumlah uang (Total bayar: {rupiah(total_bayar)}): \")\n",
    "\n",
    "    if uang < total_bayar:\n",
    "        # Jika uang pertama kurang dari total bayar:\n",
    "        kekurangan = total_bayar - uang\n",
    "        print(f\"Uang anda kurang sebesar {rupiah(kekurangan)}.\")\n",
    "        # minta user memasukkan kekurangan (boleh lebih dari kekurangan)\n",
    "        tambahan = input_uang(f\"Masukkan kekurangan sebesar {rupiah(kekurangan)} (boleh lebih): \")\n",
    "        total_uang = uang + tambahan\n",
    "        if total_uang < total_bayar:\n",
    "            # Transaksi batal jika masih kurang\n",
    "            kekurangan2 = total_bayar - total_uang\n",
    "            print(f\"Maaf, uang anda masih kurang {rupiah(kekurangan2)}. Transaksi dibatalkan.\")\n",
    "        elif total_uang == total_bayar:\n",
    "            # Transaksi berhasil jika penambahan pas atau lebih\n",
    "            print(\"Terima kasih, pembayaran pas.\")\n",
    "        else:\n",
    "            # Hitung kembalian jika ada kelebihan\n",
    "            kembalian = total_uang - total_bayar\n",
    "            print(\"Terima kasih\")\n",
    "            print(f\"Uang kembali anda : {rupiah(kembalian)}\")\n",
    "    elif uang == total_bayar:\n",
    "        # Transaksi berhasil jika uang pas\n",
    "        print(\"Terima kasih\")\n",
    "    else:\n",
    "        # Hitung kembalian jika lebih bayar\n",
    "        kembalian = uang - total_bayar\n",
    "        print(\"Terima kasih\")\n",
    "        print(f\"Uang kembali anda : {rupiah(kembalian)}\")\n",
    "\n",
    "    # Setelah transaksi selesai atau dibatalkan:\n",
    "    ulang = input(\"\\nApakah ingin melakukan transaksi lagi? (y/n): \").strip().lower()\n",
    "    if ulang != \"y\":\n",
    "        print(\"Terima kasih telah berbelanja!\")\n",
    "        break"
   ]
  },
  {
   "cell_type": "markdown",
   "id": "278c117b",
   "metadata": {},
   "source": [
    "### 2. FOR - LOOPING"
   ]
  },
  {
   "cell_type": "code",
   "execution_count": null,
   "id": "634bbf1d",
   "metadata": {},
   "outputs": [],
   "source": [
    "# struktur for loop\n",
    "# for varLoop in batasan :\n",
    "#     kode\n",
    "\n",
    "# struktur range : start, stop, step\n",
    "\n",
    "for i in range(1, 11):\n",
    "    print(i)"
   ]
  },
  {
   "cell_type": "code",
   "execution_count": 14,
   "id": "eeec2905",
   "metadata": {},
   "outputs": [
    {
     "name": "stdout",
     "output_type": "stream",
     "text": [
      "2\n",
      "4\n",
      "6\n",
      "8\n",
      "10\n"
     ]
    }
   ],
   "source": [
    "# Mulai dari 2, sampai sebelum 11, loncat 2 (step 2)\n",
    "for i in range(2, 11, 2):\n",
    "    print(i)  # Output: 2, 4, 6, 8, 10"
   ]
  },
  {
   "cell_type": "code",
   "execution_count": 15,
   "id": "8587b63d",
   "metadata": {},
   "outputs": [
    {
     "name": "stdout",
     "output_type": "stream",
     "text": [
      "10\n",
      "8\n",
      "6\n",
      "4\n",
      "2\n"
     ]
    }
   ],
   "source": [
    "# Mulai dari 10, sampai sebelum 1, mundur 2 (step -2)\n",
    "for i in range(10, 1, -2):\n",
    "    print(i)  # Output: 10, 8, 6, 4, 2"
   ]
  },
  {
   "cell_type": "code",
   "execution_count": 19,
   "id": "22f77544",
   "metadata": {},
   "outputs": [
    {
     "name": "stdout",
     "output_type": "stream",
     "text": [
      "Mark adalah member NCT Dream\n",
      "Renjun adalah member NCT Dream\n",
      "Jeno adalah member NCT Dream\n",
      "Haechan adalah member NCT Dream\n",
      "Jaemin adalah member NCT Dream\n",
      "Chenle adalah member NCT Dream\n",
      "Jisung adalah member NCT Dream\n"
     ]
    }
   ],
   "source": [
    "# Contoh list\n",
    "for member_dream in [\"Mark\", \"Renjun\", \"Jeno\", \"Haechan\", \"Jaemin\", \"Chenle\", \"Jisung\"]:\n",
    "    print(f'{member_dream} adalah member NCT Dream')"
   ]
  },
  {
   "cell_type": "code",
   "execution_count": 21,
   "id": "ae53c901",
   "metadata": {},
   "outputs": [
    {
     "name": "stdout",
     "output_type": "stream",
     "text": [
      "Mark adalah member NCT Dream, 127, U, Universe, SuperM\n",
      "Renjun adalah member NCT Dream, U, Universe\n",
      "Jeno adalah member NCT Dream, U, Universe\n",
      "Haechan adalah member NCT Dream, 127, U, Universe\n",
      "Jaemin adalah member NCT Dream, U, Universe\n",
      "Chenle adalah member NCT Dream, U, Universe\n",
      "Jisung adalah member NCT Dream, U, Universe\n"
     ]
    }
   ],
   "source": [
    "# Contoh list dengan grup lain untuk setiap member NCT Dream\n",
    "\n",
    "member_grup = {\n",
    "    \"Mark\":    [\"NCT Dream\", \"127\", \"U\", \"Universe\", \"SuperM\"],\n",
    "    \"Renjun\":  [\"NCT Dream\", \"U\", \"Universe\"],\n",
    "    \"Jeno\":    [\"NCT Dream\", \"U\", \"Universe\"],\n",
    "    \"Haechan\": [\"NCT Dream\", \"127\", \"U\", \"Universe\"],\n",
    "    \"Jaemin\":  [\"NCT Dream\", \"U\", \"Universe\"],\n",
    "    \"Chenle\":  [\"NCT Dream\", \"U\", \"Universe\"],\n",
    "    \"Jisung\":  [\"NCT Dream\", \"U\", \"Universe\"]\n",
    "}\n",
    "\n",
    "for member, grup in member_grup.items():\n",
    "    print(f\"{member} adalah member {', '.join(grup)}\")"
   ]
  },
  {
   "cell_type": "code",
   "execution_count": 24,
   "id": "091cbb33",
   "metadata": {},
   "outputs": [
    {
     "name": "stdout",
     "output_type": "stream",
     "text": [
      "0\n",
      "5\n",
      "8\n",
      "60\n",
      "123\n",
      "125\n",
      "160\n",
      "170\n",
      "24.285714285714285\n"
     ]
    }
   ],
   "source": [
    "# cari nilai rata-rata\n",
    "\n",
    "data = [5, 3, 52, 63, 2, 35, 10]\n",
    "\n",
    "jumlah = 0\n",
    "print(jumlah)\n",
    "\n",
    "for angka in data:\n",
    "    jumlah = jumlah + angka\n",
    "    print (jumlah)\n",
    "\n",
    "rata2 = jumlah / len(data)\n",
    "print (rata2)"
   ]
  },
  {
   "cell_type": "markdown",
   "id": "5963e4c7",
   "metadata": {},
   "source": [
    "## SOAL NOMOR 3"
   ]
  },
  {
   "cell_type": "code",
   "execution_count": null,
   "id": "e9081104",
   "metadata": {},
   "outputs": [
    {
     "name": "stdout",
     "output_type": "stream",
     "text": [
      "Nilai Faktorial Dari 100 Adalah 93326215443944152681699238856266700490715968264381621468592963895217599993229915608941463976156518286253697920827223758251185210916864000000000000000000000000\n"
     ]
    }
   ],
   "source": [
    "def hitung_faktorial(n): # menerima satu parameter bilangan bulat / n\n",
    "    if n < 0: # fungsi akan mengembalikan pesan faktorial hanya untuk bilangan positif\n",
    "        return \"Faktorial Hanya Diperbolehkan Untuk Bilangan Positif\"\n",
    "    elif n == 0: # fungsi ini mengembalian nilai faktorial 0, yaitu 1\n",
    "        return f\"Nilai Dari 0! adalah 1\"\n",
    "    else:\n",
    "        hasil = 1\n",
    "        for i in range(1, n + 1):\n",
    "            hasil *= i\n",
    "        return f\"Nilai Faktorial Dari {n} Adalah {hasil}\" \n",
    "\n",
    "\n",
    "# Input dari user\n",
    "angka = int(input(\"Masukkan Angka : \"))\n",
    "print(hitung_faktorial(angka))\n"
   ]
  },
  {
   "cell_type": "markdown",
   "id": "9b7fb176",
   "metadata": {},
   "source": [
    "## SOAL NOMOR 4"
   ]
  },
  {
   "cell_type": "code",
   "execution_count": 30,
   "id": "0359df5f",
   "metadata": {},
   "outputs": [
    {
     "name": "stdout",
     "output_type": "stream",
     "text": [
      "Angka Asli : 25\n",
      "Angka Setelah Dibalik : 52\n"
     ]
    }
   ],
   "source": [
    "# Input\n",
    "angka = int(input(\"Input Angka Yang Hendak Dibalik : \"))\n",
    "\n",
    "print(\"Angka Asli :\", angka)\n",
    "\n",
    "# Variabel untuk menyimpan hasil\n",
    "hasil = 0\n",
    "temp = angka\n",
    "\n",
    "# Proses membalik angka\n",
    "while temp > 0:\n",
    "    digit = temp % 10          # Ambil digit terakhir\n",
    "    hasil = hasil * 10 + digit # Tambahkan ke hasil (geser ke kiri dan tambah digit)\n",
    "    temp = temp // 10          # Hapus digit terakhir\n",
    "\n",
    "print(\"Angka Setelah Dibalik :\", hasil)\n"
   ]
  },
  {
   "cell_type": "markdown",
   "id": "8992ce66",
   "metadata": {},
   "source": [
    "## SOAL NOMOR 6"
   ]
  },
  {
   "cell_type": "code",
   "execution_count": 35,
   "id": "fe4d888f",
   "metadata": {},
   "outputs": [
    {
     "name": "stdout",
     "output_type": "stream",
     "text": [
      "*LOREM IPSUM DOLOR SIT AMET, CONSECTETUR ADIPISCING ELIT. PHASELLUS*\n"
     ]
    }
   ],
   "source": [
    "def format_kalimat(teks):\n",
    "    # Jika input kosong\n",
    "    if teks.strip() == \"\": #Mengecek apakah input kosong atau cuma spasi\n",
    "        return \"Masukkan Sebuah Inputan\"\n",
    "    \n",
    "    # Jika input lebih dari 200 karakter\n",
    "    if len(teks) > 200: #Mengecek panjang karakter\n",
    "        return \"Batas Karakter Maksimal Hanya 200\"\n",
    "    \n",
    "    # Ubah ke huruf kapital dan tambahkan bintang di awal dan akhir\n",
    "    return \"*\" + teks.upper() + \"*\" \n",
    "\n",
    "\n",
    "# Program utama\n",
    "kalimat = input(\"Masukkan Sebuah Kalimat : \")\n",
    "print(format_kalimat(kalimat))\n"
   ]
  },
  {
   "cell_type": "markdown",
   "id": "b5a26a15",
   "metadata": {},
   "source": [
    "## SOAL NOMOR 8"
   ]
  },
  {
   "cell_type": "code",
   "execution_count": null,
   "id": "49a995cf",
   "metadata": {},
   "outputs": [
    {
     "name": "stdout",
     "output_type": "stream",
     "text": [
      "1\n",
      "fizz\n",
      "3\n",
      "fizz\n",
      "buzz\n",
      "fizz\n",
      "7\n",
      "fizz\n",
      "9\n",
      "fizzbuzz\n",
      "11\n",
      "fizz\n",
      "13\n",
      "fizz\n",
      "buzz\n",
      "fizz\n",
      "17\n",
      "fizz\n",
      "19\n",
      "fizzbuzz\n"
     ]
    }
   ],
   "source": [
    "# Input dari user\n",
    "n = int(input(\"Masukan Angka Terakhir Yang Hendak Ditampilkan : \"))  # angka terakhir ditampilkan\n",
    "bil1 = int(input(\"Bilangan 1 : \"))  # bilangan pertama fizz\n",
    "bil2 = int(input(\"Bilangan 2 : \"))  # bilangan kedua buzz\n",
    "\n",
    "# Proses ngulang dari 1 s.d. n\n",
    "for i in range(1, n + 1):  # loop dari 1 sampai angka terakhir (n)\n",
    "    # angka habis dibagi bil1 & bil2 sekaligus\n",
    "    if i % bil1 == 0 and i % bil2 == 0:\n",
    "        print(\"fizzbuzz\")\n",
    "    # angka hanya habis dibagi bil1\n",
    "    elif i % bil1 == 0:\n",
    "        print(\"fizz\")\n",
    "    # angka hanya habis dibagi bil2\n",
    "    elif i % bil2 == 0:\n",
    "        print(\"buzz\")\n",
    "    # tidak habis dibagi keduanya, tampilkan angka aslinya\n",
    "    else:\n",
    "        print(i)\n"
   ]
  },
  {
   "cell_type": "markdown",
   "id": "9c069ec1",
   "metadata": {},
   "source": [
    "## SOAL NOMOR 9"
   ]
  },
  {
   "cell_type": "code",
   "execution_count": 38,
   "id": "78750ea5",
   "metadata": {},
   "outputs": [
    {
     "name": "stdout",
     "output_type": "stream",
     "text": [
      "Jumlah Huruf Pada Karakter Sebanyak 56\n",
      "Jumlah Angka Pada Kalimat Sebanyak 0\n"
     ]
    }
   ],
   "source": [
    "# Input kalimat\n",
    "kalimat = input(\"Masukan Sebuah Kata/Kalimat : \")\n",
    "\n",
    "# Variabel penghitung\n",
    "jumlah_huruf = 0\n",
    "jumlah_angka = 0\n",
    "\n",
    "# Loop setiap karakter dalam kalimat\n",
    "for char in kalimat:\n",
    "    if char.isalpha():       # untuk cek apakah huruf\n",
    "        jumlah_huruf += 1\n",
    "    elif char.isdigit():     # untuk cek apakah angka\n",
    "        jumlah_angka += 1\n",
    "\n",
    "# Output hasil\n",
    "print(\"Jumlah Huruf Pada Karakter Sebanyak\", jumlah_huruf)\n",
    "print(\"Jumlah Angka Pada Kalimat Sebanyak\", jumlah_angka)\n"
   ]
  }
 ],
 "metadata": {
  "kernelspec": {
   "display_name": "base",
   "language": "python",
   "name": "python3"
  },
  "language_info": {
   "codemirror_mode": {
    "name": "ipython",
    "version": 3
   },
   "file_extension": ".py",
   "mimetype": "text/x-python",
   "name": "python",
   "nbconvert_exporter": "python",
   "pygments_lexer": "ipython3",
   "version": "3.13.5"
  }
 },
 "nbformat": 4,
 "nbformat_minor": 5
}
