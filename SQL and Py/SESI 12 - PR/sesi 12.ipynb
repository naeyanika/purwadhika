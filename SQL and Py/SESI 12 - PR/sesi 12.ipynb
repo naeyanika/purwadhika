{
 "cells": [
  {
   "cell_type": "markdown",
   "id": "e157f866",
   "metadata": {},
   "source": [
    "# Inferensial Statisti dan Estimasi.\n",
    "- Kita tidak bisa mengukur seluruh populasi (terlalu besar/mahal/sulit)\n",
    "- Kita ambil sampel yang representatif\n",
    "- Kita analisis sampel tersebut\n",
    "- Kita gunakan hasil analisis untuk membuat kesimpulan tentang populasi secara keseluruhan\n",
    "\n",
    "Ini adalah inti dari inferential statistics - menggunakan data terbatas (sampel) untuk memahami karakteristik yang lebih besar (populasi)."
   ]
  },
  {
   "cell_type": "markdown",
   "id": "4adc63c2",
   "metadata": {},
   "source": [
    "## Estimasi Parameter\n",
    "\n",
    "**Estimation** adalah proses menggunakan data sampel untuk memperkirakan parameter populasi yang tidak diketahui. Dalam inferential statistics, kita menggunakan data sampel yang terbatas untuk memahami karakteristik populasi yang lebih besar.\n",
    "\n",
    "**Dua Jenis Estimator:**\n",
    "\n",
    "### 1. **Point Estimate (Single Number)**\n",
    "- Memberikan **satu nilai tunggal** sebagai estimasi parameter populasi\n",
    "- Merupakan **tebakan terbaik** untuk parameter yang tidak diketahui\n",
    "- **Contoh**: Dari sampel, kita estimasi 73% orang setuju dengan renovasi Stasiun Bogor\n",
    "- Digambarkan sebagai **titik tunggal** pada garis (0.73)\n",
    "\n",
    "### 2. **Confidence Interval (Interval)**\n",
    "- Memberikan **rentang nilai** yang kemungkinan berisi parameter populasi yang sebenarnya\n",
    "- Memberikan **tingkat kepercayaan** tertentu (biasanya 95% atau 99%)\n",
    "- **Contoh**: Rentang 71% - 75% dengan tingkat kepercayaan 95%\n",
    "- Digambarkan sebagai **rentang/interval** (0.71 - 0.75)\n",
    "\n",
    "**Keuntungan Confidence Interval**: Memberikan informasi tentang tingkat ketidakpastian estimasi, sedangkan point estimate hanya memberikan satu nilai tanpa informasi tentang akurasi estimasi tersebut.\n",
    "\n",
    "\n",
    "Kenapa poin estimate saja tidak cukup? Karena tidak memberikan informasi tentang seberapa akurat atau andal estimasi tersebut. Confidence interval memberikan konteks tambahan dengan menunjukkan rentang nilai yang mungkin berisi parameter populasi yang sebenarnya, serta tingkat kepercayaan terkait estimasi tersebut."
   ]
  },
  {
   "cell_type": "markdown",
   "id": "4e81015f",
   "metadata": {
    "vscode": {
     "languageId": "plaintext"
    }
   },
   "source": [
    "# Hipotesis Testing\n",
    "\n",
    "Hipotesis adalah pernyataan tentang populasi.\n",
    "\n",
    "**Contoh:**\n",
    "Kita memiliki hipotesis bahwa setiap probabilitas untuk setiap sisi koin adalah 0.5:\n",
    "\n",
    "- **H₀: P = 0.5** (koin seimbang)\n",
    "- **Hₐ: P ≠ 0.5** (koin tidak seimbang)\n",
    "\n",
    "## Komponen Hypothesis:\n",
    "Hipotesis terdiri dari:\n",
    "- **Null Hypothesis (H₀)**\n",
    "- **Alternative Hypothesis (Hₐ)**\n",
    "\n",
    "## Karakteristik H₀ (Null Hypothesis):\n",
    "\n",
    "**Ciri-ciri:**\n",
    "- H₀ adalah **presumption of innocent** (asumsi tidak bersalah)\n",
    "- Biasanya mengandung **nilai tertentu**\n",
    "  - Contoh: H₀: μ = 50, H₀: P ≥ 0.5\n",
    "- Biasanya mengambil **\"no effect\"** (tidak ada efek)\n",
    "  - Contoh: H₀: Beta = 0, H₀: dice is balance\n",
    "\n",
    "## Karakteristik Hₐ (Alternative Hypothesis):\n",
    "\n",
    "**Ciri-ciri:**\n",
    "- Biasanya **tidak mengambil nilai tertentu/interval**\n",
    "  - Contoh: Hₐ: μ ≠ 50, Hₐ: P < 0.5\n",
    "- Biasanya mengambil **\"any effect\"** (ada efek)\n",
    "  - Contoh: Hₐ: Beta < 0, Hₐ: Beta > 0, Hₐ: dice is not balance\n",
    "\n",
    "## Konsep Utama:\n",
    "Hypothesis testing adalah proses untuk menguji klaim tentang parameter populasi menggunakan data sampel. Kita mulai dengan asumsi bahwa H₀ benar, lalu menggunakan bukti dari data untuk memutuskan apakah kita menolak H₀ atau tidak.\n",
    "\n",
    "H₀ adalah status quo atau kondisi default, sedangkan Hₐ adalah challenger yang harus dibuktikan kebenarannya. Dengan cara ini, kita hanya akan menolak H₀ jika ada bukti yang cukup kuat dari data sampel. Pendekatan ini juga membantu mengontrol kesalahan statistik dan menjaga agar keputusan yang diambil lebih konservatif serta terukur."
   ]
  },
  {
   "cell_type": "markdown",
   "id": "4dc7fc4a",
   "metadata": {},
   "source": [
    "## Pembuktian Hipotesis\n",
    "1. Penetuan hipotesis (H₀ dan Hₐ)\n",
    "2. Penentuan tingkat signifikansi (α)\n",
    "3. Pengumpulan data dan perhitungan statistik uji\n",
    "4. Penentuan nilai kritis atau p-value\n",
    "5. Pengambilan keputusan (tolak atau tidak tolak H₀)"
   ]
  },
  {
   "cell_type": "markdown",
   "id": "dc24ecc9",
   "metadata": {},
   "source": [
    "Dalam pengujian hipotesis, terdapat dua jenis kesalahan yang bisa terjadi:\n",
    "\n",
    "### Type I Error\n",
    "- **Type I error** terjadi ketika kita **menolak null hypothesis (H₀) padahal H₀ sebenarnya benar**.\n",
    "- Probabilitas terjadinya Type I error disebut **significance level** (alpha, α).\n",
    "- Contoh: Kita menyimpulkan koin tidak seimbang, padahal sebenarnya seimbang.\n",
    "\n",
    "### Type II Error\n",
    "- **Type II error** terjadi ketika kita **gagal menolak null hypothesis (H₀) padahal H₀ sebenarnya salah**.\n",
    "- Probabilitas terjadinya Type II error disebut **Beta (β)**.\n",
    "- Probabilitas **tidak melakukan Type II error** disebut **Power** dari pengujian.\n",
    "- Contoh: Kita menyimpulkan koin seimbang, padahal sebenarnya tidak seimbang.\n",
    "\n",
    "### Tabel Kesimpulan\n",
    "\n",
    "| Population | Sample: Accept H₀ | Sample: Reject H₀ |\n",
    "|------------|-------------------|-------------------|\n",
    "| H₀ True    | Correct Conclusion | **Type I error** (Reject True H₀) |\n",
    "| H₀ False   | **Type II error** (Accept False H₀) | Correct Conclusion |\n",
    "\n",
    "- **Correct Conclusion**: Keputusan yang sesuai dengan kondisi populasi sebenarnya.\n",
    "- **Type I error**: Menolak H₀ yang benar.\n",
    "- **Type II error**: Menerima H₀ yang salah.\n",
    "\n",
    "---\n",
    "**Inti:**  \n",
    "Type I error dikontrol dengan alpha (α), Type II error dikontrol dengan beta (β), dan power adalah kemampuan tes untuk mendeteksi H₀ yang salah."
   ]
  }
 ],
 "metadata": {
  "language_info": {
   "name": "python"
  }
 },
 "nbformat": 4,
 "nbformat_minor": 5
}
