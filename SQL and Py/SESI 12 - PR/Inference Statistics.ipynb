{
 "cells": [
  {
   "cell_type": "code",
   "execution_count": 2,
   "id": "25cc4a53",
   "metadata": {},
   "outputs": [
    {
     "data": {
      "text/html": [
       "<div>\n",
       "<style scoped>\n",
       "    .dataframe tbody tr th:only-of-type {\n",
       "        vertical-align: middle;\n",
       "    }\n",
       "\n",
       "    .dataframe tbody tr th {\n",
       "        vertical-align: top;\n",
       "    }\n",
       "\n",
       "    .dataframe thead th {\n",
       "        text-align: right;\n",
       "    }\n",
       "</style>\n",
       "<table border=\"1\" class=\"dataframe\">\n",
       "  <thead>\n",
       "    <tr style=\"text-align: right;\">\n",
       "      <th></th>\n",
       "      <th>total_bill</th>\n",
       "      <th>tip</th>\n",
       "      <th>sex</th>\n",
       "      <th>smoker</th>\n",
       "      <th>day</th>\n",
       "      <th>time</th>\n",
       "      <th>size</th>\n",
       "    </tr>\n",
       "  </thead>\n",
       "  <tbody>\n",
       "    <tr>\n",
       "      <th>0</th>\n",
       "      <td>16.99</td>\n",
       "      <td>1.01</td>\n",
       "      <td>Female</td>\n",
       "      <td>No</td>\n",
       "      <td>Sun</td>\n",
       "      <td>Dinner</td>\n",
       "      <td>2</td>\n",
       "    </tr>\n",
       "    <tr>\n",
       "      <th>1</th>\n",
       "      <td>10.34</td>\n",
       "      <td>1.66</td>\n",
       "      <td>Male</td>\n",
       "      <td>No</td>\n",
       "      <td>Sun</td>\n",
       "      <td>Dinner</td>\n",
       "      <td>3</td>\n",
       "    </tr>\n",
       "    <tr>\n",
       "      <th>2</th>\n",
       "      <td>21.01</td>\n",
       "      <td>3.50</td>\n",
       "      <td>Male</td>\n",
       "      <td>No</td>\n",
       "      <td>Sun</td>\n",
       "      <td>Dinner</td>\n",
       "      <td>3</td>\n",
       "    </tr>\n",
       "    <tr>\n",
       "      <th>3</th>\n",
       "      <td>23.68</td>\n",
       "      <td>3.31</td>\n",
       "      <td>Male</td>\n",
       "      <td>No</td>\n",
       "      <td>Sun</td>\n",
       "      <td>Dinner</td>\n",
       "      <td>2</td>\n",
       "    </tr>\n",
       "    <tr>\n",
       "      <th>4</th>\n",
       "      <td>24.59</td>\n",
       "      <td>3.61</td>\n",
       "      <td>Female</td>\n",
       "      <td>No</td>\n",
       "      <td>Sun</td>\n",
       "      <td>Dinner</td>\n",
       "      <td>4</td>\n",
       "    </tr>\n",
       "  </tbody>\n",
       "</table>\n",
       "</div>"
      ],
      "text/plain": [
       "   total_bill   tip     sex smoker  day    time  size\n",
       "0       16.99  1.01  Female     No  Sun  Dinner     2\n",
       "1       10.34  1.66    Male     No  Sun  Dinner     3\n",
       "2       21.01  3.50    Male     No  Sun  Dinner     3\n",
       "3       23.68  3.31    Male     No  Sun  Dinner     2\n",
       "4       24.59  3.61  Female     No  Sun  Dinner     4"
      ]
     },
     "metadata": {},
     "output_type": "display_data"
    },
    {
     "data": {
      "text/html": [
       "<div>\n",
       "<style scoped>\n",
       "    .dataframe tbody tr th:only-of-type {\n",
       "        vertical-align: middle;\n",
       "    }\n",
       "\n",
       "    .dataframe tbody tr th {\n",
       "        vertical-align: top;\n",
       "    }\n",
       "\n",
       "    .dataframe thead th {\n",
       "        text-align: right;\n",
       "    }\n",
       "</style>\n",
       "<table border=\"1\" class=\"dataframe\">\n",
       "  <thead>\n",
       "    <tr style=\"text-align: right;\">\n",
       "      <th></th>\n",
       "      <th>order_id</th>\n",
       "      <th>order_date</th>\n",
       "      <th>product_category</th>\n",
       "      <th>brand</th>\n",
       "      <th>price</th>\n",
       "      <th>quantity</th>\n",
       "      <th>region</th>\n",
       "      <th>customer_age</th>\n",
       "      <th>payment_method</th>\n",
       "      <th>customer_rating</th>\n",
       "      <th>total_sales</th>\n",
       "    </tr>\n",
       "  </thead>\n",
       "  <tbody>\n",
       "    <tr>\n",
       "      <th>0</th>\n",
       "      <td>ORD10000</td>\n",
       "      <td>2025-05-13 10:16:33.883392</td>\n",
       "      <td>Printer</td>\n",
       "      <td>Brother</td>\n",
       "      <td>1603.26</td>\n",
       "      <td>4</td>\n",
       "      <td>East</td>\n",
       "      <td>57</td>\n",
       "      <td>E-Wallet</td>\n",
       "      <td>5</td>\n",
       "      <td>6413.04</td>\n",
       "    </tr>\n",
       "    <tr>\n",
       "      <th>1</th>\n",
       "      <td>ORD10001</td>\n",
       "      <td>2023-11-20 10:16:33.883392</td>\n",
       "      <td>Camera</td>\n",
       "      <td>Logitech</td>\n",
       "      <td>407.70</td>\n",
       "      <td>4</td>\n",
       "      <td>East</td>\n",
       "      <td>53</td>\n",
       "      <td>E-Wallet</td>\n",
       "      <td>1</td>\n",
       "      <td>2446.20</td>\n",
       "    </tr>\n",
       "    <tr>\n",
       "      <th>2</th>\n",
       "      <td>ORD10002</td>\n",
       "      <td>2023-08-23 10:16:33.883392</td>\n",
       "      <td>Tablet</td>\n",
       "      <td>HP</td>\n",
       "      <td>1570.40</td>\n",
       "      <td>2</td>\n",
       "      <td>South</td>\n",
       "      <td>67</td>\n",
       "      <td>Credit Card</td>\n",
       "      <td>1</td>\n",
       "      <td>3140.80</td>\n",
       "    </tr>\n",
       "    <tr>\n",
       "      <th>3</th>\n",
       "      <td>ORD10003</td>\n",
       "      <td>2024-05-05 10:16:33.883392</td>\n",
       "      <td>Monitor</td>\n",
       "      <td>Garmin</td>\n",
       "      <td>1213.86</td>\n",
       "      <td>4</td>\n",
       "      <td>West</td>\n",
       "      <td>60</td>\n",
       "      <td>Credit Card</td>\n",
       "      <td>1</td>\n",
       "      <td>5826.53</td>\n",
       "    </tr>\n",
       "    <tr>\n",
       "      <th>4</th>\n",
       "      <td>ORD10004</td>\n",
       "      <td>2024-04-04 10:16:33.883392</td>\n",
       "      <td>Monitor</td>\n",
       "      <td>LG</td>\n",
       "      <td>919.37</td>\n",
       "      <td>2</td>\n",
       "      <td>South</td>\n",
       "      <td>54</td>\n",
       "      <td>Credit Card</td>\n",
       "      <td>3</td>\n",
       "      <td>1838.74</td>\n",
       "    </tr>\n",
       "  </tbody>\n",
       "</table>\n",
       "</div>"
      ],
      "text/plain": [
       "   order_id                  order_date product_category     brand    price  \\\n",
       "0  ORD10000  2025-05-13 10:16:33.883392          Printer   Brother  1603.26   \n",
       "1  ORD10001  2023-11-20 10:16:33.883392           Camera  Logitech   407.70   \n",
       "2  ORD10002  2023-08-23 10:16:33.883392           Tablet        HP  1570.40   \n",
       "3  ORD10003  2024-05-05 10:16:33.883392          Monitor    Garmin  1213.86   \n",
       "4  ORD10004  2024-04-04 10:16:33.883392          Monitor        LG   919.37   \n",
       "\n",
       "   quantity region  customer_age payment_method  customer_rating  total_sales  \n",
       "0         4   East            57       E-Wallet                5      6413.04  \n",
       "1         4   East            53       E-Wallet                1      2446.20  \n",
       "2         2  South            67    Credit Card                1      3140.80  \n",
       "3         4   West            60    Credit Card                1      5826.53  \n",
       "4         2  South            54    Credit Card                3      1838.74  "
      ]
     },
     "metadata": {},
     "output_type": "display_data"
    }
   ],
   "source": [
    "# Load Data\n",
    "\n",
    "import pandas as pd\n",
    "import numpy as np\n",
    "import seaborn as sns\n",
    "import matplotlib.pyplot as plt\n",
    "\n",
    "from scipy.stats import shapiro # Normalitas\n",
    "from scipy.stats import ttest_1samp, ttest_ind, ttest_rel, f_oneway # Parametrik\n",
    "from scipy.stats import wilcoxon, mannwhitneyu, kruskal  # Non Parametrik\n",
    "\n",
    "\n",
    "tips = sns.load_dataset('tips')\n",
    "sales = pd.read_csv('sales_data.csv')\n",
    "\n",
    "display(tips.head())\n",
    "display(sales.head())"
   ]
  },
  {
   "cell_type": "markdown",
   "id": "4f012025",
   "metadata": {},
   "source": [
    "**Apakah tip yang diberikan oleh perempuan Lebih Besar Dari 2 Dollar?**\n",
    "\n",
    "\n",
    "- H0 : Tip yang diberikan Perempuan <= 2 Dollar\n",
    "- H1 : Tip yang diberikan Perempuan > 2 Dollar"
   ]
  },
  {
   "cell_type": "code",
   "execution_count": 6,
   "id": "36e38fee",
   "metadata": {},
   "outputs": [
    {
     "name": "stdout",
     "output_type": "stream",
     "text": [
      "Data Tidak Berdistribusi Normal\n"
     ]
    }
   ],
   "source": [
    "# Uji Normalitas `Tip`\n",
    "\n",
    "stat, pval_norm = shapiro(tips['tip'])\n",
    "\n",
    "if pval_norm < 0.05 :\n",
    "    print('Data Tidak Berdistribusi Normal')\n",
    "else :\n",
    "    print('Data Berdistribusi Normal')"
   ]
  },
  {
   "cell_type": "code",
   "execution_count": 13,
   "id": "91d1d9dc",
   "metadata": {},
   "outputs": [
    {
     "name": "stdout",
     "output_type": "stream",
     "text": [
      "Tolak H0, Sehingga Kesimpulannya Adalah Tip Dari Perempuan > 2 Dollar\n"
     ]
    }
   ],
   "source": [
    "# Wilcoxon\n",
    "\n",
    "compare = tips['tip'] - 2\n",
    "\n",
    "stat_wil, pval_wil = wilcoxon(compare, 0, alternative = 'greater')\n",
    "\n",
    "if pval_wil < 0.05 :\n",
    "    print('Tolak H0, Sehingga Kesimpulannya Adalah Tip Dari Perempuan > 2 Dollar')\n",
    "else :\n",
    "    print('Gagal Tolak H0, Sehingga Kesimpulannya Adalah Tip Dari Perempuan <= 2 Dollar')"
   ]
  },
  {
   "cell_type": "code",
   "execution_count": 14,
   "id": "12b17a90",
   "metadata": {},
   "outputs": [
    {
     "data": {
      "text/plain": [
       "np.float64(2.75)"
      ]
     },
     "execution_count": 14,
     "metadata": {},
     "output_type": "execute_result"
    }
   ],
   "source": [
    "tips[tips['sex'] == 'Female']['tip'].median()"
   ]
  },
  {
   "cell_type": "code",
   "execution_count": 15,
   "id": "f57f6b37",
   "metadata": {},
   "outputs": [
    {
     "data": {
      "text/plain": [
       "TtestResult(statistic=np.float64(0.09222805186888201), pvalue=np.float64(0.9265931522244976), df=np.float64(242.0))"
      ]
     },
     "execution_count": 15,
     "metadata": {},
     "output_type": "execute_result"
    }
   ],
   "source": [
    "smoker = tips[tips['smoker'] == 'Yes']\n",
    "nonsmoker = tips[tips['smoker'] == 'No']\n",
    "\n",
    "ttest_ind(smoker['tip'], nonsmoker['tip'])"
   ]
  },
  {
   "cell_type": "code",
   "execution_count": null,
   "id": "1c1029f2",
   "metadata": {},
   "outputs": [],
   "source": []
  }
 ],
 "metadata": {
  "kernelspec": {
   "display_name": "Python 3",
   "language": "python",
   "name": "python3"
  },
  "language_info": {
   "codemirror_mode": {
    "name": "ipython",
    "version": 3
   },
   "file_extension": ".py",
   "mimetype": "text/x-python",
   "name": "python",
   "nbconvert_exporter": "python",
   "pygments_lexer": "ipython3",
   "version": "3.13.7"
  }
 },
 "nbformat": 4,
 "nbformat_minor": 5
}
