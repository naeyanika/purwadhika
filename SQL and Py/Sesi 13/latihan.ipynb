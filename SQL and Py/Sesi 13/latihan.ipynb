{
 "cells": [
  {
   "cell_type": "code",
   "execution_count": 47,
   "id": "40f00184",
   "metadata": {},
   "outputs": [],
   "source": [
    "import pandas as pd\n",
    "import numpy as np\n",
    "import matplotlib.pyplot as plt\n",
    "import seaborn as sns\n",
    "import math\n",
    "\n",
    "from scipy.stats import chi2_contingency, pearsonr, spearmanr, kendalltau, shapiro, normaltest,f_oneway\n",
    "from datetime import datetime\n",
    "import warnings\n",
    "warnings.filterwarnings('ignore')\n",
    "\n",
    "\n",
    "plt.style.use('seaborn-v0_8')\n",
    "sns.set_palette(\"husl\")"
   ]
  },
  {
   "cell_type": "code",
   "execution_count": 48,
   "id": "3ece9456",
   "metadata": {},
   "outputs": [
    {
     "data": {
      "text/html": [
       "<div>\n",
       "<style scoped>\n",
       "    .dataframe tbody tr th:only-of-type {\n",
       "        vertical-align: middle;\n",
       "    }\n",
       "\n",
       "    .dataframe tbody tr th {\n",
       "        vertical-align: top;\n",
       "    }\n",
       "\n",
       "    .dataframe thead th {\n",
       "        text-align: right;\n",
       "    }\n",
       "</style>\n",
       "<table border=\"1\" class=\"dataframe\">\n",
       "  <thead>\n",
       "    <tr style=\"text-align: right;\">\n",
       "      <th></th>\n",
       "      <th>Suburb</th>\n",
       "      <th>Address</th>\n",
       "      <th>Rooms</th>\n",
       "      <th>Type</th>\n",
       "      <th>Price</th>\n",
       "      <th>Method</th>\n",
       "      <th>SellerG</th>\n",
       "      <th>Date</th>\n",
       "      <th>Distance</th>\n",
       "      <th>Postcode</th>\n",
       "      <th>...</th>\n",
       "      <th>Bathroom</th>\n",
       "      <th>Car</th>\n",
       "      <th>Landsize</th>\n",
       "      <th>BuildingArea</th>\n",
       "      <th>YearBuilt</th>\n",
       "      <th>CouncilArea</th>\n",
       "      <th>Lattitude</th>\n",
       "      <th>Longtitude</th>\n",
       "      <th>Regionname</th>\n",
       "      <th>Propertycount</th>\n",
       "    </tr>\n",
       "  </thead>\n",
       "  <tbody>\n",
       "    <tr>\n",
       "      <th>0</th>\n",
       "      <td>Abbotsford</td>\n",
       "      <td>85 Turner St</td>\n",
       "      <td>2</td>\n",
       "      <td>h</td>\n",
       "      <td>1480000.0</td>\n",
       "      <td>S</td>\n",
       "      <td>Biggin</td>\n",
       "      <td>3/12/2016</td>\n",
       "      <td>2.5</td>\n",
       "      <td>3067.0</td>\n",
       "      <td>...</td>\n",
       "      <td>1.0</td>\n",
       "      <td>1.0</td>\n",
       "      <td>202.0</td>\n",
       "      <td>NaN</td>\n",
       "      <td>NaN</td>\n",
       "      <td>Yarra</td>\n",
       "      <td>-37.7996</td>\n",
       "      <td>144.9984</td>\n",
       "      <td>Northern Metropolitan</td>\n",
       "      <td>4019.0</td>\n",
       "    </tr>\n",
       "    <tr>\n",
       "      <th>1</th>\n",
       "      <td>Abbotsford</td>\n",
       "      <td>25 Bloomburg St</td>\n",
       "      <td>2</td>\n",
       "      <td>h</td>\n",
       "      <td>1035000.0</td>\n",
       "      <td>S</td>\n",
       "      <td>Biggin</td>\n",
       "      <td>4/02/2016</td>\n",
       "      <td>2.5</td>\n",
       "      <td>3067.0</td>\n",
       "      <td>...</td>\n",
       "      <td>1.0</td>\n",
       "      <td>0.0</td>\n",
       "      <td>156.0</td>\n",
       "      <td>79.0</td>\n",
       "      <td>1900.0</td>\n",
       "      <td>Yarra</td>\n",
       "      <td>-37.8079</td>\n",
       "      <td>144.9934</td>\n",
       "      <td>Northern Metropolitan</td>\n",
       "      <td>4019.0</td>\n",
       "    </tr>\n",
       "    <tr>\n",
       "      <th>2</th>\n",
       "      <td>Abbotsford</td>\n",
       "      <td>5 Charles St</td>\n",
       "      <td>3</td>\n",
       "      <td>h</td>\n",
       "      <td>1465000.0</td>\n",
       "      <td>SP</td>\n",
       "      <td>Biggin</td>\n",
       "      <td>4/03/2017</td>\n",
       "      <td>2.5</td>\n",
       "      <td>3067.0</td>\n",
       "      <td>...</td>\n",
       "      <td>2.0</td>\n",
       "      <td>0.0</td>\n",
       "      <td>134.0</td>\n",
       "      <td>150.0</td>\n",
       "      <td>1900.0</td>\n",
       "      <td>Yarra</td>\n",
       "      <td>-37.8093</td>\n",
       "      <td>144.9944</td>\n",
       "      <td>Northern Metropolitan</td>\n",
       "      <td>4019.0</td>\n",
       "    </tr>\n",
       "    <tr>\n",
       "      <th>3</th>\n",
       "      <td>Abbotsford</td>\n",
       "      <td>40 Federation La</td>\n",
       "      <td>3</td>\n",
       "      <td>h</td>\n",
       "      <td>850000.0</td>\n",
       "      <td>PI</td>\n",
       "      <td>Biggin</td>\n",
       "      <td>4/03/2017</td>\n",
       "      <td>2.5</td>\n",
       "      <td>3067.0</td>\n",
       "      <td>...</td>\n",
       "      <td>2.0</td>\n",
       "      <td>1.0</td>\n",
       "      <td>94.0</td>\n",
       "      <td>NaN</td>\n",
       "      <td>NaN</td>\n",
       "      <td>Yarra</td>\n",
       "      <td>-37.7969</td>\n",
       "      <td>144.9969</td>\n",
       "      <td>Northern Metropolitan</td>\n",
       "      <td>4019.0</td>\n",
       "    </tr>\n",
       "    <tr>\n",
       "      <th>4</th>\n",
       "      <td>Abbotsford</td>\n",
       "      <td>55a Park St</td>\n",
       "      <td>4</td>\n",
       "      <td>h</td>\n",
       "      <td>1600000.0</td>\n",
       "      <td>VB</td>\n",
       "      <td>Nelson</td>\n",
       "      <td>4/06/2016</td>\n",
       "      <td>2.5</td>\n",
       "      <td>3067.0</td>\n",
       "      <td>...</td>\n",
       "      <td>1.0</td>\n",
       "      <td>2.0</td>\n",
       "      <td>120.0</td>\n",
       "      <td>142.0</td>\n",
       "      <td>2014.0</td>\n",
       "      <td>Yarra</td>\n",
       "      <td>-37.8072</td>\n",
       "      <td>144.9941</td>\n",
       "      <td>Northern Metropolitan</td>\n",
       "      <td>4019.0</td>\n",
       "    </tr>\n",
       "  </tbody>\n",
       "</table>\n",
       "<p>5 rows × 21 columns</p>\n",
       "</div>"
      ],
      "text/plain": [
       "       Suburb           Address  Rooms Type      Price Method SellerG  \\\n",
       "0  Abbotsford      85 Turner St      2    h  1480000.0      S  Biggin   \n",
       "1  Abbotsford   25 Bloomburg St      2    h  1035000.0      S  Biggin   \n",
       "2  Abbotsford      5 Charles St      3    h  1465000.0     SP  Biggin   \n",
       "3  Abbotsford  40 Federation La      3    h   850000.0     PI  Biggin   \n",
       "4  Abbotsford       55a Park St      4    h  1600000.0     VB  Nelson   \n",
       "\n",
       "        Date  Distance  Postcode  ...  Bathroom  Car  Landsize  BuildingArea  \\\n",
       "0  3/12/2016       2.5    3067.0  ...       1.0  1.0     202.0           NaN   \n",
       "1  4/02/2016       2.5    3067.0  ...       1.0  0.0     156.0          79.0   \n",
       "2  4/03/2017       2.5    3067.0  ...       2.0  0.0     134.0         150.0   \n",
       "3  4/03/2017       2.5    3067.0  ...       2.0  1.0      94.0           NaN   \n",
       "4  4/06/2016       2.5    3067.0  ...       1.0  2.0     120.0         142.0   \n",
       "\n",
       "   YearBuilt  CouncilArea Lattitude  Longtitude             Regionname  \\\n",
       "0        NaN        Yarra  -37.7996    144.9984  Northern Metropolitan   \n",
       "1     1900.0        Yarra  -37.8079    144.9934  Northern Metropolitan   \n",
       "2     1900.0        Yarra  -37.8093    144.9944  Northern Metropolitan   \n",
       "3        NaN        Yarra  -37.7969    144.9969  Northern Metropolitan   \n",
       "4     2014.0        Yarra  -37.8072    144.9941  Northern Metropolitan   \n",
       "\n",
       "  Propertycount  \n",
       "0        4019.0  \n",
       "1        4019.0  \n",
       "2        4019.0  \n",
       "3        4019.0  \n",
       "4        4019.0  \n",
       "\n",
       "[5 rows x 21 columns]"
      ]
     },
     "execution_count": 48,
     "metadata": {},
     "output_type": "execute_result"
    }
   ],
   "source": [
    "melb = pd.read_csv('melb_data.csv')\n",
    "melb.head()"
   ]
  },
  {
   "cell_type": "markdown",
   "id": "19ae7530",
   "metadata": {},
   "source": [
    "# Nomor 1 \n",
    "- Tampilkan statistik deskriptif pada variabel Rooms, Distance, Landsize, dan Price!"
   ]
  },
  {
   "cell_type": "code",
   "execution_count": 49,
   "id": "3c0bb917",
   "metadata": {},
   "outputs": [
    {
     "data": {
      "text/html": [
       "<div>\n",
       "<style scoped>\n",
       "    .dataframe tbody tr th:only-of-type {\n",
       "        vertical-align: middle;\n",
       "    }\n",
       "\n",
       "    .dataframe tbody tr th {\n",
       "        vertical-align: top;\n",
       "    }\n",
       "\n",
       "    .dataframe thead th {\n",
       "        text-align: right;\n",
       "    }\n",
       "</style>\n",
       "<table border=\"1\" class=\"dataframe\">\n",
       "  <thead>\n",
       "    <tr style=\"text-align: right;\">\n",
       "      <th></th>\n",
       "      <th>Rooms</th>\n",
       "      <th>Distance</th>\n",
       "      <th>Landsize</th>\n",
       "      <th>Price</th>\n",
       "    </tr>\n",
       "  </thead>\n",
       "  <tbody>\n",
       "    <tr>\n",
       "      <th>count</th>\n",
       "      <td>13580.000000</td>\n",
       "      <td>13580.000000</td>\n",
       "      <td>13580.000000</td>\n",
       "      <td>1.358000e+04</td>\n",
       "    </tr>\n",
       "    <tr>\n",
       "      <th>mean</th>\n",
       "      <td>2.937997</td>\n",
       "      <td>10.137776</td>\n",
       "      <td>558.416127</td>\n",
       "      <td>1.075684e+06</td>\n",
       "    </tr>\n",
       "    <tr>\n",
       "      <th>std</th>\n",
       "      <td>0.955748</td>\n",
       "      <td>5.868725</td>\n",
       "      <td>3990.669241</td>\n",
       "      <td>6.393107e+05</td>\n",
       "    </tr>\n",
       "    <tr>\n",
       "      <th>min</th>\n",
       "      <td>1.000000</td>\n",
       "      <td>0.000000</td>\n",
       "      <td>0.000000</td>\n",
       "      <td>8.500000e+04</td>\n",
       "    </tr>\n",
       "    <tr>\n",
       "      <th>25%</th>\n",
       "      <td>2.000000</td>\n",
       "      <td>6.100000</td>\n",
       "      <td>177.000000</td>\n",
       "      <td>6.500000e+05</td>\n",
       "    </tr>\n",
       "    <tr>\n",
       "      <th>50%</th>\n",
       "      <td>3.000000</td>\n",
       "      <td>9.200000</td>\n",
       "      <td>440.000000</td>\n",
       "      <td>9.030000e+05</td>\n",
       "    </tr>\n",
       "    <tr>\n",
       "      <th>75%</th>\n",
       "      <td>3.000000</td>\n",
       "      <td>13.000000</td>\n",
       "      <td>651.000000</td>\n",
       "      <td>1.330000e+06</td>\n",
       "    </tr>\n",
       "    <tr>\n",
       "      <th>max</th>\n",
       "      <td>10.000000</td>\n",
       "      <td>48.100000</td>\n",
       "      <td>433014.000000</td>\n",
       "      <td>9.000000e+06</td>\n",
       "    </tr>\n",
       "  </tbody>\n",
       "</table>\n",
       "</div>"
      ],
      "text/plain": [
       "              Rooms      Distance       Landsize         Price\n",
       "count  13580.000000  13580.000000   13580.000000  1.358000e+04\n",
       "mean       2.937997     10.137776     558.416127  1.075684e+06\n",
       "std        0.955748      5.868725    3990.669241  6.393107e+05\n",
       "min        1.000000      0.000000       0.000000  8.500000e+04\n",
       "25%        2.000000      6.100000     177.000000  6.500000e+05\n",
       "50%        3.000000      9.200000     440.000000  9.030000e+05\n",
       "75%        3.000000     13.000000     651.000000  1.330000e+06\n",
       "max       10.000000     48.100000  433014.000000  9.000000e+06"
      ]
     },
     "execution_count": 49,
     "metadata": {},
     "output_type": "execute_result"
    }
   ],
   "source": [
    "# Display descriptive statistics for the specified columns\n",
    "melb[['Rooms', 'Distance', 'Landsize', 'Price']].describe()"
   ]
  },
  {
   "cell_type": "markdown",
   "id": "b2a5cf15",
   "metadata": {},
   "source": [
    "# Nomor 2\n",
    "- Berapa jumlah Rooms pada rumah yang harganya paling mahal?\n",
    "- Berapa rata-rata harga rumah yang jarak ke CBD (variabel Distance) terdekat?\n",
    "- Berapa rata-rata harga rumah yang luas tanahnya (variabel Landsize) 1 kali standar deviasi di atas rata-rata luas tanah?\n",
    "- Berapa rentang (range) harga rumah (variabel Price) pada region Southern Metropolitan?"
   ]
  },
  {
   "cell_type": "code",
   "execution_count": 50,
   "id": "d1c3168a",
   "metadata": {},
   "outputs": [
    {
     "name": "stdout",
     "output_type": "stream",
     "text": [
      "1. Jumlah Rooms pada rumah termahal: 3 rooms\n",
      "   Harga rumah termahal: $9000000.0\n",
      "\n",
      "2. Rata-rata harga rumah terdekat ke CBD: $671166.6666666666\n",
      "   Jarak terdekat: 0.0 km\n",
      "\n",
      "3. Rata-rata harga rumah dengan luas tanah ≥ (mean + 1 std): $880776.6666666666\n",
      "   Threshold luas tanah: 4549.08536776588 sqm\n",
      "   Jumlah rumah: 75 rumah\n",
      "\n",
      "4. Rentang harga rumah di Southern Metropolitan: $7869000.0\n",
      "   Harga minimum: $131000.0\n",
      "   Harga maximum: $8000000.0\n"
     ]
    }
   ],
   "source": [
    "# 1. Berapa jumlah Rooms pada rumah yang harganya paling mahal?\n",
    "max_price_idx = melb['Price'].idxmax()\n",
    "rooms_max_price = melb.loc[max_price_idx, 'Rooms']\n",
    "print(f\"1. Jumlah Rooms pada rumah termahal: {rooms_max_price} rooms\")\n",
    "print(f\"   Harga rumah termahal: ${melb['Price'].max()}\\n\")\n",
    "\n",
    "# 2. Berapa rata-rata harga rumah yang jarak ke CBD (variabel Distance) terdekat?\n",
    "min_distance = melb['Distance'].min()\n",
    "closest_houses = melb[melb['Distance'] == min_distance]\n",
    "avg_price_closest = closest_houses['Price'].mean()\n",
    "print(f\"2. Rata-rata harga rumah terdekat ke CBD: ${avg_price_closest}\")\n",
    "print(f\"   Jarak terdekat: {min_distance} km\\n\")\n",
    "\n",
    "# 3. Berapa rata-rata harga rumah yang luas tanahnya 1 kali standar deviasi di atas rata-rata luas tanah?\n",
    "landsize_mean = melb['Landsize'].mean()\n",
    "landsize_std = melb['Landsize'].std()\n",
    "threshold_landsize = landsize_mean + landsize_std\n",
    "large_landsize_houses = melb[melb['Landsize'] >= threshold_landsize]\n",
    "avg_price_large_land = large_landsize_houses['Price'].mean()\n",
    "print(f\"3. Rata-rata harga rumah dengan luas tanah ≥ (mean + 1 std): ${avg_price_large_land}\")\n",
    "print(f\"   Threshold luas tanah: {threshold_landsize} sqm\")\n",
    "print(f\"   Jumlah rumah: {len(large_landsize_houses)} rumah\\n\")\n",
    "\n",
    "# 4. Berapa rentang (range) harga rumah pada region Southern Metropolitan?\n",
    "southern_metro = melb[melb['Regionname'] == 'Southern Metropolitan']\n",
    "if len(southern_metro) > 0:\n",
    "    min_price_sm = southern_metro['Price'].min()\n",
    "    max_price_sm = southern_metro['Price'].max()\n",
    "    price_range_sm = max_price_sm - min_price_sm\n",
    "    print(f\"4. Rentang harga rumah di Southern Metropolitan: ${price_range_sm}\")\n",
    "    print(f\"   Harga minimum: ${min_price_sm}\")\n",
    "    print(f\"   Harga maximum: ${max_price_sm}\")\n",
    "else:\n",
    "    print(\"4. Region 'Southern Metropolitan' tidak ditemukan dalam data\")"
   ]
  },
  {
   "cell_type": "markdown",
   "id": "3bc63a05",
   "metadata": {},
   "source": [
    "# Nomor 3\n",
    "Nilai outlier adalah nilai yang berada di bawah Q1 - (1.5 * IQR) atau di atas Q3 + (1.5 * IQR).\n",
    "- Hitung dulu Q1, Q2, dan IQR pada kolom Price (harga rumah)\n",
    "- Hitung ada berapa nilai outlier pada kolom Price!"
   ]
  },
  {
   "cell_type": "code",
   "execution_count": 51,
   "id": "44f0f3e3",
   "metadata": {},
   "outputs": [
    {
     "data": {
      "text/plain": [
       "(np.float64(650000.0),\n",
       " np.float64(903000.0),\n",
       " np.float64(1330000.0),\n",
       " np.float64(680000.0),\n",
       " 612)"
      ]
     },
     "execution_count": 51,
     "metadata": {},
     "output_type": "execute_result"
    }
   ],
   "source": [
    "# Hitung Q1, Q2, Q3, dan IQR untuk kolom Price\n",
    "Q1 = melb['Price'].quantile(0.25)\n",
    "Q2 = melb['Price'].quantile(0.50)  # Median\n",
    "Q3 = melb['Price'].quantile(0.75)\n",
    "IQR = Q3 - Q1\n",
    "\n",
    "# Hitung batas outlier\n",
    "lower_bound = Q1 - (1.5 * IQR)\n",
    "upper_bound = Q3 + (1.5 * IQR)\n",
    "\n",
    "# Hitung jumlah outlier\n",
    "outliers = melb[(melb['Price'] < lower_bound) | (melb['Price'] > upper_bound)]\n",
    "num_outliers = len(outliers)\n",
    "\n",
    "Q1, Q2, Q3, IQR, num_outliers"
   ]
  },
  {
   "cell_type": "markdown",
   "id": "5d2991ca",
   "metadata": {},
   "source": [
    "# Nomor 4\n",
    "Lakukan uji asumsi normalitas pada variabel harga rumah (Price) menggunakan:\n",
    "1. Shapiro Wilk Test\n",
    "2. D’Agostino and Pearson’s Test\n"
   ]
  },
  {
   "cell_type": "code",
   "execution_count": 52,
   "id": "03932414",
   "metadata": {},
   "outputs": [
    {
     "data": {
      "text/plain": [
       "(np.float64(0.8328502932625694),\n",
       " np.float64(1.446571861512777e-79),\n",
       " np.float64(6894.345896172315),\n",
       " np.float64(0.0))"
      ]
     },
     "execution_count": 52,
     "metadata": {},
     "output_type": "execute_result"
    }
   ],
   "source": [
    "# Shapiro Wilk Test\n",
    "shapiro_stat, shapiro_p = shapiro(melb['Price'])\n",
    "\n",
    "# D'Agostino and Pearson's Test\n",
    "dagostino_stat, dagostino_p = normaltest(melb['Price'])\n",
    "\n",
    "shapiro_stat, shapiro_p, dagostino_stat, dagostino_p"
   ]
  },
  {
   "cell_type": "markdown",
   "id": "24eecd90",
   "metadata": {},
   "source": [
    "# Nomor 5\n",
    "Jika diasumsikan telah memenuhi syarat statistik parametrik, hitung seberapa kuat korelasi variabel Rooms dengan Price, serta arah korelasinya!"
   ]
  },
  {
   "cell_type": "code",
   "execution_count": 53,
   "id": "e3816abc",
   "metadata": {},
   "outputs": [
    {
     "name": "stdout",
     "output_type": "stream",
     "text": [
      "Koefisien Korelasi Pearson: 0.49663367618653004\n",
      "P-value: 0.0000e+00\n",
      "\n",
      "Interpretasi:\n",
      "- Kekuatan korelasi: sedang\n",
      "- Arah korelasi: positif\n",
      "- Artinya: Ada korelasi sedang dan positif antara jumlah Rooms dengan Price\n"
     ]
    },
    {
     "data": {
      "text/html": [
       "<div>\n",
       "<style scoped>\n",
       "    .dataframe tbody tr th:only-of-type {\n",
       "        vertical-align: middle;\n",
       "    }\n",
       "\n",
       "    .dataframe tbody tr th {\n",
       "        vertical-align: top;\n",
       "    }\n",
       "\n",
       "    .dataframe thead th {\n",
       "        text-align: right;\n",
       "    }\n",
       "</style>\n",
       "<table border=\"1\" class=\"dataframe\">\n",
       "  <thead>\n",
       "    <tr style=\"text-align: right;\">\n",
       "      <th></th>\n",
       "      <th>Rooms</th>\n",
       "      <th>Price</th>\n",
       "    </tr>\n",
       "  </thead>\n",
       "  <tbody>\n",
       "    <tr>\n",
       "      <th>Rooms</th>\n",
       "      <td>1.000000</td>\n",
       "      <td>0.496634</td>\n",
       "    </tr>\n",
       "    <tr>\n",
       "      <th>Price</th>\n",
       "      <td>0.496634</td>\n",
       "      <td>1.000000</td>\n",
       "    </tr>\n",
       "  </tbody>\n",
       "</table>\n",
       "</div>"
      ],
      "text/plain": [
       "          Rooms     Price\n",
       "Rooms  1.000000  0.496634\n",
       "Price  0.496634  1.000000"
      ]
     },
     "execution_count": 53,
     "metadata": {},
     "output_type": "execute_result"
    }
   ],
   "source": [
    "# Hitung korelasi Pearson antara Rooms dan Price\n",
    "correlation_coef, p_value = pearsonr(melb['Rooms'], melb['Price'])\n",
    "\n",
    "print(f\"Koefisien Korelasi Pearson: {correlation_coef}\")\n",
    "print(f\"P-value: {p_value:.4e}\")\n",
    "\n",
    "# Interpretasi kekuatan korelasi\n",
    "if abs(correlation_coef) < 0.3:\n",
    "    strength = \"lemah\"\n",
    "elif abs(correlation_coef) < 0.7:\n",
    "    strength = \"sedang\"\n",
    "else:\n",
    "    strength = \"kuat\"\n",
    "\n",
    "# Interpretasi arah korelasi\n",
    "direction = \"positif\" if correlation_coef > 0 else \"negatif\"\n",
    "\n",
    "print(f\"\\nInterpretasi:\")\n",
    "print(f\"- Kekuatan korelasi: {strength}\")\n",
    "print(f\"- Arah korelasi: {direction}\")\n",
    "print(f\"- Artinya: Ada korelasi {strength} dan {direction} antara jumlah Rooms dengan Price\")\n",
    "\n",
    "\n",
    "pandas_corr = melb[['Rooms', 'Price']].corr()\n",
    "pandas_corr"
   ]
  },
  {
   "cell_type": "markdown",
   "id": "aa5db5ac",
   "metadata": {},
   "source": [
    "# Nomor 6\n",
    "- Dari beberapa Regionname, manakah Regionname yang variabel jumlah kamarnya (Rooms) memiliki korelasi terkuat dengan variabel harga rumah (Price)!\n",
    "- Diasumsikan telah memenuhi syarat statistik parametrik."
   ]
  },
  {
   "cell_type": "code",
   "execution_count": 54,
   "id": "c02e41a6",
   "metadata": {},
   "outputs": [
    {
     "name": "stdout",
     "output_type": "stream",
     "text": [
      "Region dengan korelasi terkuat: Southern Metropolitan\n",
      "Koefisien korelasi: 0.6837438462796436\n",
      "\n",
      "Top 3 Region:\n",
      "1. Southern Metropolitan: 0.6837438462796436\n",
      "2. Western Victoria: 0.5518865952271457\n",
      "3. Eastern Metropolitan: 0.5029928557468843\n"
     ]
    }
   ],
   "source": [
    "# Korelasi Rooms vs Price untuk setiap region\n",
    "correlations = {}\n",
    "for region in melb['Regionname'].unique():\n",
    "    region_data = melb[melb['Regionname'] == region]\n",
    "    if len(region_data) > 2:\n",
    "        corr, _ = pearsonr(region_data['Rooms'], region_data['Price'])\n",
    "        correlations[region] = abs(corr)\n",
    "\n",
    "# Region dengan korelasi terkuat\n",
    "strongest_region = max(correlations, key=correlations.get)\n",
    "strongest_corr = correlations[strongest_region]\n",
    "\n",
    "print(f\"Region dengan korelasi terkuat: {strongest_region}\")\n",
    "print(f\"Koefisien korelasi: {strongest_corr}\")\n",
    "\n",
    "# Tampilkan top 3 region\n",
    "sorted_corr = sorted(correlations.items(), key=lambda x: x[1], reverse=True)\n",
    "print(\"\\nTop 3 Region:\")\n",
    "for i, (region, corr) in enumerate(sorted_corr[:3], 1):\n",
    "    print(f\"{i}. {region}: {corr}\")"
   ]
  },
  {
   "cell_type": "markdown",
   "id": "6dfd7992",
   "metadata": {},
   "source": [
    "# Nomor 7\n",
    "Jika diasumsikan tidak memenuhi syarat statistik parametrik, hitung seberapa kuat korelasi variabel Distance dengan Price, serta arah korelasinya!"
   ]
  },
  {
   "cell_type": "code",
   "execution_count": 55,
   "id": "4a646614",
   "metadata": {},
   "outputs": [
    {
     "name": "stdout",
     "output_type": "stream",
     "text": [
      "Koefisien Korelasi Spearman: -0.12998984131880323\n",
      "Korelasi lemah dan negatif\n"
     ]
    }
   ],
   "source": [
    "# Hitung korelasi Spearman antara Distance dan Price\n",
    "spearman_coef, spearman_p = spearmanr(melb['Distance'], melb['Price'])\n",
    "\n",
    "print(f\"Koefisien Korelasi Spearman: {spearman_coef}\")\n",
    "\n",
    "# Interpretasi\n",
    "if abs(spearman_coef) < 0.3:\n",
    "    strength = \"lemah\"\n",
    "elif abs(spearman_coef) < 0.7:\n",
    "    strength = \"sedang\"\n",
    "else:\n",
    "    strength = \"kuat\"\n",
    "\n",
    "direction = \"positif\" if spearman_coef > 0 else \"negatif\"\n",
    "\n",
    "print(f\"Korelasi {strength} dan {direction}\")"
   ]
  },
  {
   "cell_type": "markdown",
   "id": "5002e794",
   "metadata": {},
   "source": [
    "# Nomor 8\n",
    "- Dari beberapa Regionname manakah Regionname yang variabel jumlah jarak ke CBD (Distance) paling tidak berkorelasi dengan variabel harga rumah (Price)! \n",
    "- Serta tampilkan juga Regionname yang paling berkorelasi kedua variabel ini!\n",
    "- Diasumsikan telah memenuhi syarat statistik parametrik.\n"
   ]
  },
  {
   "cell_type": "code",
   "execution_count": 56,
   "id": "3f9b7be7",
   "metadata": {},
   "outputs": [
    {
     "name": "stdout",
     "output_type": "stream",
     "text": [
      "Region paling tidak berkorelasi: Southern Metropolitan\n",
      "Koefisien korelasi: 0.002489149218933443\n",
      "\n",
      "Region paling berkorelasi: Northern Metropolitan\n",
      "Koefisien korelasi: -0.368551996179051\n"
     ]
    }
   ],
   "source": [
    "# Korelasi Distance vs Price untuk setiap region\n",
    "correlations = {}\n",
    "for region in melb['Regionname'].unique():\n",
    "    region_data = melb[melb['Regionname'] == region]\n",
    "    if len(region_data) > 2:\n",
    "        corr, _ = pearsonr(region_data['Distance'], region_data['Price'])\n",
    "        correlations[region] = corr\n",
    "\n",
    "# Region paling tidak berkorelasi (nilai absolut terkecil)\n",
    "least_corr_region = min(correlations, key=lambda x: abs(correlations[x]))\n",
    "least_corr_value = correlations[least_corr_region]\n",
    "\n",
    "# Region paling berkorelasi (nilai absolut terbesar)\n",
    "most_corr_region = max(correlations, key=lambda x: abs(correlations[x]))\n",
    "most_corr_value = correlations[most_corr_region]\n",
    "\n",
    "print(f\"Region paling tidak berkorelasi: {least_corr_region}\")\n",
    "print(f\"Koefisien korelasi: {least_corr_value}\")\n",
    "print(f\"\\nRegion paling berkorelasi: {most_corr_region}\")\n",
    "print(f\"Koefisien korelasi: {most_corr_value}\")"
   ]
  },
  {
   "cell_type": "markdown",
   "id": "8e0f4d19",
   "metadata": {},
   "source": [
    "# Nomor 9\n",
    "Uji hipotesis apakah metode pembelian/Method berkaitan dengan tipe rumah/ Type (dependen) atau tidak saling berkaitan (independen)!\n",
    "\n",
    "Hypothesis:\n",
    "- Ho : The two variables are independent\n",
    "- Ha : The two variables are dependent.\n"
   ]
  },
  {
   "cell_type": "code",
   "execution_count": 57,
   "id": "b0052c00",
   "metadata": {},
   "outputs": [
    {
     "name": "stdout",
     "output_type": "stream",
     "text": [
      "\n",
      "Chi-square statistic: 120.08519425521135\n",
      "P-value: 3.183702485154338e-22\n",
      "Degrees of freedom: 8\n",
      "\n",
      "Kesimpulan: Tolak Ho (p-value 3.183702485154338e-22 < α 0.05)\n",
      "Kedua variabel Method dan Type saling berkaitan (dependent)\n"
     ]
    }
   ],
   "source": [
    "# Buat contingency table\n",
    "contingency_table = pd.crosstab(melb['Method'], melb['Type'])\n",
    "contingency_table\n",
    "\n",
    "# Lakukan Chi-square test\n",
    "chi2, p_value, dof, expected = chi2_contingency(contingency_table)\n",
    "\n",
    "print(f\"\\nChi-square statistic: {chi2}\")\n",
    "print(f\"P-value: {p_value}\")\n",
    "print(f\"Degrees of freedom: {dof}\")\n",
    "\n",
    "# Kesimpulan\n",
    "alpha = 0.05\n",
    "if p_value < alpha:\n",
    "    print(f\"\\nKesimpulan: Tolak Ho (p-value {p_value} < α {alpha})\")\n",
    "    print(\"Kedua variabel Method dan Type saling berkaitan (dependent)\")\n",
    "else:\n",
    "    print(f\"\\nKesimpulan: Gagal tolak Ho (p-value {p_value} >= α {alpha})\")\n",
    "    print(\"Kedua variabel Method dan Type tidak saling berkaitan (independent)\")"
   ]
  },
  {
   "cell_type": "markdown",
   "id": "64dc462a",
   "metadata": {},
   "source": [
    "# Nomor 10\n",
    "Uji hipotesis apakah rata-rata harga rumah (Price) antar Regionname berbeda ataukah sama! Diasumsikan persyaratan statistik parametrik terpenuhi\n",
    "\n",
    "Hipotesis:\n",
    "- Ho : μ1 = μ2 = … = μk (Rata-rata harga rumah antar Regionname sama)\n",
    "- Ha : Setidaknya ada satu pasang Regionname yang rata-rata harga rumahnya tidak sama, tapi kita tidak tahu yang mana\n"
   ]
  },
  {
   "cell_type": "code",
   "execution_count": 58,
   "id": "f08403b4",
   "metadata": {},
   "outputs": [
    {
     "name": "stdout",
     "output_type": "stream",
     "text": [
      "F-statistic: 284.4002\n",
      "P-value: 0.0000\n",
      "\n",
      "Kesimpulan: Tolak Ho (p-value 0.0000 < α 0.05)\n",
      "Rata-rata harga rumah antar Regionname berbeda secara signifikan\n"
     ]
    }
   ],
   "source": [
    "regions = melb['Regionname'].unique()\n",
    "price_by_region = [melb[melb['Regionname'] == region]['Price'].values for region in regions]\n",
    "\n",
    "# Lakukan One-way ANOVA\n",
    "f_stat, p_value = f_oneway(*price_by_region)\n",
    "\n",
    "print(f\"F-statistic: {f_stat:.4f}\")\n",
    "print(f\"P-value: {p_value:.4f}\")\n",
    "\n",
    "# Kesimpulan\n",
    "alpha = 0.05\n",
    "if p_value < alpha:\n",
    "    print(f\"\\nKesimpulan: Tolak Ho (p-value {p_value:.4f} < α {alpha})\")\n",
    "    print(\"Rata-rata harga rumah antar Regionname berbeda secara signifikan\")\n",
    "else:\n",
    "    print(f\"\\nKesimpulan: Gagal tolak Ho (p-value {p_value:.4f} >= α {alpha})\")\n",
    "    print(\"Rata-rata harga rumah antar Regionname tidak berbeda secara signifikan\")"
   ]
  }
 ],
 "metadata": {
  "kernelspec": {
   "display_name": "Python 3",
   "language": "python",
   "name": "python3"
  },
  "language_info": {
   "codemirror_mode": {
    "name": "ipython",
    "version": 3
   },
   "file_extension": ".py",
   "mimetype": "text/x-python",
   "name": "python",
   "nbconvert_exporter": "python",
   "pygments_lexer": "ipython3",
   "version": "3.12.4"
  }
 },
 "nbformat": 4,
 "nbformat_minor": 5
}
